{
 "cells": [
  {
   "cell_type": "code",
   "execution_count": 1,
   "metadata": {},
   "outputs": [],
   "source": [
    "enable_wandb = True\n",
    "if enable_wandb:\n",
    "    import wandb"
   ]
  },
  {
   "cell_type": "code",
   "execution_count": 2,
   "metadata": {},
   "outputs": [
    {
     "name": "stdout",
     "output_type": "stream",
     "text": [
      "2.4.0+cu124\n"
     ]
    }
   ],
   "source": [
    "import os\n",
    "import pdb\n",
    "import torch\n",
    "import pandas\n",
    "\n",
    "os.environ['TORCH'] = torch.__version__\n",
    "print(torch.__version__)"
   ]
  },
  {
   "cell_type": "code",
   "execution_count": 3,
   "metadata": {},
   "outputs": [],
   "source": [
    "import matplotlib.pyplot as plt\n",
    "from sklearn.manifold import TSNE\n",
    "\n",
    "def visualize(h, color):\n",
    "    z = TSNE(n_components=2).fit_transform(h.detach().cpu().numpy())\n",
    "    plt.figure(figsize=(10,10))\n",
    "    plt.xticks([])\n",
    "    plt.yticks([])\n",
    "    plt.scatter(z[:, 0], z[:, 1], s=70, c=color, cmap=\"Set2\")\n",
    "    plt.show()\n",
    "\n",
    "def embedding_to_wandb(h, color, key=\"embedding\"):\n",
    "    num_components = h.shape[-1]\n",
    "    df = pandas.DataFrame(data=h.detach().cpu().numpy(),\n",
    "                        columns=[f\"c_{i}\" for i in range(num_components)])\n",
    "    df[\"target\"] = color.detach().cpu().numpy().astype(\"str\")\n",
    "    cols = df.columns.tolist()\n",
    "    df = df[cols[-1:] + cols[:-1]]\n",
    "    wandb.log({key: df})"
   ]
  },
  {
   "cell_type": "code",
   "execution_count": 4,
   "metadata": {},
   "outputs": [
    {
     "name": "stdout",
     "output_type": "stream",
     "text": [
      "\n",
      "Dataset: Cora():\n",
      "======================\n",
      "Number of graphs: 1\n",
      "Number of features: 1433\n",
      "Number of classes: 7\n",
      "\n",
      "Data(x=[2708, 1433], edge_index=[2, 10556], y=[2708], train_mask=[2708], val_mask=[2708], test_mask=[2708])\n",
      "===========================================================================================================\n",
      "Number of nodes: 2708\n",
      "Number of edges: 10556\n",
      "Average node degree: 3.90\n",
      "Number of training nodes: 140\n",
      "Training node label rate: 0.05\n",
      "Has isolated nodes: False\n",
      "Has self-loops: False\n",
      "Is undirected: True\n"
     ]
    }
   ],
   "source": [
    "from torch_geometric.datasets import Planetoid\n",
    "from torch_geometric.transforms import NormalizeFeatures\n",
    "\n",
    "dataset = Planetoid(root='../datasets/Planetoid', name='Cora', transform=NormalizeFeatures())\n",
    "\n",
    "print()\n",
    "print(f'Dataset: {dataset}:')\n",
    "print('======================')\n",
    "print(f'Number of graphs: {len(dataset)}')\n",
    "print(f'Number of features: {dataset.num_features}')\n",
    "print(f'Number of classes: {dataset.num_classes}')\n",
    "\n",
    "data = dataset[0]  # Get the first graph object.\n",
    "\n",
    "print()\n",
    "print(data)\n",
    "print('===========================================================================================================')\n",
    "\n",
    "# Gather some statistics about the graph.\n",
    "print(f'Number of nodes: {data.num_nodes}')\n",
    "print(f'Number of edges: {data.num_edges}')\n",
    "print(f'Average node degree: {data.num_edges / data.num_nodes:.2f}')\n",
    "print(f'Number of training nodes: {data.train_mask.sum()}')\n",
    "print(f'Training node label rate: {int(data.train_mask.sum()) / data.num_nodes:.2f}')\n",
    "print(f'Has isolated nodes: {data.has_isolated_nodes()}')\n",
    "print(f'Has self-loops: {data.has_self_loops()}')\n",
    "print(f'Is undirected: {data.is_undirected()}')"
   ]
  },
  {
   "cell_type": "markdown",
   "metadata": {},
   "source": [
    "#### Train an MLP"
   ]
  },
  {
   "cell_type": "code",
   "execution_count": 5,
   "metadata": {},
   "outputs": [
    {
     "name": "stdout",
     "output_type": "stream",
     "text": [
      "MLP(\n",
      "  (lin1): Linear(in_features=1433, out_features=16, bias=True)\n",
      "  (lin2): Linear(in_features=16, out_features=7, bias=True)\n",
      ")\n"
     ]
    }
   ],
   "source": [
    "import torch\n",
    "from torch.nn import Linear\n",
    "import torch.nn.functional as F\n",
    "\n",
    "class MLP(torch.nn.Module):\n",
    "    def __init__(self, hidden_channels):\n",
    "        super().__init__()\n",
    "        torch.manual_seed(12345)\n",
    "        self.lin1 = Linear(dataset.num_features, hidden_channels)\n",
    "        self.lin2 = Linear(hidden_channels, dataset.num_classes)\n",
    "\n",
    "    def forward(self, x):\n",
    "        x = self.lin1(x)\n",
    "        x = x.relu()\n",
    "        x = F.dropout(x, p=0.5, training=self.training)\n",
    "        x = self.lin2(x)\n",
    "        return x\n",
    "\n",
    "model = MLP(hidden_channels=16)\n",
    "print(model)"
   ]
  },
  {
   "cell_type": "code",
   "execution_count": 6,
   "metadata": {},
   "outputs": [
    {
     "name": "stderr",
     "output_type": "stream",
     "text": [
      "\u001b[34m\u001b[1mwandb\u001b[0m: Using wandb-core as the SDK backend.  Please refer to https://wandb.me/wandb-core for more information.\n",
      "\u001b[34m\u001b[1mwandb\u001b[0m: Currently logged in as: \u001b[33mdeepakpokkalla\u001b[0m. Use \u001b[1m`wandb login --relogin`\u001b[0m to force relogin\n"
     ]
    },
    {
     "data": {
      "text/html": [
       "Tracking run with wandb version 0.18.7"
      ],
      "text/plain": [
       "<IPython.core.display.HTML object>"
      ]
     },
     "metadata": {},
     "output_type": "display_data"
    },
    {
     "data": {
      "text/html": [
       "Run data is saved locally in <code>d:\\users\\dpa13\\projects\\my_projects\\deeplearning_tutorials\\pytorch_geometric\\official_examples\\wandb\\run-20241122_205714-ef8smcg8</code>"
      ],
      "text/plain": [
       "<IPython.core.display.HTML object>"
      ]
     },
     "metadata": {},
     "output_type": "display_data"
    },
    {
     "data": {
      "text/html": [
       "Syncing run <strong><a href='https://wandb.ai/deepakpokkalla/node-classification/runs/ef8smcg8' target=\"_blank\">daily-dream-13</a></strong> to <a href='https://wandb.ai/deepakpokkalla/node-classification' target=\"_blank\">Weights & Biases</a> (<a href='https://wandb.me/developer-guide' target=\"_blank\">docs</a>)<br/>"
      ],
      "text/plain": [
       "<IPython.core.display.HTML object>"
      ]
     },
     "metadata": {},
     "output_type": "display_data"
    },
    {
     "data": {
      "text/html": [
       " View project at <a href='https://wandb.ai/deepakpokkalla/node-classification' target=\"_blank\">https://wandb.ai/deepakpokkalla/node-classification</a>"
      ],
      "text/plain": [
       "<IPython.core.display.HTML object>"
      ]
     },
     "metadata": {},
     "output_type": "display_data"
    },
    {
     "data": {
      "text/html": [
       " View run at <a href='https://wandb.ai/deepakpokkalla/node-classification/runs/ef8smcg8' target=\"_blank\">https://wandb.ai/deepakpokkalla/node-classification/runs/ef8smcg8</a>"
      ],
      "text/plain": [
       "<IPython.core.display.HTML object>"
      ]
     },
     "metadata": {},
     "output_type": "display_data"
    }
   ],
   "source": [
    "if enable_wandb:\n",
    "    wandb.init(project='node-classification')\n",
    "    summary = dict()\n",
    "    summary[\"data\"] = dict()\n",
    "    summary[\"data\"][\"num_features\"] = dataset.num_features\n",
    "    summary[\"data\"][\"num_classes\"] = dataset.num_classes\n",
    "    summary[\"data\"][\"num_nodes\"] = data.num_nodes\n",
    "    summary[\"data\"][\"num_edges\"] = data.num_edges \n",
    "    summary[\"data\"][\"has_isolated_nodes\"] = data.has_isolated_nodes()\n",
    "    summary[\"data\"][\"has_self_nodes\"] = data.has_self_loops()\n",
    "    summary[\"data\"][\"is_undirected\"] = data.is_undirected()\n",
    "    summary[\"data\"][\"num_training_nodes\"] = data.train_mask.sum()\n",
    "    wandb.summary = summary"
   ]
  },
  {
   "cell_type": "code",
   "execution_count": 7,
   "metadata": {},
   "outputs": [
    {
     "name": "stdout",
     "output_type": "stream",
     "text": [
      "Epoch: 001, Loss: 1.9616\n",
      "Epoch: 002, Loss: 1.9564\n",
      "Epoch: 003, Loss: 1.9495\n",
      "Epoch: 004, Loss: 1.9419\n",
      "Epoch: 005, Loss: 1.9369\n",
      "Epoch: 006, Loss: 1.9244\n",
      "Epoch: 007, Loss: 1.9196\n",
      "Epoch: 008, Loss: 1.9131\n",
      "Epoch: 009, Loss: 1.9019\n",
      "Epoch: 010, Loss: 1.8895\n",
      "Epoch: 011, Loss: 1.8737\n",
      "Epoch: 012, Loss: 1.8616\n",
      "Epoch: 013, Loss: 1.8539\n",
      "Epoch: 014, Loss: 1.8458\n",
      "Epoch: 015, Loss: 1.8197\n",
      "Epoch: 016, Loss: 1.8194\n",
      "Epoch: 017, Loss: 1.8027\n",
      "Epoch: 018, Loss: 1.7732\n",
      "Epoch: 019, Loss: 1.7733\n",
      "Epoch: 020, Loss: 1.7491\n",
      "Epoch: 021, Loss: 1.7472\n",
      "Epoch: 022, Loss: 1.7194\n",
      "Epoch: 023, Loss: 1.6962\n",
      "Epoch: 024, Loss: 1.6584\n",
      "Epoch: 025, Loss: 1.6668\n",
      "Epoch: 026, Loss: 1.6226\n",
      "Epoch: 027, Loss: 1.6333\n",
      "Epoch: 028, Loss: 1.6029\n",
      "Epoch: 029, Loss: 1.5534\n",
      "Epoch: 030, Loss: 1.5783\n",
      "Epoch: 031, Loss: 1.5381\n",
      "Epoch: 032, Loss: 1.5213\n",
      "Epoch: 033, Loss: 1.4926\n",
      "Epoch: 034, Loss: 1.4652\n",
      "Epoch: 035, Loss: 1.4754\n",
      "Epoch: 036, Loss: 1.4559\n",
      "Epoch: 037, Loss: 1.3932\n",
      "Epoch: 038, Loss: 1.3604\n",
      "Epoch: 039, Loss: 1.3321\n",
      "Epoch: 040, Loss: 1.3120\n",
      "Epoch: 041, Loss: 1.3279\n",
      "Epoch: 042, Loss: 1.2808\n",
      "Epoch: 043, Loss: 1.2763\n",
      "Epoch: 044, Loss: 1.2019\n",
      "Epoch: 045, Loss: 1.2157\n",
      "Epoch: 046, Loss: 1.2172\n",
      "Epoch: 047, Loss: 1.1339\n",
      "Epoch: 048, Loss: 1.1496\n",
      "Epoch: 049, Loss: 1.1386\n",
      "Epoch: 050, Loss: 1.0673\n",
      "Epoch: 051, Loss: 1.1616\n",
      "Epoch: 052, Loss: 1.0247\n",
      "Epoch: 053, Loss: 1.0694\n",
      "Epoch: 054, Loss: 1.0018\n",
      "Epoch: 055, Loss: 0.9785\n",
      "Epoch: 056, Loss: 1.0106\n",
      "Epoch: 057, Loss: 1.0105\n",
      "Epoch: 058, Loss: 0.9718\n",
      "Epoch: 059, Loss: 0.9639\n",
      "Epoch: 060, Loss: 0.9019\n",
      "Epoch: 061, Loss: 0.8995\n",
      "Epoch: 062, Loss: 0.8695\n",
      "Epoch: 063, Loss: 0.8682\n",
      "Epoch: 064, Loss: 0.8250\n",
      "Epoch: 065, Loss: 0.8014\n",
      "Epoch: 066, Loss: 0.8247\n",
      "Epoch: 067, Loss: 0.7925\n",
      "Epoch: 068, Loss: 0.8540\n",
      "Epoch: 069, Loss: 0.7777\n",
      "Epoch: 070, Loss: 0.8286\n",
      "Epoch: 071, Loss: 0.8134\n",
      "Epoch: 072, Loss: 0.8253\n",
      "Epoch: 073, Loss: 0.7168\n",
      "Epoch: 074, Loss: 0.7793\n",
      "Epoch: 075, Loss: 0.7405\n",
      "Epoch: 076, Loss: 0.7415\n",
      "Epoch: 077, Loss: 0.7100\n",
      "Epoch: 078, Loss: 0.6721\n",
      "Epoch: 079, Loss: 0.7407\n",
      "Epoch: 080, Loss: 0.7605\n",
      "Epoch: 081, Loss: 0.7553\n",
      "Epoch: 082, Loss: 0.7232\n",
      "Epoch: 083, Loss: 0.6985\n",
      "Epoch: 084, Loss: 0.6699\n",
      "Epoch: 085, Loss: 0.5636\n",
      "Epoch: 086, Loss: 0.7485\n",
      "Epoch: 087, Loss: 0.7064\n",
      "Epoch: 088, Loss: 0.6008\n",
      "Epoch: 089, Loss: 0.6639\n",
      "Epoch: 090, Loss: 0.7401\n",
      "Epoch: 091, Loss: 0.5986\n",
      "Epoch: 092, Loss: 0.6737\n",
      "Epoch: 093, Loss: 0.6066\n",
      "Epoch: 094, Loss: 0.5517\n",
      "Epoch: 095, Loss: 0.6073\n",
      "Epoch: 096, Loss: 0.6436\n",
      "Epoch: 097, Loss: 0.6297\n",
      "Epoch: 098, Loss: 0.6078\n",
      "Epoch: 099, Loss: 0.6225\n",
      "Epoch: 100, Loss: 0.6201\n",
      "Epoch: 101, Loss: 0.5874\n",
      "Epoch: 102, Loss: 0.6136\n",
      "Epoch: 103, Loss: 0.5951\n",
      "Epoch: 104, Loss: 0.6438\n",
      "Epoch: 105, Loss: 0.5912\n",
      "Epoch: 106, Loss: 0.5279\n",
      "Epoch: 107, Loss: 0.5831\n",
      "Epoch: 108, Loss: 0.5407\n",
      "Epoch: 109, Loss: 0.5737\n",
      "Epoch: 110, Loss: 0.5817\n",
      "Epoch: 111, Loss: 0.5497\n",
      "Epoch: 112, Loss: 0.5424\n",
      "Epoch: 113, Loss: 0.5389\n",
      "Epoch: 114, Loss: 0.5013\n",
      "Epoch: 115, Loss: 0.5692\n",
      "Epoch: 116, Loss: 0.5295\n",
      "Epoch: 117, Loss: 0.5958\n",
      "Epoch: 118, Loss: 0.4636\n",
      "Epoch: 119, Loss: 0.5565\n",
      "Epoch: 120, Loss: 0.5443\n",
      "Epoch: 121, Loss: 0.5215\n",
      "Epoch: 122, Loss: 0.6427\n",
      "Epoch: 123, Loss: 0.5298\n",
      "Epoch: 124, Loss: 0.5397\n",
      "Epoch: 125, Loss: 0.5192\n",
      "Epoch: 126, Loss: 0.5170\n",
      "Epoch: 127, Loss: 0.4237\n",
      "Epoch: 128, Loss: 0.5217\n",
      "Epoch: 129, Loss: 0.5696\n",
      "Epoch: 130, Loss: 0.4737\n",
      "Epoch: 131, Loss: 0.5383\n",
      "Epoch: 132, Loss: 0.5021\n",
      "Epoch: 133, Loss: 0.4610\n",
      "Epoch: 134, Loss: 0.4859\n",
      "Epoch: 135, Loss: 0.5373\n",
      "Epoch: 136, Loss: 0.4819\n",
      "Epoch: 137, Loss: 0.5313\n",
      "Epoch: 138, Loss: 0.5054\n",
      "Epoch: 139, Loss: 0.4998\n",
      "Epoch: 140, Loss: 0.4829\n",
      "Epoch: 141, Loss: 0.5089\n",
      "Epoch: 142, Loss: 0.4510\n",
      "Epoch: 143, Loss: 0.4862\n",
      "Epoch: 144, Loss: 0.5393\n",
      "Epoch: 145, Loss: 0.4560\n",
      "Epoch: 146, Loss: 0.5247\n",
      "Epoch: 147, Loss: 0.4129\n",
      "Epoch: 148, Loss: 0.5054\n",
      "Epoch: 149, Loss: 0.4552\n",
      "Epoch: 150, Loss: 0.5066\n",
      "Epoch: 151, Loss: 0.4362\n",
      "Epoch: 152, Loss: 0.5611\n",
      "Epoch: 153, Loss: 0.5143\n",
      "Epoch: 154, Loss: 0.4968\n",
      "Epoch: 155, Loss: 0.4920\n",
      "Epoch: 156, Loss: 0.5228\n",
      "Epoch: 157, Loss: 0.5010\n",
      "Epoch: 158, Loss: 0.4714\n",
      "Epoch: 159, Loss: 0.4345\n",
      "Epoch: 160, Loss: 0.4661\n",
      "Epoch: 161, Loss: 0.5205\n",
      "Epoch: 162, Loss: 0.4703\n",
      "Epoch: 163, Loss: 0.5345\n",
      "Epoch: 164, Loss: 0.4197\n",
      "Epoch: 165, Loss: 0.4318\n",
      "Epoch: 166, Loss: 0.4903\n",
      "Epoch: 167, Loss: 0.5184\n",
      "Epoch: 168, Loss: 0.4699\n",
      "Epoch: 169, Loss: 0.4549\n",
      "Epoch: 170, Loss: 0.5010\n",
      "Epoch: 171, Loss: 0.4726\n",
      "Epoch: 172, Loss: 0.4575\n",
      "Epoch: 173, Loss: 0.4919\n",
      "Epoch: 174, Loss: 0.4836\n",
      "Epoch: 175, Loss: 0.4397\n",
      "Epoch: 176, Loss: 0.4571\n",
      "Epoch: 177, Loss: 0.4768\n",
      "Epoch: 178, Loss: 0.4378\n",
      "Epoch: 179, Loss: 0.4794\n",
      "Epoch: 180, Loss: 0.4498\n",
      "Epoch: 181, Loss: 0.4129\n",
      "Epoch: 182, Loss: 0.4909\n",
      "Epoch: 183, Loss: 0.4914\n",
      "Epoch: 184, Loss: 0.5126\n",
      "Epoch: 185, Loss: 0.5183\n",
      "Epoch: 186, Loss: 0.5523\n",
      "Epoch: 187, Loss: 0.4115\n",
      "Epoch: 188, Loss: 0.5726\n",
      "Epoch: 189, Loss: 0.4529\n",
      "Epoch: 190, Loss: 0.4602\n",
      "Epoch: 191, Loss: 0.3932\n",
      "Epoch: 192, Loss: 0.4640\n",
      "Epoch: 193, Loss: 0.4624\n",
      "Epoch: 194, Loss: 0.4684\n",
      "Epoch: 195, Loss: 0.4069\n",
      "Epoch: 196, Loss: 0.4914\n",
      "Epoch: 197, Loss: 0.5102\n",
      "Epoch: 198, Loss: 0.4421\n",
      "Epoch: 199, Loss: 0.4751\n",
      "Epoch: 200, Loss: 0.4655\n"
     ]
    }
   ],
   "source": [
    "model = MLP(hidden_channels=16)\n",
    "\n",
    "with torch.no_grad():\n",
    "  out = model(data.x)\n",
    "\n",
    "if enable_wandb:\n",
    "    embedding_to_wandb(out, color=data.y, key=\"mlp/embedding/init\")\n",
    "else:\n",
    "    visualize(out, data.y)\n",
    "\n",
    "criterion = torch.nn.CrossEntropyLoss()  # Define loss criterion.\n",
    "optimizer = torch.optim.Adam(model.parameters(), lr=0.01, weight_decay=5e-4)  # Define optimizer.\n",
    "\n",
    "def train():\n",
    "      model.train()\n",
    "      optimizer.zero_grad()  # Clear gradients.\n",
    "      out = model(data.x)  # Perform a single forward pass.\n",
    "      loss = criterion(out[data.train_mask], data.y[data.train_mask])  # Compute the loss solely based on the training nodes.\n",
    "      loss.backward()  # Derive gradients.\n",
    "      optimizer.step()  # Update parameters based on gradients.\n",
    "      return loss\n",
    "\n",
    "def test():\n",
    "      model.eval()\n",
    "      out = model(data.x)\n",
    "      pred = out.argmax(dim=1)  # Use the class with highest probability.\n",
    "      test_correct = pred[data.test_mask] == data.y[data.test_mask]  # Check against ground-truth labels.\n",
    "      test_acc = int(test_correct.sum()) / int(data.test_mask.sum())  # Derive ratio of correct predictions.\n",
    "      return test_acc\n",
    "\n",
    "for epoch in range(1, 201):\n",
    "    loss = train()\n",
    "    if enable_wandb:\n",
    "        wandb.log({\"mlp/loss\": loss})\n",
    "    print(f'Epoch: {epoch:03d}, Loss: {loss:.4f}')"
   ]
  },
  {
   "cell_type": "code",
   "execution_count": 8,
   "metadata": {},
   "outputs": [
    {
     "name": "stdout",
     "output_type": "stream",
     "text": [
      "Test Accuracy: 0.6040\n"
     ]
    }
   ],
   "source": [
    "test_acc = test()\n",
    "\n",
    "out = model(data.x)\n",
    "if enable_wandb:\n",
    "    embedding_to_wandb(out, color=data.y, key=\"mlp/embedding/trained\")\n",
    "    wandb.summary[\"mlp/accuracy\"] = test_acc\n",
    "    wandb.log({\"mlp/accuracy\": test_acc})\n",
    "else:\n",
    "  visualize(out, data.y)\n",
    "\n",
    "print(f'Test Accuracy: {test_acc:.4f}')"
   ]
  },
  {
   "cell_type": "markdown",
   "metadata": {},
   "source": [
    "#### Train a GNN"
   ]
  },
  {
   "cell_type": "code",
   "execution_count": 9,
   "metadata": {},
   "outputs": [
    {
     "name": "stdout",
     "output_type": "stream",
     "text": [
      "GCN(\n",
      "  (conv1): GCNConv(1433, 16)\n",
      "  (conv2): GCNConv(16, 7)\n",
      ")\n"
     ]
    }
   ],
   "source": [
    "from torch_geometric.nn import GCNConv\n",
    "\n",
    "class GCN(torch.nn.Module):\n",
    "    def __init__(self, hidden_channels):\n",
    "        super().__init__()\n",
    "        torch.manual_seed(12345)\n",
    "        self.conv1 = GCNConv(dataset.num_features,hidden_channels)\n",
    "        self.conv2 = GCNConv(hidden_channels, dataset.num_classes)\n",
    "    \n",
    "    def forward(self,x,edge_index):\n",
    "        x = self.conv1(x, edge_index)\n",
    "        x = x.relu()\n",
    "        x = F.dropout(x, p=0.5, training=self.training)\n",
    "        x = self.conv2(x, edge_index)\n",
    "        return x\n",
    "\n",
    "model = GCN(hidden_channels=16)\n",
    "print(model)"
   ]
  },
  {
   "cell_type": "code",
   "execution_count": 10,
   "metadata": {},
   "outputs": [],
   "source": [
    "model = GCN(16)\n",
    "model.eval()\n",
    "\n",
    "out = model(data.x, data.edge_index)\n",
    "\n",
    "if enable_wandb:\n",
    "    embedding_to_wandb(out, color=data.y, key=\"gcn/embedding/init\")\n",
    "else:\n",
    "    visualize(out, data.y)"
   ]
  },
  {
   "cell_type": "code",
   "execution_count": 11,
   "metadata": {},
   "outputs": [
    {
     "name": "stdout",
     "output_type": "stream",
     "text": [
      "Epoch: 001, Loss: 1.9458\n",
      "Epoch: 002, Loss: 1.9502\n",
      "Epoch: 003, Loss: 1.9353\n",
      "Epoch: 004, Loss: 1.9271\n",
      "Epoch: 005, Loss: 1.9169\n",
      "Epoch: 006, Loss: 1.9113\n",
      "Epoch: 007, Loss: 1.9394\n",
      "Epoch: 008, Loss: 1.9089\n",
      "Epoch: 009, Loss: 1.8967\n",
      "Epoch: 010, Loss: 1.8916\n",
      "Epoch: 011, Loss: 1.8978\n",
      "Epoch: 012, Loss: 1.8800\n",
      "Epoch: 013, Loss: 1.8824\n",
      "Epoch: 014, Loss: 1.8631\n",
      "Epoch: 015, Loss: 1.8680\n",
      "Epoch: 016, Loss: 1.8650\n",
      "Epoch: 017, Loss: 1.8482\n",
      "Epoch: 018, Loss: 1.8586\n",
      "Epoch: 019, Loss: 1.8370\n",
      "Epoch: 020, Loss: 1.8349\n",
      "Epoch: 021, Loss: 1.8152\n",
      "Epoch: 022, Loss: 1.8143\n",
      "Epoch: 023, Loss: 1.8129\n",
      "Epoch: 024, Loss: 1.8044\n",
      "Epoch: 025, Loss: 1.8160\n",
      "Epoch: 026, Loss: 1.7999\n",
      "Epoch: 027, Loss: 1.7881\n",
      "Epoch: 028, Loss: 1.8017\n",
      "Epoch: 029, Loss: 1.7710\n",
      "Epoch: 030, Loss: 1.7840\n",
      "Epoch: 031, Loss: 1.7550\n",
      "Epoch: 032, Loss: 1.7180\n",
      "Epoch: 033, Loss: 1.7393\n",
      "Epoch: 034, Loss: 1.8064\n",
      "Epoch: 035, Loss: 1.7348\n",
      "Epoch: 036, Loss: 1.7096\n",
      "Epoch: 037, Loss: 1.6780\n",
      "Epoch: 038, Loss: 1.6875\n",
      "Epoch: 039, Loss: 1.6763\n",
      "Epoch: 040, Loss: 1.6855\n",
      "Epoch: 041, Loss: 1.6591\n",
      "Epoch: 042, Loss: 1.6578\n",
      "Epoch: 043, Loss: 1.6177\n",
      "Epoch: 044, Loss: 1.6359\n",
      "Epoch: 045, Loss: 1.6345\n",
      "Epoch: 046, Loss: 1.6504\n",
      "Epoch: 047, Loss: 1.5937\n",
      "Epoch: 048, Loss: 1.5901\n",
      "Epoch: 049, Loss: 1.6029\n",
      "Epoch: 050, Loss: 1.5559\n",
      "Epoch: 051, Loss: 1.5417\n",
      "Epoch: 052, Loss: 1.5683\n",
      "Epoch: 053, Loss: 1.5245\n",
      "Epoch: 054, Loss: 1.5415\n",
      "Epoch: 055, Loss: 1.4930\n",
      "Epoch: 056, Loss: 1.5386\n",
      "Epoch: 057, Loss: 1.5021\n",
      "Epoch: 058, Loss: 1.5185\n",
      "Epoch: 059, Loss: 1.5424\n",
      "Epoch: 060, Loss: 1.4749\n",
      "Epoch: 061, Loss: 1.4509\n",
      "Epoch: 062, Loss: 1.5093\n",
      "Epoch: 063, Loss: 1.4902\n",
      "Epoch: 064, Loss: 1.4160\n",
      "Epoch: 065, Loss: 1.3993\n",
      "Epoch: 066, Loss: 1.3844\n",
      "Epoch: 067, Loss: 1.3901\n",
      "Epoch: 068, Loss: 1.4043\n",
      "Epoch: 069, Loss: 1.3949\n",
      "Epoch: 070, Loss: 1.3521\n",
      "Epoch: 071, Loss: 1.3591\n",
      "Epoch: 072, Loss: 1.3109\n",
      "Epoch: 073, Loss: 1.4419\n",
      "Epoch: 074, Loss: 1.3078\n",
      "Epoch: 075, Loss: 1.3413\n",
      "Epoch: 076, Loss: 1.4383\n",
      "Epoch: 077, Loss: 1.3239\n",
      "Epoch: 078, Loss: 1.3144\n",
      "Epoch: 079, Loss: 1.2444\n",
      "Epoch: 080, Loss: 1.1910\n",
      "Epoch: 081, Loss: 1.2528\n",
      "Epoch: 082, Loss: 1.2483\n",
      "Epoch: 083, Loss: 1.1652\n",
      "Epoch: 084, Loss: 1.1194\n",
      "Epoch: 085, Loss: 1.1818\n",
      "Epoch: 086, Loss: 1.2179\n",
      "Epoch: 087, Loss: 1.2352\n",
      "Epoch: 088, Loss: 1.1631\n",
      "Epoch: 089, Loss: 1.4331\n",
      "Epoch: 090, Loss: 1.4678\n",
      "Epoch: 091, Loss: 1.1882\n",
      "Epoch: 092, Loss: 1.1241\n",
      "Epoch: 093, Loss: 1.3656\n",
      "Epoch: 094, Loss: 1.1478\n",
      "Epoch: 095, Loss: 1.0882\n",
      "Epoch: 096, Loss: 1.0916\n",
      "Epoch: 097, Loss: 1.0835\n",
      "Epoch: 098, Loss: 1.0179\n",
      "Epoch: 099, Loss: 1.1552\n",
      "Epoch: 100, Loss: 1.1622\n"
     ]
    }
   ],
   "source": [
    "model = GCN(hidden_channels=16)\n",
    "if enable_wandb:\n",
    "    wandb.watch(model)\n",
    "\n",
    "optimizer = torch.optim.Adam(model.parameters(), lr=0.01, weight_decay=5e-4)\n",
    "criterion = torch.nn.CrossEntropyLoss()\n",
    "\n",
    "def train():\n",
    "      model.train()\n",
    "      optimizer.zero_grad()  # Clear gradients.\n",
    "      out = model(data.x, data.edge_index)  # Perform a single forward pass.\n",
    "      loss = criterion(out[data.train_mask], data.y[data.train_mask])  # Compute the loss solely based on the training nodes.\n",
    "      loss.backward()  # Derive gradients.\n",
    "      optimizer.step()  # Update parameters based on gradients.\n",
    "      return loss\n",
    "\n",
    "def test():\n",
    "      model.eval()\n",
    "      out = model(data.x, data.edge_index)\n",
    "      pred = out.argmax(dim=1)  # Use the class with highest probability.\n",
    "      test_correct = pred[data.test_mask] == data.y[data.test_mask]  # Check against ground-truth labels.\n",
    "      test_acc = int(test_correct.sum()) / int(data.test_mask.sum())  # Derive ratio of correct predictions.\n",
    "      return test_acc\n",
    "\n",
    "\n",
    "for epoch in range(1, 101):\n",
    "    loss = train()\n",
    "    if enable_wandb:\n",
    "        wandb.log({\"gcn/loss\": loss})\n",
    "    print(f'Epoch: {epoch:03d}, Loss: {loss:.4f}')"
   ]
  },
  {
   "cell_type": "code",
   "execution_count": 12,
   "metadata": {},
   "outputs": [
    {
     "name": "stdout",
     "output_type": "stream",
     "text": [
      "Test Accuracy: 0.7330\n"
     ]
    }
   ],
   "source": [
    "test_acc = test()\n",
    "print(f'Test Accuracy: {test_acc:.4f}')"
   ]
  },
  {
   "cell_type": "code",
   "execution_count": 13,
   "metadata": {},
   "outputs": [
    {
     "data": {
      "text/html": [
       "\n",
       "    <style>\n",
       "        .wandb-row {\n",
       "            display: flex;\n",
       "            flex-direction: row;\n",
       "            flex-wrap: wrap;\n",
       "            justify-content: flex-start;\n",
       "            width: 100%;\n",
       "        }\n",
       "        .wandb-col {\n",
       "            display: flex;\n",
       "            flex-direction: column;\n",
       "            flex-basis: 100%;\n",
       "            flex: 1;\n",
       "            padding: 10px;\n",
       "        }\n",
       "    </style>\n",
       "<div class=\"wandb-row\"><div class=\"wandb-col\"><h3>Run history:</h3><br/><table class=\"wandb\"><tr><td>gcn/accuracy</td><td>▁</td></tr><tr><td>gcn/loss</td><td>███▇▇▇▇▇▇▇▆▆▆▆▆▆▆▅▅▆▅▅▅▅▄▄▄▃▃▃▃▄▃▃▂▂▁▂▂▁</td></tr><tr><td>mlp/accuracy</td><td>▁</td></tr><tr><td>mlp/loss</td><td>█████▇▇▆▆▆▆▅▄▄▄▄▃▃▂▂▂▂▂▂▁▂▁▂▁▁▁▁▁▂▁▁▁▁▁▂</td></tr></table><br/></div><div class=\"wandb-col\"><h3>Run summary:</h3><br/><table class=\"wandb\"><tr><td>gcn/accuracy</td><td>0.733</td></tr><tr><td>gcn/loss</td><td>1.16221</td></tr><tr><td>mlp/accuracy</td><td>0.604</td></tr><tr><td>mlp/loss</td><td>0.46549</td></tr></table><br/></div></div>"
      ],
      "text/plain": [
       "<IPython.core.display.HTML object>"
      ]
     },
     "metadata": {},
     "output_type": "display_data"
    },
    {
     "data": {
      "text/html": [
       " View run <strong style=\"color:#cdcd00\">daily-dream-13</strong> at: <a href='https://wandb.ai/deepakpokkalla/node-classification/runs/ef8smcg8' target=\"_blank\">https://wandb.ai/deepakpokkalla/node-classification/runs/ef8smcg8</a><br/> View project at: <a href='https://wandb.ai/deepakpokkalla/node-classification' target=\"_blank\">https://wandb.ai/deepakpokkalla/node-classification</a><br/>Synced 5 W&B file(s), 0 media file(s), 10 artifact file(s) and 4 other file(s)"
      ],
      "text/plain": [
       "<IPython.core.display.HTML object>"
      ]
     },
     "metadata": {},
     "output_type": "display_data"
    },
    {
     "data": {
      "text/html": [
       "Find logs at: <code>.\\wandb\\run-20241122_205714-ef8smcg8\\logs</code>"
      ],
      "text/plain": [
       "<IPython.core.display.HTML object>"
      ]
     },
     "metadata": {},
     "output_type": "display_data"
    }
   ],
   "source": [
    "model.eval()\n",
    "\n",
    "out = model(data.x, data.edge_index)\n",
    "\n",
    "if enable_wandb:\n",
    "    wandb.summary[\"gcn/accuracy\"] = test_acc\n",
    "    wandb.log({\"gcn/accuracy\": test_acc})\n",
    "    embedding_to_wandb(out, color=data.y, key=\"gcn/embedding/trained\")\n",
    "    wandb.finish()\n",
    "else:\n",
    "    visualize(out, data.y)"
   ]
  },
  {
   "cell_type": "code",
   "execution_count": 14,
   "metadata": {},
   "outputs": [],
   "source": [
    "assert enable_wandb, \"W&B not enabled. Please, enable W&B and restart the notebook\""
   ]
  },
  {
   "cell_type": "code",
   "execution_count": 15,
   "metadata": {},
   "outputs": [],
   "source": [
    "import tqdm\n",
    "\n",
    "def agent_fn():\n",
    "    wandb.init()\n",
    "    model = GCN(hidden_channels=wandb.config.hidden_channels)\n",
    "    wandb.watch(model)\n",
    "\n",
    "    with torch.no_grad():\n",
    "      out = model(data.x, data.edge_index)\n",
    "      embedding_to_wandb(out, color=data.y, key=\"gcn/embedding/init\")\n",
    "\n",
    "    optimizer = torch.optim.Adam(model.parameters(), lr=wandb.config.lr, weight_decay=wandb.config.weight_decay)\n",
    "    criterion = torch.nn.CrossEntropyLoss()\n",
    "\n",
    "    def train():\n",
    "          model.train()\n",
    "          optimizer.zero_grad()  # Clear gradients.\n",
    "          out = model(data.x, data.edge_index)  # Perform a single forward pass.\n",
    "          loss = criterion(out[data.train_mask], data.y[data.train_mask])  # Compute the loss solely based on the training nodes.\n",
    "          loss.backward()  # Derive gradients.\n",
    "          optimizer.step()  # Update parameters based on gradients.\n",
    "          return loss\n",
    "\n",
    "    def test():\n",
    "          model.eval()\n",
    "          out = model(data.x, data.edge_index)\n",
    "          pred = out.argmax(dim=1)  # Use the class with highest probability.\n",
    "          test_correct = pred[data.test_mask] == data.y[data.test_mask]  # Check against ground-truth labels.\n",
    "          test_acc = int(test_correct.sum()) / int(data.test_mask.sum())  # Derive ratio of correct predictions.\n",
    "          return test_acc\n",
    "\n",
    "\n",
    "    for epoch in tqdm.tqdm(range(1, 101)):\n",
    "        loss = train()\n",
    "        wandb.log({\"gcn/loss\": loss})\n",
    "\n",
    "\n",
    "    model.eval()\n",
    "\n",
    "    out = model(data.x, data.edge_index)\n",
    "    test_acc = test()\n",
    "    wandb.summary[\"gcn/accuracy\"] = test_acc\n",
    "    wandb.log({\"gcn/accuracy\": test_acc})\n",
    "    embedding_to_wandb(out, color=data.y, key=\"gcn/embedding/trained\")\n",
    "    wandb.finish()"
   ]
  },
  {
   "cell_type": "code",
   "execution_count": 16,
   "metadata": {},
   "outputs": [
    {
     "name": "stdout",
     "output_type": "stream",
     "text": [
      "Create sweep with ID: reuf9j38\n",
      "Sweep URL: https://wandb.ai/deepakpokkalla/node-classification/sweeps/reuf9j38\n"
     ]
    }
   ],
   "source": [
    "sweep_config = {\n",
    "    \"name\": \"gcn-sweep\",\n",
    "    \"method\": \"bayes\",\n",
    "    \"metric\": {\n",
    "        \"name\": \"gcn/accuracy\",\n",
    "        \"goal\": \"maximize\",\n",
    "    },\n",
    "    \"parameters\": {\n",
    "        \"hidden_channels\": {\n",
    "            \"values\": [8, 16, 32]\n",
    "        },\n",
    "        \"weight_decay\": {\n",
    "            \"distribution\": \"normal\",\n",
    "            \"mu\": 5e-4,\n",
    "            \"sigma\": 1e-5,\n",
    "        },\n",
    "        \"lr\": {\n",
    "            \"min\": 1e-4,\n",
    "            \"max\": 1e-3\n",
    "        }\n",
    "    }\n",
    "}\n",
    "\n",
    "# Register the Sweep with W&B\n",
    "sweep_id = wandb.sweep(sweep_config, project=\"node-classification\")"
   ]
  },
  {
   "cell_type": "code",
   "execution_count": 17,
   "metadata": {},
   "outputs": [
    {
     "name": "stderr",
     "output_type": "stream",
     "text": [
      "\u001b[34m\u001b[1mwandb\u001b[0m: Agent Starting Run: jipt0p0l with config:\n",
      "\u001b[34m\u001b[1mwandb\u001b[0m: \thidden_channels: 32\n",
      "\u001b[34m\u001b[1mwandb\u001b[0m: \tlr: 0.0005237706785240348\n",
      "\u001b[34m\u001b[1mwandb\u001b[0m: \tweight_decay: 0.0005099180254108767\n"
     ]
    },
    {
     "data": {
      "text/html": [
       "Tracking run with wandb version 0.18.7"
      ],
      "text/plain": [
       "<IPython.core.display.HTML object>"
      ]
     },
     "metadata": {},
     "output_type": "display_data"
    },
    {
     "data": {
      "text/html": [
       "Run data is saved locally in <code>d:\\users\\dpa13\\projects\\my_projects\\deeplearning_tutorials\\pytorch_geometric\\official_examples\\wandb\\run-20241122_210150-jipt0p0l</code>"
      ],
      "text/plain": [
       "<IPython.core.display.HTML object>"
      ]
     },
     "metadata": {},
     "output_type": "display_data"
    },
    {
     "data": {
      "text/html": [
       "Syncing run <strong><a href='https://wandb.ai/deepakpokkalla/node-classification/runs/jipt0p0l' target=\"_blank\">woven-sweep-1</a></strong> to <a href='https://wandb.ai/deepakpokkalla/node-classification' target=\"_blank\">Weights & Biases</a> (<a href='https://wandb.me/developer-guide' target=\"_blank\">docs</a>)<br/>Sweep page: <a href='https://wandb.ai/deepakpokkalla/node-classification/sweeps/reuf9j38' target=\"_blank\">https://wandb.ai/deepakpokkalla/node-classification/sweeps/reuf9j38</a>"
      ],
      "text/plain": [
       "<IPython.core.display.HTML object>"
      ]
     },
     "metadata": {},
     "output_type": "display_data"
    },
    {
     "data": {
      "text/html": [
       " View project at <a href='https://wandb.ai/deepakpokkalla/node-classification' target=\"_blank\">https://wandb.ai/deepakpokkalla/node-classification</a>"
      ],
      "text/plain": [
       "<IPython.core.display.HTML object>"
      ]
     },
     "metadata": {},
     "output_type": "display_data"
    },
    {
     "data": {
      "text/html": [
       " View sweep at <a href='https://wandb.ai/deepakpokkalla/node-classification/sweeps/reuf9j38' target=\"_blank\">https://wandb.ai/deepakpokkalla/node-classification/sweeps/reuf9j38</a>"
      ],
      "text/plain": [
       "<IPython.core.display.HTML object>"
      ]
     },
     "metadata": {},
     "output_type": "display_data"
    },
    {
     "data": {
      "text/html": [
       " View run at <a href='https://wandb.ai/deepakpokkalla/node-classification/runs/jipt0p0l' target=\"_blank\">https://wandb.ai/deepakpokkalla/node-classification/runs/jipt0p0l</a>"
      ],
      "text/plain": [
       "<IPython.core.display.HTML object>"
      ]
     },
     "metadata": {},
     "output_type": "display_data"
    },
    {
     "name": "stderr",
     "output_type": "stream",
     "text": [
      "100%|██████████| 100/100 [00:01<00:00, 66.06it/s]\n"
     ]
    },
    {
     "data": {
      "text/html": [
       "\n",
       "    <style>\n",
       "        .wandb-row {\n",
       "            display: flex;\n",
       "            flex-direction: row;\n",
       "            flex-wrap: wrap;\n",
       "            justify-content: flex-start;\n",
       "            width: 100%;\n",
       "        }\n",
       "        .wandb-col {\n",
       "            display: flex;\n",
       "            flex-direction: column;\n",
       "            flex-basis: 100%;\n",
       "            flex: 1;\n",
       "            padding: 10px;\n",
       "        }\n",
       "    </style>\n",
       "<div class=\"wandb-row\"><div class=\"wandb-col\"><h3>Run history:</h3><br/><table class=\"wandb\"><tr><td>gcn/accuracy</td><td>▁</td></tr><tr><td>gcn/loss</td><td>████▇▇▇▇▇▇▆▆▆▆▆▅▅▅▅▅▅▅▅▄▄▄▄▄▃▃▄▄▃▃▃▂▂▂▂▁</td></tr></table><br/></div><div class=\"wandb-col\"><h3>Run summary:</h3><br/><table class=\"wandb\"><tr><td>gcn/accuracy</td><td>0.656</td></tr><tr><td>gcn/loss</td><td>1.85847</td></tr></table><br/></div></div>"
      ],
      "text/plain": [
       "<IPython.core.display.HTML object>"
      ]
     },
     "metadata": {},
     "output_type": "display_data"
    },
    {
     "data": {
      "text/html": [
       " View run <strong style=\"color:#cdcd00\">woven-sweep-1</strong> at: <a href='https://wandb.ai/deepakpokkalla/node-classification/runs/jipt0p0l' target=\"_blank\">https://wandb.ai/deepakpokkalla/node-classification/runs/jipt0p0l</a><br/> View project at: <a href='https://wandb.ai/deepakpokkalla/node-classification' target=\"_blank\">https://wandb.ai/deepakpokkalla/node-classification</a><br/>Synced 5 W&B file(s), 0 media file(s), 6 artifact file(s) and 2 other file(s)"
      ],
      "text/plain": [
       "<IPython.core.display.HTML object>"
      ]
     },
     "metadata": {},
     "output_type": "display_data"
    },
    {
     "data": {
      "text/html": [
       "Find logs at: <code>.\\wandb\\run-20241122_210150-jipt0p0l\\logs</code>"
      ],
      "text/plain": [
       "<IPython.core.display.HTML object>"
      ]
     },
     "metadata": {},
     "output_type": "display_data"
    },
    {
     "name": "stderr",
     "output_type": "stream",
     "text": [
      "\u001b[34m\u001b[1mwandb\u001b[0m: Agent Starting Run: dc325fij with config:\n",
      "\u001b[34m\u001b[1mwandb\u001b[0m: \thidden_channels: 32\n",
      "\u001b[34m\u001b[1mwandb\u001b[0m: \tlr: 0.000407479305099397\n",
      "\u001b[34m\u001b[1mwandb\u001b[0m: \tweight_decay: 0.0005065688541132341\n"
     ]
    },
    {
     "data": {
      "text/html": [
       "Tracking run with wandb version 0.18.7"
      ],
      "text/plain": [
       "<IPython.core.display.HTML object>"
      ]
     },
     "metadata": {},
     "output_type": "display_data"
    },
    {
     "data": {
      "text/html": [
       "Run data is saved locally in <code>d:\\users\\dpa13\\projects\\my_projects\\deeplearning_tutorials\\pytorch_geometric\\official_examples\\wandb\\run-20241122_210200-dc325fij</code>"
      ],
      "text/plain": [
       "<IPython.core.display.HTML object>"
      ]
     },
     "metadata": {},
     "output_type": "display_data"
    },
    {
     "data": {
      "text/html": [
       "Syncing run <strong><a href='https://wandb.ai/deepakpokkalla/node-classification/runs/dc325fij' target=\"_blank\">dry-sweep-2</a></strong> to <a href='https://wandb.ai/deepakpokkalla/node-classification' target=\"_blank\">Weights & Biases</a> (<a href='https://wandb.me/developer-guide' target=\"_blank\">docs</a>)<br/>Sweep page: <a href='https://wandb.ai/deepakpokkalla/node-classification/sweeps/reuf9j38' target=\"_blank\">https://wandb.ai/deepakpokkalla/node-classification/sweeps/reuf9j38</a>"
      ],
      "text/plain": [
       "<IPython.core.display.HTML object>"
      ]
     },
     "metadata": {},
     "output_type": "display_data"
    },
    {
     "data": {
      "text/html": [
       " View project at <a href='https://wandb.ai/deepakpokkalla/node-classification' target=\"_blank\">https://wandb.ai/deepakpokkalla/node-classification</a>"
      ],
      "text/plain": [
       "<IPython.core.display.HTML object>"
      ]
     },
     "metadata": {},
     "output_type": "display_data"
    },
    {
     "data": {
      "text/html": [
       " View sweep at <a href='https://wandb.ai/deepakpokkalla/node-classification/sweeps/reuf9j38' target=\"_blank\">https://wandb.ai/deepakpokkalla/node-classification/sweeps/reuf9j38</a>"
      ],
      "text/plain": [
       "<IPython.core.display.HTML object>"
      ]
     },
     "metadata": {},
     "output_type": "display_data"
    },
    {
     "data": {
      "text/html": [
       " View run at <a href='https://wandb.ai/deepakpokkalla/node-classification/runs/dc325fij' target=\"_blank\">https://wandb.ai/deepakpokkalla/node-classification/runs/dc325fij</a>"
      ],
      "text/plain": [
       "<IPython.core.display.HTML object>"
      ]
     },
     "metadata": {},
     "output_type": "display_data"
    },
    {
     "name": "stderr",
     "output_type": "stream",
     "text": [
      "100%|██████████| 100/100 [00:02<00:00, 40.55it/s]\n"
     ]
    },
    {
     "data": {
      "text/html": [
       "\n",
       "    <style>\n",
       "        .wandb-row {\n",
       "            display: flex;\n",
       "            flex-direction: row;\n",
       "            flex-wrap: wrap;\n",
       "            justify-content: flex-start;\n",
       "            width: 100%;\n",
       "        }\n",
       "        .wandb-col {\n",
       "            display: flex;\n",
       "            flex-direction: column;\n",
       "            flex-basis: 100%;\n",
       "            flex: 1;\n",
       "            padding: 10px;\n",
       "        }\n",
       "    </style>\n",
       "<div class=\"wandb-row\"><div class=\"wandb-col\"><h3>Run history:</h3><br/><table class=\"wandb\"><tr><td>gcn/accuracy</td><td>▁</td></tr><tr><td>gcn/loss</td><td>▇▇▆▆▆▆▇█▆▆▅▅▅▆▅▅▄▄▅▄▅▄▄▄▄▃▃▃▃▃▃▂▃▂▂▂▂▂▁▁</td></tr></table><br/></div><div class=\"wandb-col\"><h3>Run summary:</h3><br/><table class=\"wandb\"><tr><td>gcn/accuracy</td><td>0.578</td></tr><tr><td>gcn/loss</td><td>1.88515</td></tr></table><br/></div></div>"
      ],
      "text/plain": [
       "<IPython.core.display.HTML object>"
      ]
     },
     "metadata": {},
     "output_type": "display_data"
    },
    {
     "data": {
      "text/html": [
       " View run <strong style=\"color:#cdcd00\">dry-sweep-2</strong> at: <a href='https://wandb.ai/deepakpokkalla/node-classification/runs/dc325fij' target=\"_blank\">https://wandb.ai/deepakpokkalla/node-classification/runs/dc325fij</a><br/> View project at: <a href='https://wandb.ai/deepakpokkalla/node-classification' target=\"_blank\">https://wandb.ai/deepakpokkalla/node-classification</a><br/>Synced 5 W&B file(s), 0 media file(s), 4 artifact file(s) and 2 other file(s)"
      ],
      "text/plain": [
       "<IPython.core.display.HTML object>"
      ]
     },
     "metadata": {},
     "output_type": "display_data"
    },
    {
     "data": {
      "text/html": [
       "Find logs at: <code>.\\wandb\\run-20241122_210200-dc325fij\\logs</code>"
      ],
      "text/plain": [
       "<IPython.core.display.HTML object>"
      ]
     },
     "metadata": {},
     "output_type": "display_data"
    },
    {
     "name": "stderr",
     "output_type": "stream",
     "text": [
      "\u001b[34m\u001b[1mwandb\u001b[0m: Agent Starting Run: 7bk2vpw9 with config:\n",
      "\u001b[34m\u001b[1mwandb\u001b[0m: \thidden_channels: 8\n",
      "\u001b[34m\u001b[1mwandb\u001b[0m: \tlr: 0.0001133875412589833\n",
      "\u001b[34m\u001b[1mwandb\u001b[0m: \tweight_decay: 0.0005012985375049087\n"
     ]
    },
    {
     "data": {
      "text/html": [
       "Tracking run with wandb version 0.18.7"
      ],
      "text/plain": [
       "<IPython.core.display.HTML object>"
      ]
     },
     "metadata": {},
     "output_type": "display_data"
    },
    {
     "data": {
      "text/html": [
       "Run data is saved locally in <code>d:\\users\\dpa13\\projects\\my_projects\\deeplearning_tutorials\\pytorch_geometric\\official_examples\\wandb\\run-20241122_210210-7bk2vpw9</code>"
      ],
      "text/plain": [
       "<IPython.core.display.HTML object>"
      ]
     },
     "metadata": {},
     "output_type": "display_data"
    },
    {
     "data": {
      "text/html": [
       "Syncing run <strong><a href='https://wandb.ai/deepakpokkalla/node-classification/runs/7bk2vpw9' target=\"_blank\">electric-sweep-3</a></strong> to <a href='https://wandb.ai/deepakpokkalla/node-classification' target=\"_blank\">Weights & Biases</a> (<a href='https://wandb.me/developer-guide' target=\"_blank\">docs</a>)<br/>Sweep page: <a href='https://wandb.ai/deepakpokkalla/node-classification/sweeps/reuf9j38' target=\"_blank\">https://wandb.ai/deepakpokkalla/node-classification/sweeps/reuf9j38</a>"
      ],
      "text/plain": [
       "<IPython.core.display.HTML object>"
      ]
     },
     "metadata": {},
     "output_type": "display_data"
    },
    {
     "data": {
      "text/html": [
       " View project at <a href='https://wandb.ai/deepakpokkalla/node-classification' target=\"_blank\">https://wandb.ai/deepakpokkalla/node-classification</a>"
      ],
      "text/plain": [
       "<IPython.core.display.HTML object>"
      ]
     },
     "metadata": {},
     "output_type": "display_data"
    },
    {
     "data": {
      "text/html": [
       " View sweep at <a href='https://wandb.ai/deepakpokkalla/node-classification/sweeps/reuf9j38' target=\"_blank\">https://wandb.ai/deepakpokkalla/node-classification/sweeps/reuf9j38</a>"
      ],
      "text/plain": [
       "<IPython.core.display.HTML object>"
      ]
     },
     "metadata": {},
     "output_type": "display_data"
    },
    {
     "data": {
      "text/html": [
       " View run at <a href='https://wandb.ai/deepakpokkalla/node-classification/runs/7bk2vpw9' target=\"_blank\">https://wandb.ai/deepakpokkalla/node-classification/runs/7bk2vpw9</a>"
      ],
      "text/plain": [
       "<IPython.core.display.HTML object>"
      ]
     },
     "metadata": {},
     "output_type": "display_data"
    },
    {
     "name": "stderr",
     "output_type": "stream",
     "text": [
      "100%|██████████| 100/100 [00:00<00:00, 151.13it/s]\n"
     ]
    },
    {
     "data": {
      "text/html": [
       "\n",
       "    <style>\n",
       "        .wandb-row {\n",
       "            display: flex;\n",
       "            flex-direction: row;\n",
       "            flex-wrap: wrap;\n",
       "            justify-content: flex-start;\n",
       "            width: 100%;\n",
       "        }\n",
       "        .wandb-col {\n",
       "            display: flex;\n",
       "            flex-direction: column;\n",
       "            flex-basis: 100%;\n",
       "            flex: 1;\n",
       "            padding: 10px;\n",
       "        }\n",
       "    </style>\n",
       "<div class=\"wandb-row\"><div class=\"wandb-col\"><h3>Run history:</h3><br/><table class=\"wandb\"><tr><td>gcn/accuracy</td><td>▁</td></tr><tr><td>gcn/loss</td><td>██▇█▇▇▇▇▇▆▆▆▆▆▅▆▆▅▅▆▄▅▄▅▄▄▃▃▃▃▃▂▃▂▂▂▁▂▁▁</td></tr></table><br/></div><div class=\"wandb-col\"><h3>Run summary:</h3><br/><table class=\"wandb\"><tr><td>gcn/accuracy</td><td>0.433</td></tr><tr><td>gcn/loss</td><td>1.93923</td></tr></table><br/></div></div>"
      ],
      "text/plain": [
       "<IPython.core.display.HTML object>"
      ]
     },
     "metadata": {},
     "output_type": "display_data"
    },
    {
     "data": {
      "text/html": [
       " View run <strong style=\"color:#cdcd00\">electric-sweep-3</strong> at: <a href='https://wandb.ai/deepakpokkalla/node-classification/runs/7bk2vpw9' target=\"_blank\">https://wandb.ai/deepakpokkalla/node-classification/runs/7bk2vpw9</a><br/> View project at: <a href='https://wandb.ai/deepakpokkalla/node-classification' target=\"_blank\">https://wandb.ai/deepakpokkalla/node-classification</a><br/>Synced 5 W&B file(s), 0 media file(s), 4 artifact file(s) and 2 other file(s)"
      ],
      "text/plain": [
       "<IPython.core.display.HTML object>"
      ]
     },
     "metadata": {},
     "output_type": "display_data"
    },
    {
     "data": {
      "text/html": [
       "Find logs at: <code>.\\wandb\\run-20241122_210210-7bk2vpw9\\logs</code>"
      ],
      "text/plain": [
       "<IPython.core.display.HTML object>"
      ]
     },
     "metadata": {},
     "output_type": "display_data"
    },
    {
     "name": "stderr",
     "output_type": "stream",
     "text": [
      "\u001b[34m\u001b[1mwandb\u001b[0m: Agent Starting Run: givs6odg with config:\n",
      "\u001b[34m\u001b[1mwandb\u001b[0m: \thidden_channels: 32\n",
      "\u001b[34m\u001b[1mwandb\u001b[0m: \tlr: 0.0005567867279719658\n",
      "\u001b[34m\u001b[1mwandb\u001b[0m: \tweight_decay: 0.0005197876775055439\n"
     ]
    },
    {
     "data": {
      "text/html": [
       "Tracking run with wandb version 0.18.7"
      ],
      "text/plain": [
       "<IPython.core.display.HTML object>"
      ]
     },
     "metadata": {},
     "output_type": "display_data"
    },
    {
     "data": {
      "text/html": [
       "Run data is saved locally in <code>d:\\users\\dpa13\\projects\\my_projects\\deeplearning_tutorials\\pytorch_geometric\\official_examples\\wandb\\run-20241122_210221-givs6odg</code>"
      ],
      "text/plain": [
       "<IPython.core.display.HTML object>"
      ]
     },
     "metadata": {},
     "output_type": "display_data"
    },
    {
     "data": {
      "text/html": [
       "Syncing run <strong><a href='https://wandb.ai/deepakpokkalla/node-classification/runs/givs6odg' target=\"_blank\">generous-sweep-4</a></strong> to <a href='https://wandb.ai/deepakpokkalla/node-classification' target=\"_blank\">Weights & Biases</a> (<a href='https://wandb.me/developer-guide' target=\"_blank\">docs</a>)<br/>Sweep page: <a href='https://wandb.ai/deepakpokkalla/node-classification/sweeps/reuf9j38' target=\"_blank\">https://wandb.ai/deepakpokkalla/node-classification/sweeps/reuf9j38</a>"
      ],
      "text/plain": [
       "<IPython.core.display.HTML object>"
      ]
     },
     "metadata": {},
     "output_type": "display_data"
    },
    {
     "data": {
      "text/html": [
       " View project at <a href='https://wandb.ai/deepakpokkalla/node-classification' target=\"_blank\">https://wandb.ai/deepakpokkalla/node-classification</a>"
      ],
      "text/plain": [
       "<IPython.core.display.HTML object>"
      ]
     },
     "metadata": {},
     "output_type": "display_data"
    },
    {
     "data": {
      "text/html": [
       " View sweep at <a href='https://wandb.ai/deepakpokkalla/node-classification/sweeps/reuf9j38' target=\"_blank\">https://wandb.ai/deepakpokkalla/node-classification/sweeps/reuf9j38</a>"
      ],
      "text/plain": [
       "<IPython.core.display.HTML object>"
      ]
     },
     "metadata": {},
     "output_type": "display_data"
    },
    {
     "data": {
      "text/html": [
       " View run at <a href='https://wandb.ai/deepakpokkalla/node-classification/runs/givs6odg' target=\"_blank\">https://wandb.ai/deepakpokkalla/node-classification/runs/givs6odg</a>"
      ],
      "text/plain": [
       "<IPython.core.display.HTML object>"
      ]
     },
     "metadata": {},
     "output_type": "display_data"
    },
    {
     "name": "stderr",
     "output_type": "stream",
     "text": [
      "100%|██████████| 100/100 [00:01<00:00, 79.86it/s]\n"
     ]
    },
    {
     "data": {
      "text/html": [
       "\n",
       "    <style>\n",
       "        .wandb-row {\n",
       "            display: flex;\n",
       "            flex-direction: row;\n",
       "            flex-wrap: wrap;\n",
       "            justify-content: flex-start;\n",
       "            width: 100%;\n",
       "        }\n",
       "        .wandb-col {\n",
       "            display: flex;\n",
       "            flex-direction: column;\n",
       "            flex-basis: 100%;\n",
       "            flex: 1;\n",
       "            padding: 10px;\n",
       "        }\n",
       "    </style>\n",
       "<div class=\"wandb-row\"><div class=\"wandb-col\"><h3>Run history:</h3><br/><table class=\"wandb\"><tr><td>gcn/accuracy</td><td>▁</td></tr><tr><td>gcn/loss</td><td>██████▇▇▇▇▇▆▇▇▆▆▆▆▆▆▆▅▅▅▅▄▄▄▄▄▃▃▃▄▃▃▂▂▂▁</td></tr></table><br/></div><div class=\"wandb-col\"><h3>Run summary:</h3><br/><table class=\"wandb\"><tr><td>gcn/accuracy</td><td>0.657</td></tr><tr><td>gcn/loss</td><td>1.85616</td></tr></table><br/></div></div>"
      ],
      "text/plain": [
       "<IPython.core.display.HTML object>"
      ]
     },
     "metadata": {},
     "output_type": "display_data"
    },
    {
     "data": {
      "text/html": [
       " View run <strong style=\"color:#cdcd00\">generous-sweep-4</strong> at: <a href='https://wandb.ai/deepakpokkalla/node-classification/runs/givs6odg' target=\"_blank\">https://wandb.ai/deepakpokkalla/node-classification/runs/givs6odg</a><br/> View project at: <a href='https://wandb.ai/deepakpokkalla/node-classification' target=\"_blank\">https://wandb.ai/deepakpokkalla/node-classification</a><br/>Synced 5 W&B file(s), 0 media file(s), 4 artifact file(s) and 2 other file(s)"
      ],
      "text/plain": [
       "<IPython.core.display.HTML object>"
      ]
     },
     "metadata": {},
     "output_type": "display_data"
    },
    {
     "data": {
      "text/html": [
       "Find logs at: <code>.\\wandb\\run-20241122_210221-givs6odg\\logs</code>"
      ],
      "text/plain": [
       "<IPython.core.display.HTML object>"
      ]
     },
     "metadata": {},
     "output_type": "display_data"
    },
    {
     "name": "stderr",
     "output_type": "stream",
     "text": [
      "\u001b[34m\u001b[1mwandb\u001b[0m: Agent Starting Run: ag0o5gur with config:\n",
      "\u001b[34m\u001b[1mwandb\u001b[0m: \thidden_channels: 32\n",
      "\u001b[34m\u001b[1mwandb\u001b[0m: \tlr: 0.000692941905349686\n",
      "\u001b[34m\u001b[1mwandb\u001b[0m: \tweight_decay: 0.0005079035469940644\n"
     ]
    },
    {
     "data": {
      "text/html": [
       "Tracking run with wandb version 0.18.7"
      ],
      "text/plain": [
       "<IPython.core.display.HTML object>"
      ]
     },
     "metadata": {},
     "output_type": "display_data"
    },
    {
     "data": {
      "text/html": [
       "Run data is saved locally in <code>d:\\users\\dpa13\\projects\\my_projects\\deeplearning_tutorials\\pytorch_geometric\\official_examples\\wandb\\run-20241122_210231-ag0o5gur</code>"
      ],
      "text/plain": [
       "<IPython.core.display.HTML object>"
      ]
     },
     "metadata": {},
     "output_type": "display_data"
    },
    {
     "data": {
      "text/html": [
       "Syncing run <strong><a href='https://wandb.ai/deepakpokkalla/node-classification/runs/ag0o5gur' target=\"_blank\">distinctive-sweep-5</a></strong> to <a href='https://wandb.ai/deepakpokkalla/node-classification' target=\"_blank\">Weights & Biases</a> (<a href='https://wandb.me/developer-guide' target=\"_blank\">docs</a>)<br/>Sweep page: <a href='https://wandb.ai/deepakpokkalla/node-classification/sweeps/reuf9j38' target=\"_blank\">https://wandb.ai/deepakpokkalla/node-classification/sweeps/reuf9j38</a>"
      ],
      "text/plain": [
       "<IPython.core.display.HTML object>"
      ]
     },
     "metadata": {},
     "output_type": "display_data"
    },
    {
     "data": {
      "text/html": [
       " View project at <a href='https://wandb.ai/deepakpokkalla/node-classification' target=\"_blank\">https://wandb.ai/deepakpokkalla/node-classification</a>"
      ],
      "text/plain": [
       "<IPython.core.display.HTML object>"
      ]
     },
     "metadata": {},
     "output_type": "display_data"
    },
    {
     "data": {
      "text/html": [
       " View sweep at <a href='https://wandb.ai/deepakpokkalla/node-classification/sweeps/reuf9j38' target=\"_blank\">https://wandb.ai/deepakpokkalla/node-classification/sweeps/reuf9j38</a>"
      ],
      "text/plain": [
       "<IPython.core.display.HTML object>"
      ]
     },
     "metadata": {},
     "output_type": "display_data"
    },
    {
     "data": {
      "text/html": [
       " View run at <a href='https://wandb.ai/deepakpokkalla/node-classification/runs/ag0o5gur' target=\"_blank\">https://wandb.ai/deepakpokkalla/node-classification/runs/ag0o5gur</a>"
      ],
      "text/plain": [
       "<IPython.core.display.HTML object>"
      ]
     },
     "metadata": {},
     "output_type": "display_data"
    },
    {
     "name": "stderr",
     "output_type": "stream",
     "text": [
      "100%|██████████| 100/100 [00:01<00:00, 76.98it/s]\n"
     ]
    },
    {
     "data": {
      "text/html": [
       "\n",
       "    <style>\n",
       "        .wandb-row {\n",
       "            display: flex;\n",
       "            flex-direction: row;\n",
       "            flex-wrap: wrap;\n",
       "            justify-content: flex-start;\n",
       "            width: 100%;\n",
       "        }\n",
       "        .wandb-col {\n",
       "            display: flex;\n",
       "            flex-direction: column;\n",
       "            flex-basis: 100%;\n",
       "            flex: 1;\n",
       "            padding: 10px;\n",
       "        }\n",
       "    </style>\n",
       "<div class=\"wandb-row\"><div class=\"wandb-col\"><h3>Run history:</h3><br/><table class=\"wandb\"><tr><td>gcn/accuracy</td><td>▁</td></tr><tr><td>gcn/loss</td><td>█████▇▇▇▇▇▇▆▆▆▆▅▆▆▅▅▅▅▄▄▅▄▄▄▄▄▃▃▃▃▂▂▂▂▂▁</td></tr></table><br/></div><div class=\"wandb-col\"><h3>Run summary:</h3><br/><table class=\"wandb\"><tr><td>gcn/accuracy</td><td>0.641</td></tr><tr><td>gcn/loss</td><td>1.83372</td></tr></table><br/></div></div>"
      ],
      "text/plain": [
       "<IPython.core.display.HTML object>"
      ]
     },
     "metadata": {},
     "output_type": "display_data"
    },
    {
     "data": {
      "text/html": [
       " View run <strong style=\"color:#cdcd00\">distinctive-sweep-5</strong> at: <a href='https://wandb.ai/deepakpokkalla/node-classification/runs/ag0o5gur' target=\"_blank\">https://wandb.ai/deepakpokkalla/node-classification/runs/ag0o5gur</a><br/> View project at: <a href='https://wandb.ai/deepakpokkalla/node-classification' target=\"_blank\">https://wandb.ai/deepakpokkalla/node-classification</a><br/>Synced 5 W&B file(s), 0 media file(s), 4 artifact file(s) and 2 other file(s)"
      ],
      "text/plain": [
       "<IPython.core.display.HTML object>"
      ]
     },
     "metadata": {},
     "output_type": "display_data"
    },
    {
     "data": {
      "text/html": [
       "Find logs at: <code>.\\wandb\\run-20241122_210231-ag0o5gur\\logs</code>"
      ],
      "text/plain": [
       "<IPython.core.display.HTML object>"
      ]
     },
     "metadata": {},
     "output_type": "display_data"
    },
    {
     "name": "stderr",
     "output_type": "stream",
     "text": [
      "\u001b[34m\u001b[1mwandb\u001b[0m: Agent Starting Run: hw45m9y8 with config:\n",
      "\u001b[34m\u001b[1mwandb\u001b[0m: \thidden_channels: 32\n",
      "\u001b[34m\u001b[1mwandb\u001b[0m: \tlr: 0.0009442452531669898\n",
      "\u001b[34m\u001b[1mwandb\u001b[0m: \tweight_decay: 0.000525412769421546\n"
     ]
    },
    {
     "data": {
      "text/html": [
       "Tracking run with wandb version 0.18.7"
      ],
      "text/plain": [
       "<IPython.core.display.HTML object>"
      ]
     },
     "metadata": {},
     "output_type": "display_data"
    },
    {
     "data": {
      "text/html": [
       "Run data is saved locally in <code>d:\\users\\dpa13\\projects\\my_projects\\deeplearning_tutorials\\pytorch_geometric\\official_examples\\wandb\\run-20241122_210242-hw45m9y8</code>"
      ],
      "text/plain": [
       "<IPython.core.display.HTML object>"
      ]
     },
     "metadata": {},
     "output_type": "display_data"
    },
    {
     "data": {
      "text/html": [
       "Syncing run <strong><a href='https://wandb.ai/deepakpokkalla/node-classification/runs/hw45m9y8' target=\"_blank\">dutiful-sweep-6</a></strong> to <a href='https://wandb.ai/deepakpokkalla/node-classification' target=\"_blank\">Weights & Biases</a> (<a href='https://wandb.me/developer-guide' target=\"_blank\">docs</a>)<br/>Sweep page: <a href='https://wandb.ai/deepakpokkalla/node-classification/sweeps/reuf9j38' target=\"_blank\">https://wandb.ai/deepakpokkalla/node-classification/sweeps/reuf9j38</a>"
      ],
      "text/plain": [
       "<IPython.core.display.HTML object>"
      ]
     },
     "metadata": {},
     "output_type": "display_data"
    },
    {
     "data": {
      "text/html": [
       " View project at <a href='https://wandb.ai/deepakpokkalla/node-classification' target=\"_blank\">https://wandb.ai/deepakpokkalla/node-classification</a>"
      ],
      "text/plain": [
       "<IPython.core.display.HTML object>"
      ]
     },
     "metadata": {},
     "output_type": "display_data"
    },
    {
     "data": {
      "text/html": [
       " View sweep at <a href='https://wandb.ai/deepakpokkalla/node-classification/sweeps/reuf9j38' target=\"_blank\">https://wandb.ai/deepakpokkalla/node-classification/sweeps/reuf9j38</a>"
      ],
      "text/plain": [
       "<IPython.core.display.HTML object>"
      ]
     },
     "metadata": {},
     "output_type": "display_data"
    },
    {
     "data": {
      "text/html": [
       " View run at <a href='https://wandb.ai/deepakpokkalla/node-classification/runs/hw45m9y8' target=\"_blank\">https://wandb.ai/deepakpokkalla/node-classification/runs/hw45m9y8</a>"
      ],
      "text/plain": [
       "<IPython.core.display.HTML object>"
      ]
     },
     "metadata": {},
     "output_type": "display_data"
    },
    {
     "name": "stderr",
     "output_type": "stream",
     "text": [
      "100%|██████████| 100/100 [00:01<00:00, 79.16it/s]\n"
     ]
    },
    {
     "data": {
      "text/html": [
       "\n",
       "    <style>\n",
       "        .wandb-row {\n",
       "            display: flex;\n",
       "            flex-direction: row;\n",
       "            flex-wrap: wrap;\n",
       "            justify-content: flex-start;\n",
       "            width: 100%;\n",
       "        }\n",
       "        .wandb-col {\n",
       "            display: flex;\n",
       "            flex-direction: column;\n",
       "            flex-basis: 100%;\n",
       "            flex: 1;\n",
       "            padding: 10px;\n",
       "        }\n",
       "    </style>\n",
       "<div class=\"wandb-row\"><div class=\"wandb-col\"><h3>Run history:</h3><br/><table class=\"wandb\"><tr><td>gcn/accuracy</td><td>▁</td></tr><tr><td>gcn/loss</td><td>█▇▇▇▇▇▇▇▆▆▆▆▆▆▆▅▅▅▅▅▅▄▄▄▄▄▄▄▄▃▃▃▃▃▂▂▂▂▂▁</td></tr></table><br/></div><div class=\"wandb-col\"><h3>Run summary:</h3><br/><table class=\"wandb\"><tr><td>gcn/accuracy</td><td>0.636</td></tr><tr><td>gcn/loss</td><td>1.7851</td></tr></table><br/></div></div>"
      ],
      "text/plain": [
       "<IPython.core.display.HTML object>"
      ]
     },
     "metadata": {},
     "output_type": "display_data"
    },
    {
     "data": {
      "text/html": [
       " View run <strong style=\"color:#cdcd00\">dutiful-sweep-6</strong> at: <a href='https://wandb.ai/deepakpokkalla/node-classification/runs/hw45m9y8' target=\"_blank\">https://wandb.ai/deepakpokkalla/node-classification/runs/hw45m9y8</a><br/> View project at: <a href='https://wandb.ai/deepakpokkalla/node-classification' target=\"_blank\">https://wandb.ai/deepakpokkalla/node-classification</a><br/>Synced 5 W&B file(s), 0 media file(s), 4 artifact file(s) and 2 other file(s)"
      ],
      "text/plain": [
       "<IPython.core.display.HTML object>"
      ]
     },
     "metadata": {},
     "output_type": "display_data"
    },
    {
     "data": {
      "text/html": [
       "Find logs at: <code>.\\wandb\\run-20241122_210242-hw45m9y8\\logs</code>"
      ],
      "text/plain": [
       "<IPython.core.display.HTML object>"
      ]
     },
     "metadata": {},
     "output_type": "display_data"
    },
    {
     "name": "stderr",
     "output_type": "stream",
     "text": [
      "\u001b[34m\u001b[1mwandb\u001b[0m: Agent Starting Run: kiljwwaq with config:\n",
      "\u001b[34m\u001b[1mwandb\u001b[0m: \thidden_channels: 16\n",
      "\u001b[34m\u001b[1mwandb\u001b[0m: \tlr: 0.0009991183446845017\n",
      "\u001b[34m\u001b[1mwandb\u001b[0m: \tweight_decay: 0.0005171891185234228\n"
     ]
    },
    {
     "data": {
      "text/html": [
       "Tracking run with wandb version 0.18.7"
      ],
      "text/plain": [
       "<IPython.core.display.HTML object>"
      ]
     },
     "metadata": {},
     "output_type": "display_data"
    },
    {
     "data": {
      "text/html": [
       "Run data is saved locally in <code>d:\\users\\dpa13\\projects\\my_projects\\deeplearning_tutorials\\pytorch_geometric\\official_examples\\wandb\\run-20241122_210253-kiljwwaq</code>"
      ],
      "text/plain": [
       "<IPython.core.display.HTML object>"
      ]
     },
     "metadata": {},
     "output_type": "display_data"
    },
    {
     "data": {
      "text/html": [
       "Syncing run <strong><a href='https://wandb.ai/deepakpokkalla/node-classification/runs/kiljwwaq' target=\"_blank\">blooming-sweep-7</a></strong> to <a href='https://wandb.ai/deepakpokkalla/node-classification' target=\"_blank\">Weights & Biases</a> (<a href='https://wandb.me/developer-guide' target=\"_blank\">docs</a>)<br/>Sweep page: <a href='https://wandb.ai/deepakpokkalla/node-classification/sweeps/reuf9j38' target=\"_blank\">https://wandb.ai/deepakpokkalla/node-classification/sweeps/reuf9j38</a>"
      ],
      "text/plain": [
       "<IPython.core.display.HTML object>"
      ]
     },
     "metadata": {},
     "output_type": "display_data"
    },
    {
     "data": {
      "text/html": [
       " View project at <a href='https://wandb.ai/deepakpokkalla/node-classification' target=\"_blank\">https://wandb.ai/deepakpokkalla/node-classification</a>"
      ],
      "text/plain": [
       "<IPython.core.display.HTML object>"
      ]
     },
     "metadata": {},
     "output_type": "display_data"
    },
    {
     "data": {
      "text/html": [
       " View sweep at <a href='https://wandb.ai/deepakpokkalla/node-classification/sweeps/reuf9j38' target=\"_blank\">https://wandb.ai/deepakpokkalla/node-classification/sweeps/reuf9j38</a>"
      ],
      "text/plain": [
       "<IPython.core.display.HTML object>"
      ]
     },
     "metadata": {},
     "output_type": "display_data"
    },
    {
     "data": {
      "text/html": [
       " View run at <a href='https://wandb.ai/deepakpokkalla/node-classification/runs/kiljwwaq' target=\"_blank\">https://wandb.ai/deepakpokkalla/node-classification/runs/kiljwwaq</a>"
      ],
      "text/plain": [
       "<IPython.core.display.HTML object>"
      ]
     },
     "metadata": {},
     "output_type": "display_data"
    },
    {
     "name": "stderr",
     "output_type": "stream",
     "text": [
      "100%|██████████| 100/100 [00:01<00:00, 71.35it/s]\n"
     ]
    },
    {
     "data": {
      "text/html": [
       "\n",
       "    <style>\n",
       "        .wandb-row {\n",
       "            display: flex;\n",
       "            flex-direction: row;\n",
       "            flex-wrap: wrap;\n",
       "            justify-content: flex-start;\n",
       "            width: 100%;\n",
       "        }\n",
       "        .wandb-col {\n",
       "            display: flex;\n",
       "            flex-direction: column;\n",
       "            flex-basis: 100%;\n",
       "            flex: 1;\n",
       "            padding: 10px;\n",
       "        }\n",
       "    </style>\n",
       "<div class=\"wandb-row\"><div class=\"wandb-col\"><h3>Run history:</h3><br/><table class=\"wandb\"><tr><td>gcn/accuracy</td><td>▁</td></tr><tr><td>gcn/loss</td><td>█████▇▇▇▇▇▇▇▇▆▆▆▆▅▅▅▅▄▄▄▄▄▃▃▃▃▃▃▂▃▂▂▂▁▂▁</td></tr></table><br/></div><div class=\"wandb-col\"><h3>Run summary:</h3><br/><table class=\"wandb\"><tr><td>gcn/accuracy</td><td>0.658</td></tr><tr><td>gcn/loss</td><td>1.85733</td></tr></table><br/></div></div>"
      ],
      "text/plain": [
       "<IPython.core.display.HTML object>"
      ]
     },
     "metadata": {},
     "output_type": "display_data"
    },
    {
     "data": {
      "text/html": [
       " View run <strong style=\"color:#cdcd00\">blooming-sweep-7</strong> at: <a href='https://wandb.ai/deepakpokkalla/node-classification/runs/kiljwwaq' target=\"_blank\">https://wandb.ai/deepakpokkalla/node-classification/runs/kiljwwaq</a><br/> View project at: <a href='https://wandb.ai/deepakpokkalla/node-classification' target=\"_blank\">https://wandb.ai/deepakpokkalla/node-classification</a><br/>Synced 5 W&B file(s), 0 media file(s), 4 artifact file(s) and 2 other file(s)"
      ],
      "text/plain": [
       "<IPython.core.display.HTML object>"
      ]
     },
     "metadata": {},
     "output_type": "display_data"
    },
    {
     "data": {
      "text/html": [
       "Find logs at: <code>.\\wandb\\run-20241122_210253-kiljwwaq\\logs</code>"
      ],
      "text/plain": [
       "<IPython.core.display.HTML object>"
      ]
     },
     "metadata": {},
     "output_type": "display_data"
    },
    {
     "name": "stderr",
     "output_type": "stream",
     "text": [
      "\u001b[34m\u001b[1mwandb\u001b[0m: Agent Starting Run: xja9e5si with config:\n",
      "\u001b[34m\u001b[1mwandb\u001b[0m: \thidden_channels: 32\n",
      "\u001b[34m\u001b[1mwandb\u001b[0m: \tlr: 0.0007226565432835285\n",
      "\u001b[34m\u001b[1mwandb\u001b[0m: \tweight_decay: 0.0005184624722355529\n"
     ]
    },
    {
     "data": {
      "text/html": [
       "Tracking run with wandb version 0.18.7"
      ],
      "text/plain": [
       "<IPython.core.display.HTML object>"
      ]
     },
     "metadata": {},
     "output_type": "display_data"
    },
    {
     "data": {
      "text/html": [
       "Run data is saved locally in <code>d:\\users\\dpa13\\projects\\my_projects\\deeplearning_tutorials\\pytorch_geometric\\official_examples\\wandb\\run-20241122_210303-xja9e5si</code>"
      ],
      "text/plain": [
       "<IPython.core.display.HTML object>"
      ]
     },
     "metadata": {},
     "output_type": "display_data"
    },
    {
     "data": {
      "text/html": [
       "Syncing run <strong><a href='https://wandb.ai/deepakpokkalla/node-classification/runs/xja9e5si' target=\"_blank\">comic-sweep-8</a></strong> to <a href='https://wandb.ai/deepakpokkalla/node-classification' target=\"_blank\">Weights & Biases</a> (<a href='https://wandb.me/developer-guide' target=\"_blank\">docs</a>)<br/>Sweep page: <a href='https://wandb.ai/deepakpokkalla/node-classification/sweeps/reuf9j38' target=\"_blank\">https://wandb.ai/deepakpokkalla/node-classification/sweeps/reuf9j38</a>"
      ],
      "text/plain": [
       "<IPython.core.display.HTML object>"
      ]
     },
     "metadata": {},
     "output_type": "display_data"
    },
    {
     "data": {
      "text/html": [
       " View project at <a href='https://wandb.ai/deepakpokkalla/node-classification' target=\"_blank\">https://wandb.ai/deepakpokkalla/node-classification</a>"
      ],
      "text/plain": [
       "<IPython.core.display.HTML object>"
      ]
     },
     "metadata": {},
     "output_type": "display_data"
    },
    {
     "data": {
      "text/html": [
       " View sweep at <a href='https://wandb.ai/deepakpokkalla/node-classification/sweeps/reuf9j38' target=\"_blank\">https://wandb.ai/deepakpokkalla/node-classification/sweeps/reuf9j38</a>"
      ],
      "text/plain": [
       "<IPython.core.display.HTML object>"
      ]
     },
     "metadata": {},
     "output_type": "display_data"
    },
    {
     "data": {
      "text/html": [
       " View run at <a href='https://wandb.ai/deepakpokkalla/node-classification/runs/xja9e5si' target=\"_blank\">https://wandb.ai/deepakpokkalla/node-classification/runs/xja9e5si</a>"
      ],
      "text/plain": [
       "<IPython.core.display.HTML object>"
      ]
     },
     "metadata": {},
     "output_type": "display_data"
    },
    {
     "name": "stderr",
     "output_type": "stream",
     "text": [
      "100%|██████████| 100/100 [00:02<00:00, 48.01it/s]\n"
     ]
    },
    {
     "data": {
      "text/html": [
       "\n",
       "    <style>\n",
       "        .wandb-row {\n",
       "            display: flex;\n",
       "            flex-direction: row;\n",
       "            flex-wrap: wrap;\n",
       "            justify-content: flex-start;\n",
       "            width: 100%;\n",
       "        }\n",
       "        .wandb-col {\n",
       "            display: flex;\n",
       "            flex-direction: column;\n",
       "            flex-basis: 100%;\n",
       "            flex: 1;\n",
       "            padding: 10px;\n",
       "        }\n",
       "    </style>\n",
       "<div class=\"wandb-row\"><div class=\"wandb-col\"><h3>Run history:</h3><br/><table class=\"wandb\"><tr><td>gcn/accuracy</td><td>▁</td></tr><tr><td>gcn/loss</td><td>██████▇▇▇▇▇▆▆▆▆▆▆▅▆▅▅▅▅▅▄▄▄▄▄▃▃▃▃▃▂▂▂▂▂▁</td></tr></table><br/></div><div class=\"wandb-col\"><h3>Run summary:</h3><br/><table class=\"wandb\"><tr><td>gcn/accuracy</td><td>0.652</td></tr><tr><td>gcn/loss</td><td>1.82721</td></tr></table><br/></div></div>"
      ],
      "text/plain": [
       "<IPython.core.display.HTML object>"
      ]
     },
     "metadata": {},
     "output_type": "display_data"
    },
    {
     "data": {
      "text/html": [
       " View run <strong style=\"color:#cdcd00\">comic-sweep-8</strong> at: <a href='https://wandb.ai/deepakpokkalla/node-classification/runs/xja9e5si' target=\"_blank\">https://wandb.ai/deepakpokkalla/node-classification/runs/xja9e5si</a><br/> View project at: <a href='https://wandb.ai/deepakpokkalla/node-classification' target=\"_blank\">https://wandb.ai/deepakpokkalla/node-classification</a><br/>Synced 5 W&B file(s), 0 media file(s), 4 artifact file(s) and 2 other file(s)"
      ],
      "text/plain": [
       "<IPython.core.display.HTML object>"
      ]
     },
     "metadata": {},
     "output_type": "display_data"
    },
    {
     "data": {
      "text/html": [
       "Find logs at: <code>.\\wandb\\run-20241122_210303-xja9e5si\\logs</code>"
      ],
      "text/plain": [
       "<IPython.core.display.HTML object>"
      ]
     },
     "metadata": {},
     "output_type": "display_data"
    },
    {
     "name": "stderr",
     "output_type": "stream",
     "text": [
      "\u001b[34m\u001b[1mwandb\u001b[0m: Agent Starting Run: 6f7c29gz with config:\n",
      "\u001b[34m\u001b[1mwandb\u001b[0m: \thidden_channels: 8\n",
      "\u001b[34m\u001b[1mwandb\u001b[0m: \tlr: 0.0009057543266266688\n",
      "\u001b[34m\u001b[1mwandb\u001b[0m: \tweight_decay: 0.0005288697361315681\n"
     ]
    },
    {
     "data": {
      "text/html": [
       "Tracking run with wandb version 0.18.7"
      ],
      "text/plain": [
       "<IPython.core.display.HTML object>"
      ]
     },
     "metadata": {},
     "output_type": "display_data"
    },
    {
     "data": {
      "text/html": [
       "Run data is saved locally in <code>d:\\users\\dpa13\\projects\\my_projects\\deeplearning_tutorials\\pytorch_geometric\\official_examples\\wandb\\run-20241122_210314-6f7c29gz</code>"
      ],
      "text/plain": [
       "<IPython.core.display.HTML object>"
      ]
     },
     "metadata": {},
     "output_type": "display_data"
    },
    {
     "data": {
      "text/html": [
       "Syncing run <strong><a href='https://wandb.ai/deepakpokkalla/node-classification/runs/6f7c29gz' target=\"_blank\">hearty-sweep-9</a></strong> to <a href='https://wandb.ai/deepakpokkalla/node-classification' target=\"_blank\">Weights & Biases</a> (<a href='https://wandb.me/developer-guide' target=\"_blank\">docs</a>)<br/>Sweep page: <a href='https://wandb.ai/deepakpokkalla/node-classification/sweeps/reuf9j38' target=\"_blank\">https://wandb.ai/deepakpokkalla/node-classification/sweeps/reuf9j38</a>"
      ],
      "text/plain": [
       "<IPython.core.display.HTML object>"
      ]
     },
     "metadata": {},
     "output_type": "display_data"
    },
    {
     "data": {
      "text/html": [
       " View project at <a href='https://wandb.ai/deepakpokkalla/node-classification' target=\"_blank\">https://wandb.ai/deepakpokkalla/node-classification</a>"
      ],
      "text/plain": [
       "<IPython.core.display.HTML object>"
      ]
     },
     "metadata": {},
     "output_type": "display_data"
    },
    {
     "data": {
      "text/html": [
       " View sweep at <a href='https://wandb.ai/deepakpokkalla/node-classification/sweeps/reuf9j38' target=\"_blank\">https://wandb.ai/deepakpokkalla/node-classification/sweeps/reuf9j38</a>"
      ],
      "text/plain": [
       "<IPython.core.display.HTML object>"
      ]
     },
     "metadata": {},
     "output_type": "display_data"
    },
    {
     "data": {
      "text/html": [
       " View run at <a href='https://wandb.ai/deepakpokkalla/node-classification/runs/6f7c29gz' target=\"_blank\">https://wandb.ai/deepakpokkalla/node-classification/runs/6f7c29gz</a>"
      ],
      "text/plain": [
       "<IPython.core.display.HTML object>"
      ]
     },
     "metadata": {},
     "output_type": "display_data"
    },
    {
     "name": "stderr",
     "output_type": "stream",
     "text": [
      "100%|██████████| 100/100 [00:00<00:00, 152.37it/s]\n"
     ]
    },
    {
     "data": {
      "text/html": [
       "\n",
       "    <style>\n",
       "        .wandb-row {\n",
       "            display: flex;\n",
       "            flex-direction: row;\n",
       "            flex-wrap: wrap;\n",
       "            justify-content: flex-start;\n",
       "            width: 100%;\n",
       "        }\n",
       "        .wandb-col {\n",
       "            display: flex;\n",
       "            flex-direction: column;\n",
       "            flex-basis: 100%;\n",
       "            flex: 1;\n",
       "            padding: 10px;\n",
       "        }\n",
       "    </style>\n",
       "<div class=\"wandb-row\"><div class=\"wandb-col\"><h3>Run history:</h3><br/><table class=\"wandb\"><tr><td>gcn/accuracy</td><td>▁</td></tr><tr><td>gcn/loss</td><td>██████▇▇▇▇▇▇▇▆▆▆▅▅▅▅▄▄▄▄▄▃▃▃▃▃▃▂▃▂▂▂▂▂▁▁</td></tr></table><br/></div><div class=\"wandb-col\"><h3>Run summary:</h3><br/><table class=\"wandb\"><tr><td>gcn/accuracy</td><td>0.585</td></tr><tr><td>gcn/loss</td><td>1.87221</td></tr></table><br/></div></div>"
      ],
      "text/plain": [
       "<IPython.core.display.HTML object>"
      ]
     },
     "metadata": {},
     "output_type": "display_data"
    },
    {
     "data": {
      "text/html": [
       " View run <strong style=\"color:#cdcd00\">hearty-sweep-9</strong> at: <a href='https://wandb.ai/deepakpokkalla/node-classification/runs/6f7c29gz' target=\"_blank\">https://wandb.ai/deepakpokkalla/node-classification/runs/6f7c29gz</a><br/> View project at: <a href='https://wandb.ai/deepakpokkalla/node-classification' target=\"_blank\">https://wandb.ai/deepakpokkalla/node-classification</a><br/>Synced 5 W&B file(s), 0 media file(s), 4 artifact file(s) and 2 other file(s)"
      ],
      "text/plain": [
       "<IPython.core.display.HTML object>"
      ]
     },
     "metadata": {},
     "output_type": "display_data"
    },
    {
     "data": {
      "text/html": [
       "Find logs at: <code>.\\wandb\\run-20241122_210314-6f7c29gz\\logs</code>"
      ],
      "text/plain": [
       "<IPython.core.display.HTML object>"
      ]
     },
     "metadata": {},
     "output_type": "display_data"
    },
    {
     "name": "stderr",
     "output_type": "stream",
     "text": [
      "\u001b[34m\u001b[1mwandb\u001b[0m: Agent Starting Run: krlmbknw with config:\n",
      "\u001b[34m\u001b[1mwandb\u001b[0m: \thidden_channels: 32\n",
      "\u001b[34m\u001b[1mwandb\u001b[0m: \tlr: 0.0008421450072328018\n",
      "\u001b[34m\u001b[1mwandb\u001b[0m: \tweight_decay: 0.0005226046712703372\n"
     ]
    },
    {
     "data": {
      "text/html": [
       "Tracking run with wandb version 0.18.7"
      ],
      "text/plain": [
       "<IPython.core.display.HTML object>"
      ]
     },
     "metadata": {},
     "output_type": "display_data"
    },
    {
     "data": {
      "text/html": [
       "Run data is saved locally in <code>d:\\users\\dpa13\\projects\\my_projects\\deeplearning_tutorials\\pytorch_geometric\\official_examples\\wandb\\run-20241122_210324-krlmbknw</code>"
      ],
      "text/plain": [
       "<IPython.core.display.HTML object>"
      ]
     },
     "metadata": {},
     "output_type": "display_data"
    },
    {
     "data": {
      "text/html": [
       "Syncing run <strong><a href='https://wandb.ai/deepakpokkalla/node-classification/runs/krlmbknw' target=\"_blank\">light-sweep-10</a></strong> to <a href='https://wandb.ai/deepakpokkalla/node-classification' target=\"_blank\">Weights & Biases</a> (<a href='https://wandb.me/developer-guide' target=\"_blank\">docs</a>)<br/>Sweep page: <a href='https://wandb.ai/deepakpokkalla/node-classification/sweeps/reuf9j38' target=\"_blank\">https://wandb.ai/deepakpokkalla/node-classification/sweeps/reuf9j38</a>"
      ],
      "text/plain": [
       "<IPython.core.display.HTML object>"
      ]
     },
     "metadata": {},
     "output_type": "display_data"
    },
    {
     "data": {
      "text/html": [
       " View project at <a href='https://wandb.ai/deepakpokkalla/node-classification' target=\"_blank\">https://wandb.ai/deepakpokkalla/node-classification</a>"
      ],
      "text/plain": [
       "<IPython.core.display.HTML object>"
      ]
     },
     "metadata": {},
     "output_type": "display_data"
    },
    {
     "data": {
      "text/html": [
       " View sweep at <a href='https://wandb.ai/deepakpokkalla/node-classification/sweeps/reuf9j38' target=\"_blank\">https://wandb.ai/deepakpokkalla/node-classification/sweeps/reuf9j38</a>"
      ],
      "text/plain": [
       "<IPython.core.display.HTML object>"
      ]
     },
     "metadata": {},
     "output_type": "display_data"
    },
    {
     "data": {
      "text/html": [
       " View run at <a href='https://wandb.ai/deepakpokkalla/node-classification/runs/krlmbknw' target=\"_blank\">https://wandb.ai/deepakpokkalla/node-classification/runs/krlmbknw</a>"
      ],
      "text/plain": [
       "<IPython.core.display.HTML object>"
      ]
     },
     "metadata": {},
     "output_type": "display_data"
    },
    {
     "name": "stderr",
     "output_type": "stream",
     "text": [
      "100%|██████████| 100/100 [00:01<00:00, 79.73it/s]\n"
     ]
    },
    {
     "data": {
      "text/html": [
       "\n",
       "    <style>\n",
       "        .wandb-row {\n",
       "            display: flex;\n",
       "            flex-direction: row;\n",
       "            flex-wrap: wrap;\n",
       "            justify-content: flex-start;\n",
       "            width: 100%;\n",
       "        }\n",
       "        .wandb-col {\n",
       "            display: flex;\n",
       "            flex-direction: column;\n",
       "            flex-basis: 100%;\n",
       "            flex: 1;\n",
       "            padding: 10px;\n",
       "        }\n",
       "    </style>\n",
       "<div class=\"wandb-row\"><div class=\"wandb-col\"><h3>Run history:</h3><br/><table class=\"wandb\"><tr><td>gcn/accuracy</td><td>▁</td></tr><tr><td>gcn/loss</td><td>███████▇▇▇▇▇▆▆▆▆▅▆▅▅▄▅▄▄▄▄▄▄▄▄▃▃▃▃▃▂▂▂▂▁</td></tr></table><br/></div><div class=\"wandb-col\"><h3>Run summary:</h3><br/><table class=\"wandb\"><tr><td>gcn/accuracy</td><td>0.653</td></tr><tr><td>gcn/loss</td><td>1.80715</td></tr></table><br/></div></div>"
      ],
      "text/plain": [
       "<IPython.core.display.HTML object>"
      ]
     },
     "metadata": {},
     "output_type": "display_data"
    },
    {
     "data": {
      "text/html": [
       " View run <strong style=\"color:#cdcd00\">light-sweep-10</strong> at: <a href='https://wandb.ai/deepakpokkalla/node-classification/runs/krlmbknw' target=\"_blank\">https://wandb.ai/deepakpokkalla/node-classification/runs/krlmbknw</a><br/> View project at: <a href='https://wandb.ai/deepakpokkalla/node-classification' target=\"_blank\">https://wandb.ai/deepakpokkalla/node-classification</a><br/>Synced 5 W&B file(s), 0 media file(s), 4 artifact file(s) and 2 other file(s)"
      ],
      "text/plain": [
       "<IPython.core.display.HTML object>"
      ]
     },
     "metadata": {},
     "output_type": "display_data"
    },
    {
     "data": {
      "text/html": [
       "Find logs at: <code>.\\wandb\\run-20241122_210324-krlmbknw\\logs</code>"
      ],
      "text/plain": [
       "<IPython.core.display.HTML object>"
      ]
     },
     "metadata": {},
     "output_type": "display_data"
    },
    {
     "name": "stderr",
     "output_type": "stream",
     "text": [
      "\u001b[34m\u001b[1mwandb\u001b[0m: Agent Starting Run: 4ihule0b with config:\n",
      "\u001b[34m\u001b[1mwandb\u001b[0m: \thidden_channels: 32\n",
      "\u001b[34m\u001b[1mwandb\u001b[0m: \tlr: 0.0008285364397642942\n",
      "\u001b[34m\u001b[1mwandb\u001b[0m: \tweight_decay: 0.0005183484311564038\n"
     ]
    },
    {
     "data": {
      "text/html": [
       "Tracking run with wandb version 0.18.7"
      ],
      "text/plain": [
       "<IPython.core.display.HTML object>"
      ]
     },
     "metadata": {},
     "output_type": "display_data"
    },
    {
     "data": {
      "text/html": [
       "Run data is saved locally in <code>d:\\users\\dpa13\\projects\\my_projects\\deeplearning_tutorials\\pytorch_geometric\\official_examples\\wandb\\run-20241122_210335-4ihule0b</code>"
      ],
      "text/plain": [
       "<IPython.core.display.HTML object>"
      ]
     },
     "metadata": {},
     "output_type": "display_data"
    },
    {
     "data": {
      "text/html": [
       "Syncing run <strong><a href='https://wandb.ai/deepakpokkalla/node-classification/runs/4ihule0b' target=\"_blank\">zesty-sweep-11</a></strong> to <a href='https://wandb.ai/deepakpokkalla/node-classification' target=\"_blank\">Weights & Biases</a> (<a href='https://wandb.me/developer-guide' target=\"_blank\">docs</a>)<br/>Sweep page: <a href='https://wandb.ai/deepakpokkalla/node-classification/sweeps/reuf9j38' target=\"_blank\">https://wandb.ai/deepakpokkalla/node-classification/sweeps/reuf9j38</a>"
      ],
      "text/plain": [
       "<IPython.core.display.HTML object>"
      ]
     },
     "metadata": {},
     "output_type": "display_data"
    },
    {
     "data": {
      "text/html": [
       " View project at <a href='https://wandb.ai/deepakpokkalla/node-classification' target=\"_blank\">https://wandb.ai/deepakpokkalla/node-classification</a>"
      ],
      "text/plain": [
       "<IPython.core.display.HTML object>"
      ]
     },
     "metadata": {},
     "output_type": "display_data"
    },
    {
     "data": {
      "text/html": [
       " View sweep at <a href='https://wandb.ai/deepakpokkalla/node-classification/sweeps/reuf9j38' target=\"_blank\">https://wandb.ai/deepakpokkalla/node-classification/sweeps/reuf9j38</a>"
      ],
      "text/plain": [
       "<IPython.core.display.HTML object>"
      ]
     },
     "metadata": {},
     "output_type": "display_data"
    },
    {
     "data": {
      "text/html": [
       " View run at <a href='https://wandb.ai/deepakpokkalla/node-classification/runs/4ihule0b' target=\"_blank\">https://wandb.ai/deepakpokkalla/node-classification/runs/4ihule0b</a>"
      ],
      "text/plain": [
       "<IPython.core.display.HTML object>"
      ]
     },
     "metadata": {},
     "output_type": "display_data"
    },
    {
     "name": "stderr",
     "output_type": "stream",
     "text": [
      "100%|██████████| 100/100 [00:01<00:00, 65.45it/s]\n"
     ]
    },
    {
     "data": {
      "text/html": [
       "\n",
       "    <style>\n",
       "        .wandb-row {\n",
       "            display: flex;\n",
       "            flex-direction: row;\n",
       "            flex-wrap: wrap;\n",
       "            justify-content: flex-start;\n",
       "            width: 100%;\n",
       "        }\n",
       "        .wandb-col {\n",
       "            display: flex;\n",
       "            flex-direction: column;\n",
       "            flex-basis: 100%;\n",
       "            flex: 1;\n",
       "            padding: 10px;\n",
       "        }\n",
       "    </style>\n",
       "<div class=\"wandb-row\"><div class=\"wandb-col\"><h3>Run history:</h3><br/><table class=\"wandb\"><tr><td>gcn/accuracy</td><td>▁</td></tr><tr><td>gcn/loss</td><td>█████▇▇▇▇▇▆▆▆▆▆▅▆▅▅▅▄▄▄▄▄▄▄▄▄▄▃▃▂▃▃▂▂▁▂▁</td></tr></table><br/></div><div class=\"wandb-col\"><h3>Run summary:</h3><br/><table class=\"wandb\"><tr><td>gcn/accuracy</td><td>0.648</td></tr><tr><td>gcn/loss</td><td>1.80388</td></tr></table><br/></div></div>"
      ],
      "text/plain": [
       "<IPython.core.display.HTML object>"
      ]
     },
     "metadata": {},
     "output_type": "display_data"
    },
    {
     "data": {
      "text/html": [
       " View run <strong style=\"color:#cdcd00\">zesty-sweep-11</strong> at: <a href='https://wandb.ai/deepakpokkalla/node-classification/runs/4ihule0b' target=\"_blank\">https://wandb.ai/deepakpokkalla/node-classification/runs/4ihule0b</a><br/> View project at: <a href='https://wandb.ai/deepakpokkalla/node-classification' target=\"_blank\">https://wandb.ai/deepakpokkalla/node-classification</a><br/>Synced 5 W&B file(s), 0 media file(s), 4 artifact file(s) and 2 other file(s)"
      ],
      "text/plain": [
       "<IPython.core.display.HTML object>"
      ]
     },
     "metadata": {},
     "output_type": "display_data"
    },
    {
     "data": {
      "text/html": [
       "Find logs at: <code>.\\wandb\\run-20241122_210335-4ihule0b\\logs</code>"
      ],
      "text/plain": [
       "<IPython.core.display.HTML object>"
      ]
     },
     "metadata": {},
     "output_type": "display_data"
    },
    {
     "name": "stderr",
     "output_type": "stream",
     "text": [
      "\u001b[34m\u001b[1mwandb\u001b[0m: Agent Starting Run: er9va87y with config:\n",
      "\u001b[34m\u001b[1mwandb\u001b[0m: \thidden_channels: 32\n",
      "\u001b[34m\u001b[1mwandb\u001b[0m: \tlr: 0.0007166023419777792\n",
      "\u001b[34m\u001b[1mwandb\u001b[0m: \tweight_decay: 0.0005186505281589425\n"
     ]
    },
    {
     "data": {
      "text/html": [
       "Tracking run with wandb version 0.18.7"
      ],
      "text/plain": [
       "<IPython.core.display.HTML object>"
      ]
     },
     "metadata": {},
     "output_type": "display_data"
    },
    {
     "data": {
      "text/html": [
       "Run data is saved locally in <code>d:\\users\\dpa13\\projects\\my_projects\\deeplearning_tutorials\\pytorch_geometric\\official_examples\\wandb\\run-20241122_210345-er9va87y</code>"
      ],
      "text/plain": [
       "<IPython.core.display.HTML object>"
      ]
     },
     "metadata": {},
     "output_type": "display_data"
    },
    {
     "data": {
      "text/html": [
       "Syncing run <strong><a href='https://wandb.ai/deepakpokkalla/node-classification/runs/er9va87y' target=\"_blank\">autumn-sweep-12</a></strong> to <a href='https://wandb.ai/deepakpokkalla/node-classification' target=\"_blank\">Weights & Biases</a> (<a href='https://wandb.me/developer-guide' target=\"_blank\">docs</a>)<br/>Sweep page: <a href='https://wandb.ai/deepakpokkalla/node-classification/sweeps/reuf9j38' target=\"_blank\">https://wandb.ai/deepakpokkalla/node-classification/sweeps/reuf9j38</a>"
      ],
      "text/plain": [
       "<IPython.core.display.HTML object>"
      ]
     },
     "metadata": {},
     "output_type": "display_data"
    },
    {
     "data": {
      "text/html": [
       " View project at <a href='https://wandb.ai/deepakpokkalla/node-classification' target=\"_blank\">https://wandb.ai/deepakpokkalla/node-classification</a>"
      ],
      "text/plain": [
       "<IPython.core.display.HTML object>"
      ]
     },
     "metadata": {},
     "output_type": "display_data"
    },
    {
     "data": {
      "text/html": [
       " View sweep at <a href='https://wandb.ai/deepakpokkalla/node-classification/sweeps/reuf9j38' target=\"_blank\">https://wandb.ai/deepakpokkalla/node-classification/sweeps/reuf9j38</a>"
      ],
      "text/plain": [
       "<IPython.core.display.HTML object>"
      ]
     },
     "metadata": {},
     "output_type": "display_data"
    },
    {
     "data": {
      "text/html": [
       " View run at <a href='https://wandb.ai/deepakpokkalla/node-classification/runs/er9va87y' target=\"_blank\">https://wandb.ai/deepakpokkalla/node-classification/runs/er9va87y</a>"
      ],
      "text/plain": [
       "<IPython.core.display.HTML object>"
      ]
     },
     "metadata": {},
     "output_type": "display_data"
    },
    {
     "name": "stderr",
     "output_type": "stream",
     "text": [
      "100%|██████████| 100/100 [00:01<00:00, 50.14it/s]\n"
     ]
    },
    {
     "data": {
      "text/html": [
       "\n",
       "    <style>\n",
       "        .wandb-row {\n",
       "            display: flex;\n",
       "            flex-direction: row;\n",
       "            flex-wrap: wrap;\n",
       "            justify-content: flex-start;\n",
       "            width: 100%;\n",
       "        }\n",
       "        .wandb-col {\n",
       "            display: flex;\n",
       "            flex-direction: column;\n",
       "            flex-basis: 100%;\n",
       "            flex: 1;\n",
       "            padding: 10px;\n",
       "        }\n",
       "    </style>\n",
       "<div class=\"wandb-row\"><div class=\"wandb-col\"><h3>Run history:</h3><br/><table class=\"wandb\"><tr><td>gcn/accuracy</td><td>▁</td></tr><tr><td>gcn/loss</td><td>██████▇▇▇▆▆▆▆▅▆▅▅▅▄▅▄▅▄▄▄▄▄▃▃▃▃▃▂▂▁▂▁▁▁▁</td></tr></table><br/></div><div class=\"wandb-col\"><h3>Run summary:</h3><br/><table class=\"wandb\"><tr><td>gcn/accuracy</td><td>0.657</td></tr><tr><td>gcn/loss</td><td>1.83624</td></tr></table><br/></div></div>"
      ],
      "text/plain": [
       "<IPython.core.display.HTML object>"
      ]
     },
     "metadata": {},
     "output_type": "display_data"
    },
    {
     "data": {
      "text/html": [
       " View run <strong style=\"color:#cdcd00\">autumn-sweep-12</strong> at: <a href='https://wandb.ai/deepakpokkalla/node-classification/runs/er9va87y' target=\"_blank\">https://wandb.ai/deepakpokkalla/node-classification/runs/er9va87y</a><br/> View project at: <a href='https://wandb.ai/deepakpokkalla/node-classification' target=\"_blank\">https://wandb.ai/deepakpokkalla/node-classification</a><br/>Synced 5 W&B file(s), 0 media file(s), 4 artifact file(s) and 2 other file(s)"
      ],
      "text/plain": [
       "<IPython.core.display.HTML object>"
      ]
     },
     "metadata": {},
     "output_type": "display_data"
    },
    {
     "data": {
      "text/html": [
       "Find logs at: <code>.\\wandb\\run-20241122_210345-er9va87y\\logs</code>"
      ],
      "text/plain": [
       "<IPython.core.display.HTML object>"
      ]
     },
     "metadata": {},
     "output_type": "display_data"
    },
    {
     "name": "stderr",
     "output_type": "stream",
     "text": [
      "\u001b[34m\u001b[1mwandb\u001b[0m: Agent Starting Run: ykrwtrgz with config:\n",
      "\u001b[34m\u001b[1mwandb\u001b[0m: \thidden_channels: 32\n",
      "\u001b[34m\u001b[1mwandb\u001b[0m: \tlr: 0.0006221739898352443\n",
      "\u001b[34m\u001b[1mwandb\u001b[0m: \tweight_decay: 0.0005164145774142262\n"
     ]
    },
    {
     "data": {
      "text/html": [
       "Tracking run with wandb version 0.18.7"
      ],
      "text/plain": [
       "<IPython.core.display.HTML object>"
      ]
     },
     "metadata": {},
     "output_type": "display_data"
    },
    {
     "data": {
      "text/html": [
       "Run data is saved locally in <code>d:\\users\\dpa13\\projects\\my_projects\\deeplearning_tutorials\\pytorch_geometric\\official_examples\\wandb\\run-20241122_210356-ykrwtrgz</code>"
      ],
      "text/plain": [
       "<IPython.core.display.HTML object>"
      ]
     },
     "metadata": {},
     "output_type": "display_data"
    },
    {
     "data": {
      "text/html": [
       "Syncing run <strong><a href='https://wandb.ai/deepakpokkalla/node-classification/runs/ykrwtrgz' target=\"_blank\">woven-sweep-13</a></strong> to <a href='https://wandb.ai/deepakpokkalla/node-classification' target=\"_blank\">Weights & Biases</a> (<a href='https://wandb.me/developer-guide' target=\"_blank\">docs</a>)<br/>Sweep page: <a href='https://wandb.ai/deepakpokkalla/node-classification/sweeps/reuf9j38' target=\"_blank\">https://wandb.ai/deepakpokkalla/node-classification/sweeps/reuf9j38</a>"
      ],
      "text/plain": [
       "<IPython.core.display.HTML object>"
      ]
     },
     "metadata": {},
     "output_type": "display_data"
    },
    {
     "data": {
      "text/html": [
       " View project at <a href='https://wandb.ai/deepakpokkalla/node-classification' target=\"_blank\">https://wandb.ai/deepakpokkalla/node-classification</a>"
      ],
      "text/plain": [
       "<IPython.core.display.HTML object>"
      ]
     },
     "metadata": {},
     "output_type": "display_data"
    },
    {
     "data": {
      "text/html": [
       " View sweep at <a href='https://wandb.ai/deepakpokkalla/node-classification/sweeps/reuf9j38' target=\"_blank\">https://wandb.ai/deepakpokkalla/node-classification/sweeps/reuf9j38</a>"
      ],
      "text/plain": [
       "<IPython.core.display.HTML object>"
      ]
     },
     "metadata": {},
     "output_type": "display_data"
    },
    {
     "data": {
      "text/html": [
       " View run at <a href='https://wandb.ai/deepakpokkalla/node-classification/runs/ykrwtrgz' target=\"_blank\">https://wandb.ai/deepakpokkalla/node-classification/runs/ykrwtrgz</a>"
      ],
      "text/plain": [
       "<IPython.core.display.HTML object>"
      ]
     },
     "metadata": {},
     "output_type": "display_data"
    },
    {
     "name": "stderr",
     "output_type": "stream",
     "text": [
      "100%|██████████| 100/100 [00:01<00:00, 71.96it/s]\n"
     ]
    },
    {
     "data": {
      "text/html": [
       "\n",
       "    <style>\n",
       "        .wandb-row {\n",
       "            display: flex;\n",
       "            flex-direction: row;\n",
       "            flex-wrap: wrap;\n",
       "            justify-content: flex-start;\n",
       "            width: 100%;\n",
       "        }\n",
       "        .wandb-col {\n",
       "            display: flex;\n",
       "            flex-direction: column;\n",
       "            flex-basis: 100%;\n",
       "            flex: 1;\n",
       "            padding: 10px;\n",
       "        }\n",
       "    </style>\n",
       "<div class=\"wandb-row\"><div class=\"wandb-col\"><h3>Run history:</h3><br/><table class=\"wandb\"><tr><td>gcn/accuracy</td><td>▁</td></tr><tr><td>gcn/loss</td><td>█████▇▇▇▇▇▆▆▆▆▆▆▆▅▅▅▄▅▄▅▅▄▄▃▃▄▃▃▃▂▂▂▂▂▂▁</td></tr></table><br/></div><div class=\"wandb-col\"><h3>Run summary:</h3><br/><table class=\"wandb\"><tr><td>gcn/accuracy</td><td>0.634</td></tr><tr><td>gcn/loss</td><td>1.84718</td></tr></table><br/></div></div>"
      ],
      "text/plain": [
       "<IPython.core.display.HTML object>"
      ]
     },
     "metadata": {},
     "output_type": "display_data"
    },
    {
     "data": {
      "text/html": [
       " View run <strong style=\"color:#cdcd00\">woven-sweep-13</strong> at: <a href='https://wandb.ai/deepakpokkalla/node-classification/runs/ykrwtrgz' target=\"_blank\">https://wandb.ai/deepakpokkalla/node-classification/runs/ykrwtrgz</a><br/> View project at: <a href='https://wandb.ai/deepakpokkalla/node-classification' target=\"_blank\">https://wandb.ai/deepakpokkalla/node-classification</a><br/>Synced 5 W&B file(s), 0 media file(s), 4 artifact file(s) and 2 other file(s)"
      ],
      "text/plain": [
       "<IPython.core.display.HTML object>"
      ]
     },
     "metadata": {},
     "output_type": "display_data"
    },
    {
     "data": {
      "text/html": [
       "Find logs at: <code>.\\wandb\\run-20241122_210356-ykrwtrgz\\logs</code>"
      ],
      "text/plain": [
       "<IPython.core.display.HTML object>"
      ]
     },
     "metadata": {},
     "output_type": "display_data"
    },
    {
     "name": "stderr",
     "output_type": "stream",
     "text": [
      "\u001b[34m\u001b[1mwandb\u001b[0m: Agent Starting Run: yznz63ad with config:\n",
      "\u001b[34m\u001b[1mwandb\u001b[0m: \thidden_channels: 32\n",
      "\u001b[34m\u001b[1mwandb\u001b[0m: \tlr: 0.000829212778679199\n",
      "\u001b[34m\u001b[1mwandb\u001b[0m: \tweight_decay: 0.0005184075884264762\n"
     ]
    },
    {
     "data": {
      "text/html": [
       "Tracking run with wandb version 0.18.7"
      ],
      "text/plain": [
       "<IPython.core.display.HTML object>"
      ]
     },
     "metadata": {},
     "output_type": "display_data"
    },
    {
     "data": {
      "text/html": [
       "Run data is saved locally in <code>d:\\users\\dpa13\\projects\\my_projects\\deeplearning_tutorials\\pytorch_geometric\\official_examples\\wandb\\run-20241122_210406-yznz63ad</code>"
      ],
      "text/plain": [
       "<IPython.core.display.HTML object>"
      ]
     },
     "metadata": {},
     "output_type": "display_data"
    },
    {
     "data": {
      "text/html": [
       "Syncing run <strong><a href='https://wandb.ai/deepakpokkalla/node-classification/runs/yznz63ad' target=\"_blank\">smooth-sweep-14</a></strong> to <a href='https://wandb.ai/deepakpokkalla/node-classification' target=\"_blank\">Weights & Biases</a> (<a href='https://wandb.me/developer-guide' target=\"_blank\">docs</a>)<br/>Sweep page: <a href='https://wandb.ai/deepakpokkalla/node-classification/sweeps/reuf9j38' target=\"_blank\">https://wandb.ai/deepakpokkalla/node-classification/sweeps/reuf9j38</a>"
      ],
      "text/plain": [
       "<IPython.core.display.HTML object>"
      ]
     },
     "metadata": {},
     "output_type": "display_data"
    },
    {
     "data": {
      "text/html": [
       " View project at <a href='https://wandb.ai/deepakpokkalla/node-classification' target=\"_blank\">https://wandb.ai/deepakpokkalla/node-classification</a>"
      ],
      "text/plain": [
       "<IPython.core.display.HTML object>"
      ]
     },
     "metadata": {},
     "output_type": "display_data"
    },
    {
     "data": {
      "text/html": [
       " View sweep at <a href='https://wandb.ai/deepakpokkalla/node-classification/sweeps/reuf9j38' target=\"_blank\">https://wandb.ai/deepakpokkalla/node-classification/sweeps/reuf9j38</a>"
      ],
      "text/plain": [
       "<IPython.core.display.HTML object>"
      ]
     },
     "metadata": {},
     "output_type": "display_data"
    },
    {
     "data": {
      "text/html": [
       " View run at <a href='https://wandb.ai/deepakpokkalla/node-classification/runs/yznz63ad' target=\"_blank\">https://wandb.ai/deepakpokkalla/node-classification/runs/yznz63ad</a>"
      ],
      "text/plain": [
       "<IPython.core.display.HTML object>"
      ]
     },
     "metadata": {},
     "output_type": "display_data"
    },
    {
     "name": "stderr",
     "output_type": "stream",
     "text": [
      "100%|██████████| 100/100 [00:02<00:00, 41.81it/s]\n"
     ]
    },
    {
     "data": {
      "text/html": [
       "\n",
       "    <style>\n",
       "        .wandb-row {\n",
       "            display: flex;\n",
       "            flex-direction: row;\n",
       "            flex-wrap: wrap;\n",
       "            justify-content: flex-start;\n",
       "            width: 100%;\n",
       "        }\n",
       "        .wandb-col {\n",
       "            display: flex;\n",
       "            flex-direction: column;\n",
       "            flex-basis: 100%;\n",
       "            flex: 1;\n",
       "            padding: 10px;\n",
       "        }\n",
       "    </style>\n",
       "<div class=\"wandb-row\"><div class=\"wandb-col\"><h3>Run history:</h3><br/><table class=\"wandb\"><tr><td>gcn/accuracy</td><td>▁</td></tr><tr><td>gcn/loss</td><td>███▇█▇▇▇▇▇▆▆▆▆▅▅▅▅▅▄▅▄▄▄▄▄▄▄▃▃▃▄▃▃▃▂▂▂▂▁</td></tr></table><br/></div><div class=\"wandb-col\"><h3>Run summary:</h3><br/><table class=\"wandb\"><tr><td>gcn/accuracy</td><td>0.546</td></tr><tr><td>gcn/loss</td><td>1.82107</td></tr></table><br/></div></div>"
      ],
      "text/plain": [
       "<IPython.core.display.HTML object>"
      ]
     },
     "metadata": {},
     "output_type": "display_data"
    },
    {
     "data": {
      "text/html": [
       " View run <strong style=\"color:#cdcd00\">smooth-sweep-14</strong> at: <a href='https://wandb.ai/deepakpokkalla/node-classification/runs/yznz63ad' target=\"_blank\">https://wandb.ai/deepakpokkalla/node-classification/runs/yznz63ad</a><br/> View project at: <a href='https://wandb.ai/deepakpokkalla/node-classification' target=\"_blank\">https://wandb.ai/deepakpokkalla/node-classification</a><br/>Synced 5 W&B file(s), 0 media file(s), 4 artifact file(s) and 2 other file(s)"
      ],
      "text/plain": [
       "<IPython.core.display.HTML object>"
      ]
     },
     "metadata": {},
     "output_type": "display_data"
    },
    {
     "data": {
      "text/html": [
       "Find logs at: <code>.\\wandb\\run-20241122_210406-yznz63ad\\logs</code>"
      ],
      "text/plain": [
       "<IPython.core.display.HTML object>"
      ]
     },
     "metadata": {},
     "output_type": "display_data"
    },
    {
     "name": "stderr",
     "output_type": "stream",
     "text": [
      "\u001b[34m\u001b[1mwandb\u001b[0m: Agent Starting Run: 4ytnokez with config:\n",
      "\u001b[34m\u001b[1mwandb\u001b[0m: \thidden_channels: 32\n",
      "\u001b[34m\u001b[1mwandb\u001b[0m: \tlr: 0.0008876632018025326\n",
      "\u001b[34m\u001b[1mwandb\u001b[0m: \tweight_decay: 0.00048727161882092826\n"
     ]
    },
    {
     "data": {
      "text/html": [
       "Tracking run with wandb version 0.18.7"
      ],
      "text/plain": [
       "<IPython.core.display.HTML object>"
      ]
     },
     "metadata": {},
     "output_type": "display_data"
    },
    {
     "data": {
      "text/html": [
       "Run data is saved locally in <code>d:\\users\\dpa13\\projects\\my_projects\\deeplearning_tutorials\\pytorch_geometric\\official_examples\\wandb\\run-20241122_210417-4ytnokez</code>"
      ],
      "text/plain": [
       "<IPython.core.display.HTML object>"
      ]
     },
     "metadata": {},
     "output_type": "display_data"
    },
    {
     "data": {
      "text/html": [
       "Syncing run <strong><a href='https://wandb.ai/deepakpokkalla/node-classification/runs/4ytnokez' target=\"_blank\">visionary-sweep-15</a></strong> to <a href='https://wandb.ai/deepakpokkalla/node-classification' target=\"_blank\">Weights & Biases</a> (<a href='https://wandb.me/developer-guide' target=\"_blank\">docs</a>)<br/>Sweep page: <a href='https://wandb.ai/deepakpokkalla/node-classification/sweeps/reuf9j38' target=\"_blank\">https://wandb.ai/deepakpokkalla/node-classification/sweeps/reuf9j38</a>"
      ],
      "text/plain": [
       "<IPython.core.display.HTML object>"
      ]
     },
     "metadata": {},
     "output_type": "display_data"
    },
    {
     "data": {
      "text/html": [
       " View project at <a href='https://wandb.ai/deepakpokkalla/node-classification' target=\"_blank\">https://wandb.ai/deepakpokkalla/node-classification</a>"
      ],
      "text/plain": [
       "<IPython.core.display.HTML object>"
      ]
     },
     "metadata": {},
     "output_type": "display_data"
    },
    {
     "data": {
      "text/html": [
       " View sweep at <a href='https://wandb.ai/deepakpokkalla/node-classification/sweeps/reuf9j38' target=\"_blank\">https://wandb.ai/deepakpokkalla/node-classification/sweeps/reuf9j38</a>"
      ],
      "text/plain": [
       "<IPython.core.display.HTML object>"
      ]
     },
     "metadata": {},
     "output_type": "display_data"
    },
    {
     "data": {
      "text/html": [
       " View run at <a href='https://wandb.ai/deepakpokkalla/node-classification/runs/4ytnokez' target=\"_blank\">https://wandb.ai/deepakpokkalla/node-classification/runs/4ytnokez</a>"
      ],
      "text/plain": [
       "<IPython.core.display.HTML object>"
      ]
     },
     "metadata": {},
     "output_type": "display_data"
    },
    {
     "name": "stderr",
     "output_type": "stream",
     "text": [
      "100%|██████████| 100/100 [00:02<00:00, 38.50it/s]\n"
     ]
    },
    {
     "data": {
      "text/html": [
       "\n",
       "    <style>\n",
       "        .wandb-row {\n",
       "            display: flex;\n",
       "            flex-direction: row;\n",
       "            flex-wrap: wrap;\n",
       "            justify-content: flex-start;\n",
       "            width: 100%;\n",
       "        }\n",
       "        .wandb-col {\n",
       "            display: flex;\n",
       "            flex-direction: column;\n",
       "            flex-basis: 100%;\n",
       "            flex: 1;\n",
       "            padding: 10px;\n",
       "        }\n",
       "    </style>\n",
       "<div class=\"wandb-row\"><div class=\"wandb-col\"><h3>Run history:</h3><br/><table class=\"wandb\"><tr><td>gcn/accuracy</td><td>▁</td></tr><tr><td>gcn/loss</td><td>█▇▇█▇▇▇▆▆▇▆▆▆▅▅▅▅▅▅▅▅▄▄▄▄▄▃▃▃▃▄▃▂▂▆▂▁▁▁▁</td></tr></table><br/></div><div class=\"wandb-col\"><h3>Run summary:</h3><br/><table class=\"wandb\"><tr><td>gcn/accuracy</td><td>0.564</td></tr><tr><td>gcn/loss</td><td>1.83456</td></tr></table><br/></div></div>"
      ],
      "text/plain": [
       "<IPython.core.display.HTML object>"
      ]
     },
     "metadata": {},
     "output_type": "display_data"
    },
    {
     "data": {
      "text/html": [
       " View run <strong style=\"color:#cdcd00\">visionary-sweep-15</strong> at: <a href='https://wandb.ai/deepakpokkalla/node-classification/runs/4ytnokez' target=\"_blank\">https://wandb.ai/deepakpokkalla/node-classification/runs/4ytnokez</a><br/> View project at: <a href='https://wandb.ai/deepakpokkalla/node-classification' target=\"_blank\">https://wandb.ai/deepakpokkalla/node-classification</a><br/>Synced 5 W&B file(s), 0 media file(s), 4 artifact file(s) and 2 other file(s)"
      ],
      "text/plain": [
       "<IPython.core.display.HTML object>"
      ]
     },
     "metadata": {},
     "output_type": "display_data"
    },
    {
     "data": {
      "text/html": [
       "Find logs at: <code>.\\wandb\\run-20241122_210417-4ytnokez\\logs</code>"
      ],
      "text/plain": [
       "<IPython.core.display.HTML object>"
      ]
     },
     "metadata": {},
     "output_type": "display_data"
    },
    {
     "name": "stderr",
     "output_type": "stream",
     "text": [
      "\u001b[34m\u001b[1mwandb\u001b[0m: Agent Starting Run: wzmspc4b with config:\n",
      "\u001b[34m\u001b[1mwandb\u001b[0m: \thidden_channels: 16\n",
      "\u001b[34m\u001b[1mwandb\u001b[0m: \tlr: 0.0009342343306806168\n",
      "\u001b[34m\u001b[1mwandb\u001b[0m: \tweight_decay: 0.0005121505028435917\n"
     ]
    },
    {
     "data": {
      "text/html": [
       "Tracking run with wandb version 0.18.7"
      ],
      "text/plain": [
       "<IPython.core.display.HTML object>"
      ]
     },
     "metadata": {},
     "output_type": "display_data"
    },
    {
     "data": {
      "text/html": [
       "Run data is saved locally in <code>d:\\users\\dpa13\\projects\\my_projects\\deeplearning_tutorials\\pytorch_geometric\\official_examples\\wandb\\run-20241122_210427-wzmspc4b</code>"
      ],
      "text/plain": [
       "<IPython.core.display.HTML object>"
      ]
     },
     "metadata": {},
     "output_type": "display_data"
    },
    {
     "data": {
      "text/html": [
       "Syncing run <strong><a href='https://wandb.ai/deepakpokkalla/node-classification/runs/wzmspc4b' target=\"_blank\">sage-sweep-16</a></strong> to <a href='https://wandb.ai/deepakpokkalla/node-classification' target=\"_blank\">Weights & Biases</a> (<a href='https://wandb.me/developer-guide' target=\"_blank\">docs</a>)<br/>Sweep page: <a href='https://wandb.ai/deepakpokkalla/node-classification/sweeps/reuf9j38' target=\"_blank\">https://wandb.ai/deepakpokkalla/node-classification/sweeps/reuf9j38</a>"
      ],
      "text/plain": [
       "<IPython.core.display.HTML object>"
      ]
     },
     "metadata": {},
     "output_type": "display_data"
    },
    {
     "data": {
      "text/html": [
       " View project at <a href='https://wandb.ai/deepakpokkalla/node-classification' target=\"_blank\">https://wandb.ai/deepakpokkalla/node-classification</a>"
      ],
      "text/plain": [
       "<IPython.core.display.HTML object>"
      ]
     },
     "metadata": {},
     "output_type": "display_data"
    },
    {
     "data": {
      "text/html": [
       " View sweep at <a href='https://wandb.ai/deepakpokkalla/node-classification/sweeps/reuf9j38' target=\"_blank\">https://wandb.ai/deepakpokkalla/node-classification/sweeps/reuf9j38</a>"
      ],
      "text/plain": [
       "<IPython.core.display.HTML object>"
      ]
     },
     "metadata": {},
     "output_type": "display_data"
    },
    {
     "data": {
      "text/html": [
       " View run at <a href='https://wandb.ai/deepakpokkalla/node-classification/runs/wzmspc4b' target=\"_blank\">https://wandb.ai/deepakpokkalla/node-classification/runs/wzmspc4b</a>"
      ],
      "text/plain": [
       "<IPython.core.display.HTML object>"
      ]
     },
     "metadata": {},
     "output_type": "display_data"
    },
    {
     "name": "stderr",
     "output_type": "stream",
     "text": [
      "100%|██████████| 100/100 [00:01<00:00, 59.79it/s]\n"
     ]
    },
    {
     "data": {
      "text/html": [
       "\n",
       "    <style>\n",
       "        .wandb-row {\n",
       "            display: flex;\n",
       "            flex-direction: row;\n",
       "            flex-wrap: wrap;\n",
       "            justify-content: flex-start;\n",
       "            width: 100%;\n",
       "        }\n",
       "        .wandb-col {\n",
       "            display: flex;\n",
       "            flex-direction: column;\n",
       "            flex-basis: 100%;\n",
       "            flex: 1;\n",
       "            padding: 10px;\n",
       "        }\n",
       "    </style>\n",
       "<div class=\"wandb-row\"><div class=\"wandb-col\"><h3>Run history:</h3><br/><table class=\"wandb\"><tr><td>gcn/accuracy</td><td>▁</td></tr><tr><td>gcn/loss</td><td>▇▆█▆▅▅▅▄▅▄▄▅▄▄▄▄▄▄▄▃▃▃▃▃▃▃▃▃▃▃▂▁▂▃▂▁▁▁▁▁</td></tr></table><br/></div><div class=\"wandb-col\"><h3>Run summary:</h3><br/><table class=\"wandb\"><tr><td>gcn/accuracy</td><td>0.592</td></tr><tr><td>gcn/loss</td><td>1.87584</td></tr></table><br/></div></div>"
      ],
      "text/plain": [
       "<IPython.core.display.HTML object>"
      ]
     },
     "metadata": {},
     "output_type": "display_data"
    },
    {
     "data": {
      "text/html": [
       " View run <strong style=\"color:#cdcd00\">sage-sweep-16</strong> at: <a href='https://wandb.ai/deepakpokkalla/node-classification/runs/wzmspc4b' target=\"_blank\">https://wandb.ai/deepakpokkalla/node-classification/runs/wzmspc4b</a><br/> View project at: <a href='https://wandb.ai/deepakpokkalla/node-classification' target=\"_blank\">https://wandb.ai/deepakpokkalla/node-classification</a><br/>Synced 5 W&B file(s), 0 media file(s), 4 artifact file(s) and 2 other file(s)"
      ],
      "text/plain": [
       "<IPython.core.display.HTML object>"
      ]
     },
     "metadata": {},
     "output_type": "display_data"
    },
    {
     "data": {
      "text/html": [
       "Find logs at: <code>.\\wandb\\run-20241122_210427-wzmspc4b\\logs</code>"
      ],
      "text/plain": [
       "<IPython.core.display.HTML object>"
      ]
     },
     "metadata": {},
     "output_type": "display_data"
    },
    {
     "name": "stderr",
     "output_type": "stream",
     "text": [
      "\u001b[34m\u001b[1mwandb\u001b[0m: Agent Starting Run: fqa9v7ku with config:\n",
      "\u001b[34m\u001b[1mwandb\u001b[0m: \thidden_channels: 8\n",
      "\u001b[34m\u001b[1mwandb\u001b[0m: \tlr: 0.0002811348030234511\n",
      "\u001b[34m\u001b[1mwandb\u001b[0m: \tweight_decay: 0.0004973980886217647\n"
     ]
    },
    {
     "data": {
      "text/html": [
       "Tracking run with wandb version 0.18.7"
      ],
      "text/plain": [
       "<IPython.core.display.HTML object>"
      ]
     },
     "metadata": {},
     "output_type": "display_data"
    },
    {
     "data": {
      "text/html": [
       "Run data is saved locally in <code>d:\\users\\dpa13\\projects\\my_projects\\deeplearning_tutorials\\pytorch_geometric\\official_examples\\wandb\\run-20241122_210443-fqa9v7ku</code>"
      ],
      "text/plain": [
       "<IPython.core.display.HTML object>"
      ]
     },
     "metadata": {},
     "output_type": "display_data"
    },
    {
     "data": {
      "text/html": [
       "Syncing run <strong><a href='https://wandb.ai/deepakpokkalla/node-classification/runs/fqa9v7ku' target=\"_blank\">avid-sweep-17</a></strong> to <a href='https://wandb.ai/deepakpokkalla/node-classification' target=\"_blank\">Weights & Biases</a> (<a href='https://wandb.me/developer-guide' target=\"_blank\">docs</a>)<br/>Sweep page: <a href='https://wandb.ai/deepakpokkalla/node-classification/sweeps/reuf9j38' target=\"_blank\">https://wandb.ai/deepakpokkalla/node-classification/sweeps/reuf9j38</a>"
      ],
      "text/plain": [
       "<IPython.core.display.HTML object>"
      ]
     },
     "metadata": {},
     "output_type": "display_data"
    },
    {
     "data": {
      "text/html": [
       " View project at <a href='https://wandb.ai/deepakpokkalla/node-classification' target=\"_blank\">https://wandb.ai/deepakpokkalla/node-classification</a>"
      ],
      "text/plain": [
       "<IPython.core.display.HTML object>"
      ]
     },
     "metadata": {},
     "output_type": "display_data"
    },
    {
     "data": {
      "text/html": [
       " View sweep at <a href='https://wandb.ai/deepakpokkalla/node-classification/sweeps/reuf9j38' target=\"_blank\">https://wandb.ai/deepakpokkalla/node-classification/sweeps/reuf9j38</a>"
      ],
      "text/plain": [
       "<IPython.core.display.HTML object>"
      ]
     },
     "metadata": {},
     "output_type": "display_data"
    },
    {
     "data": {
      "text/html": [
       " View run at <a href='https://wandb.ai/deepakpokkalla/node-classification/runs/fqa9v7ku' target=\"_blank\">https://wandb.ai/deepakpokkalla/node-classification/runs/fqa9v7ku</a>"
      ],
      "text/plain": [
       "<IPython.core.display.HTML object>"
      ]
     },
     "metadata": {},
     "output_type": "display_data"
    },
    {
     "name": "stderr",
     "output_type": "stream",
     "text": [
      "100%|██████████| 100/100 [00:01<00:00, 67.95it/s]\n"
     ]
    },
    {
     "data": {
      "text/html": [
       "\n",
       "    <style>\n",
       "        .wandb-row {\n",
       "            display: flex;\n",
       "            flex-direction: row;\n",
       "            flex-wrap: wrap;\n",
       "            justify-content: flex-start;\n",
       "            width: 100%;\n",
       "        }\n",
       "        .wandb-col {\n",
       "            display: flex;\n",
       "            flex-direction: column;\n",
       "            flex-basis: 100%;\n",
       "            flex: 1;\n",
       "            padding: 10px;\n",
       "        }\n",
       "    </style>\n",
       "<div class=\"wandb-row\"><div class=\"wandb-col\"><h3>Run history:</h3><br/><table class=\"wandb\"><tr><td>gcn/accuracy</td><td>▁</td></tr><tr><td>gcn/loss</td><td>█████▇▇▇▇▇▇▆▆▆▆▅▆▆▅▅▅▅▅▅▄▄▃▄▃▃▃▃▃▂▂▂▂▂▁▁</td></tr></table><br/></div><div class=\"wandb-col\"><h3>Run summary:</h3><br/><table class=\"wandb\"><tr><td>gcn/accuracy</td><td>0.552</td></tr><tr><td>gcn/loss</td><td>1.92627</td></tr></table><br/></div></div>"
      ],
      "text/plain": [
       "<IPython.core.display.HTML object>"
      ]
     },
     "metadata": {},
     "output_type": "display_data"
    },
    {
     "data": {
      "text/html": [
       " View run <strong style=\"color:#cdcd00\">avid-sweep-17</strong> at: <a href='https://wandb.ai/deepakpokkalla/node-classification/runs/fqa9v7ku' target=\"_blank\">https://wandb.ai/deepakpokkalla/node-classification/runs/fqa9v7ku</a><br/> View project at: <a href='https://wandb.ai/deepakpokkalla/node-classification' target=\"_blank\">https://wandb.ai/deepakpokkalla/node-classification</a><br/>Synced 5 W&B file(s), 0 media file(s), 4 artifact file(s) and 2 other file(s)"
      ],
      "text/plain": [
       "<IPython.core.display.HTML object>"
      ]
     },
     "metadata": {},
     "output_type": "display_data"
    },
    {
     "data": {
      "text/html": [
       "Find logs at: <code>.\\wandb\\run-20241122_210443-fqa9v7ku\\logs</code>"
      ],
      "text/plain": [
       "<IPython.core.display.HTML object>"
      ]
     },
     "metadata": {},
     "output_type": "display_data"
    },
    {
     "name": "stderr",
     "output_type": "stream",
     "text": [
      "\u001b[34m\u001b[1mwandb\u001b[0m: Agent Starting Run: mo2rtiju with config:\n",
      "\u001b[34m\u001b[1mwandb\u001b[0m: \thidden_channels: 16\n",
      "\u001b[34m\u001b[1mwandb\u001b[0m: \tlr: 0.00014852250978315243\n",
      "\u001b[34m\u001b[1mwandb\u001b[0m: \tweight_decay: 0.0005112341320465555\n"
     ]
    },
    {
     "data": {
      "text/html": [
       "Tracking run with wandb version 0.18.7"
      ],
      "text/plain": [
       "<IPython.core.display.HTML object>"
      ]
     },
     "metadata": {},
     "output_type": "display_data"
    },
    {
     "data": {
      "text/html": [
       "Run data is saved locally in <code>d:\\users\\dpa13\\projects\\my_projects\\deeplearning_tutorials\\pytorch_geometric\\official_examples\\wandb\\run-20241122_210453-mo2rtiju</code>"
      ],
      "text/plain": [
       "<IPython.core.display.HTML object>"
      ]
     },
     "metadata": {},
     "output_type": "display_data"
    },
    {
     "data": {
      "text/html": [
       "Syncing run <strong><a href='https://wandb.ai/deepakpokkalla/node-classification/runs/mo2rtiju' target=\"_blank\">graceful-sweep-18</a></strong> to <a href='https://wandb.ai/deepakpokkalla/node-classification' target=\"_blank\">Weights & Biases</a> (<a href='https://wandb.me/developer-guide' target=\"_blank\">docs</a>)<br/>Sweep page: <a href='https://wandb.ai/deepakpokkalla/node-classification/sweeps/reuf9j38' target=\"_blank\">https://wandb.ai/deepakpokkalla/node-classification/sweeps/reuf9j38</a>"
      ],
      "text/plain": [
       "<IPython.core.display.HTML object>"
      ]
     },
     "metadata": {},
     "output_type": "display_data"
    },
    {
     "data": {
      "text/html": [
       " View project at <a href='https://wandb.ai/deepakpokkalla/node-classification' target=\"_blank\">https://wandb.ai/deepakpokkalla/node-classification</a>"
      ],
      "text/plain": [
       "<IPython.core.display.HTML object>"
      ]
     },
     "metadata": {},
     "output_type": "display_data"
    },
    {
     "data": {
      "text/html": [
       " View sweep at <a href='https://wandb.ai/deepakpokkalla/node-classification/sweeps/reuf9j38' target=\"_blank\">https://wandb.ai/deepakpokkalla/node-classification/sweeps/reuf9j38</a>"
      ],
      "text/plain": [
       "<IPython.core.display.HTML object>"
      ]
     },
     "metadata": {},
     "output_type": "display_data"
    },
    {
     "data": {
      "text/html": [
       " View run at <a href='https://wandb.ai/deepakpokkalla/node-classification/runs/mo2rtiju' target=\"_blank\">https://wandb.ai/deepakpokkalla/node-classification/runs/mo2rtiju</a>"
      ],
      "text/plain": [
       "<IPython.core.display.HTML object>"
      ]
     },
     "metadata": {},
     "output_type": "display_data"
    },
    {
     "name": "stderr",
     "output_type": "stream",
     "text": [
      "100%|██████████| 100/100 [00:01<00:00, 60.25it/s]\n"
     ]
    },
    {
     "data": {
      "text/html": [
       "\n",
       "    <style>\n",
       "        .wandb-row {\n",
       "            display: flex;\n",
       "            flex-direction: row;\n",
       "            flex-wrap: wrap;\n",
       "            justify-content: flex-start;\n",
       "            width: 100%;\n",
       "        }\n",
       "        .wandb-col {\n",
       "            display: flex;\n",
       "            flex-direction: column;\n",
       "            flex-basis: 100%;\n",
       "            flex: 1;\n",
       "            padding: 10px;\n",
       "        }\n",
       "    </style>\n",
       "<div class=\"wandb-row\"><div class=\"wandb-col\"><h3>Run history:</h3><br/><table class=\"wandb\"><tr><td>gcn/accuracy</td><td>▁</td></tr><tr><td>gcn/loss</td><td>█▆▄▅▆▆▄▆▄▅▅▃▆▃▄▄▃▆▂▆▅▂▃▃▆▅▂▆▄▃▃▁▄▄▄▂▂▃▄▄</td></tr></table><br/></div><div class=\"wandb-col\"><h3>Run summary:</h3><br/><table class=\"wandb\"><tr><td>gcn/accuracy</td><td>0.486</td></tr><tr><td>gcn/loss</td><td>1.96467</td></tr></table><br/></div></div>"
      ],
      "text/plain": [
       "<IPython.core.display.HTML object>"
      ]
     },
     "metadata": {},
     "output_type": "display_data"
    },
    {
     "data": {
      "text/html": [
       " View run <strong style=\"color:#cdcd00\">graceful-sweep-18</strong> at: <a href='https://wandb.ai/deepakpokkalla/node-classification/runs/mo2rtiju' target=\"_blank\">https://wandb.ai/deepakpokkalla/node-classification/runs/mo2rtiju</a><br/> View project at: <a href='https://wandb.ai/deepakpokkalla/node-classification' target=\"_blank\">https://wandb.ai/deepakpokkalla/node-classification</a><br/>Synced 5 W&B file(s), 0 media file(s), 4 artifact file(s) and 2 other file(s)"
      ],
      "text/plain": [
       "<IPython.core.display.HTML object>"
      ]
     },
     "metadata": {},
     "output_type": "display_data"
    },
    {
     "data": {
      "text/html": [
       "Find logs at: <code>.\\wandb\\run-20241122_210453-mo2rtiju\\logs</code>"
      ],
      "text/plain": [
       "<IPython.core.display.HTML object>"
      ]
     },
     "metadata": {},
     "output_type": "display_data"
    },
    {
     "name": "stderr",
     "output_type": "stream",
     "text": [
      "\u001b[34m\u001b[1mwandb\u001b[0m: Agent Starting Run: qytrkxln with config:\n",
      "\u001b[34m\u001b[1mwandb\u001b[0m: \thidden_channels: 32\n",
      "\u001b[34m\u001b[1mwandb\u001b[0m: \tlr: 0.00014740514934941324\n",
      "\u001b[34m\u001b[1mwandb\u001b[0m: \tweight_decay: 0.0004886069001413364\n"
     ]
    },
    {
     "data": {
      "text/html": [
       "Tracking run with wandb version 0.18.7"
      ],
      "text/plain": [
       "<IPython.core.display.HTML object>"
      ]
     },
     "metadata": {},
     "output_type": "display_data"
    },
    {
     "data": {
      "text/html": [
       "Run data is saved locally in <code>d:\\users\\dpa13\\projects\\my_projects\\deeplearning_tutorials\\pytorch_geometric\\official_examples\\wandb\\run-20241122_210504-qytrkxln</code>"
      ],
      "text/plain": [
       "<IPython.core.display.HTML object>"
      ]
     },
     "metadata": {},
     "output_type": "display_data"
    },
    {
     "data": {
      "text/html": [
       "Syncing run <strong><a href='https://wandb.ai/deepakpokkalla/node-classification/runs/qytrkxln' target=\"_blank\">worthy-sweep-19</a></strong> to <a href='https://wandb.ai/deepakpokkalla/node-classification' target=\"_blank\">Weights & Biases</a> (<a href='https://wandb.me/developer-guide' target=\"_blank\">docs</a>)<br/>Sweep page: <a href='https://wandb.ai/deepakpokkalla/node-classification/sweeps/reuf9j38' target=\"_blank\">https://wandb.ai/deepakpokkalla/node-classification/sweeps/reuf9j38</a>"
      ],
      "text/plain": [
       "<IPython.core.display.HTML object>"
      ]
     },
     "metadata": {},
     "output_type": "display_data"
    },
    {
     "data": {
      "text/html": [
       " View project at <a href='https://wandb.ai/deepakpokkalla/node-classification' target=\"_blank\">https://wandb.ai/deepakpokkalla/node-classification</a>"
      ],
      "text/plain": [
       "<IPython.core.display.HTML object>"
      ]
     },
     "metadata": {},
     "output_type": "display_data"
    },
    {
     "data": {
      "text/html": [
       " View sweep at <a href='https://wandb.ai/deepakpokkalla/node-classification/sweeps/reuf9j38' target=\"_blank\">https://wandb.ai/deepakpokkalla/node-classification/sweeps/reuf9j38</a>"
      ],
      "text/plain": [
       "<IPython.core.display.HTML object>"
      ]
     },
     "metadata": {},
     "output_type": "display_data"
    },
    {
     "data": {
      "text/html": [
       " View run at <a href='https://wandb.ai/deepakpokkalla/node-classification/runs/qytrkxln' target=\"_blank\">https://wandb.ai/deepakpokkalla/node-classification/runs/qytrkxln</a>"
      ],
      "text/plain": [
       "<IPython.core.display.HTML object>"
      ]
     },
     "metadata": {},
     "output_type": "display_data"
    },
    {
     "name": "stderr",
     "output_type": "stream",
     "text": [
      "100%|██████████| 100/100 [00:02<00:00, 41.31it/s]\n"
     ]
    },
    {
     "data": {
      "text/html": [
       "\n",
       "    <style>\n",
       "        .wandb-row {\n",
       "            display: flex;\n",
       "            flex-direction: row;\n",
       "            flex-wrap: wrap;\n",
       "            justify-content: flex-start;\n",
       "            width: 100%;\n",
       "        }\n",
       "        .wandb-col {\n",
       "            display: flex;\n",
       "            flex-direction: column;\n",
       "            flex-basis: 100%;\n",
       "            flex: 1;\n",
       "            padding: 10px;\n",
       "        }\n",
       "    </style>\n",
       "<div class=\"wandb-row\"><div class=\"wandb-col\"><h3>Run history:</h3><br/><table class=\"wandb\"><tr><td>gcn/accuracy</td><td>▁</td></tr><tr><td>gcn/loss</td><td>▅▅▅▇▆▅███▆▆▅▆▅▆▃▄▄▅▄▃▃▄▄▅▃▆▃▃▃▅▂▃▃▃▁▂▂▁▁</td></tr></table><br/></div><div class=\"wandb-col\"><h3>Run summary:</h3><br/><table class=\"wandb\"><tr><td>gcn/accuracy</td><td>0.553</td></tr><tr><td>gcn/loss</td><td>1.92618</td></tr></table><br/></div></div>"
      ],
      "text/plain": [
       "<IPython.core.display.HTML object>"
      ]
     },
     "metadata": {},
     "output_type": "display_data"
    },
    {
     "data": {
      "text/html": [
       " View run <strong style=\"color:#cdcd00\">worthy-sweep-19</strong> at: <a href='https://wandb.ai/deepakpokkalla/node-classification/runs/qytrkxln' target=\"_blank\">https://wandb.ai/deepakpokkalla/node-classification/runs/qytrkxln</a><br/> View project at: <a href='https://wandb.ai/deepakpokkalla/node-classification' target=\"_blank\">https://wandb.ai/deepakpokkalla/node-classification</a><br/>Synced 5 W&B file(s), 0 media file(s), 4 artifact file(s) and 2 other file(s)"
      ],
      "text/plain": [
       "<IPython.core.display.HTML object>"
      ]
     },
     "metadata": {},
     "output_type": "display_data"
    },
    {
     "data": {
      "text/html": [
       "Find logs at: <code>.\\wandb\\run-20241122_210504-qytrkxln\\logs</code>"
      ],
      "text/plain": [
       "<IPython.core.display.HTML object>"
      ]
     },
     "metadata": {},
     "output_type": "display_data"
    },
    {
     "name": "stderr",
     "output_type": "stream",
     "text": [
      "\u001b[34m\u001b[1mwandb\u001b[0m: Agent Starting Run: rogqbx8r with config:\n",
      "\u001b[34m\u001b[1mwandb\u001b[0m: \thidden_channels: 8\n",
      "\u001b[34m\u001b[1mwandb\u001b[0m: \tlr: 0.0002630966802240634\n",
      "\u001b[34m\u001b[1mwandb\u001b[0m: \tweight_decay: 0.0004894507254399247\n"
     ]
    },
    {
     "data": {
      "text/html": [
       "Tracking run with wandb version 0.18.7"
      ],
      "text/plain": [
       "<IPython.core.display.HTML object>"
      ]
     },
     "metadata": {},
     "output_type": "display_data"
    },
    {
     "data": {
      "text/html": [
       "Run data is saved locally in <code>d:\\users\\dpa13\\projects\\my_projects\\deeplearning_tutorials\\pytorch_geometric\\official_examples\\wandb\\run-20241122_210515-rogqbx8r</code>"
      ],
      "text/plain": [
       "<IPython.core.display.HTML object>"
      ]
     },
     "metadata": {},
     "output_type": "display_data"
    },
    {
     "data": {
      "text/html": [
       "Syncing run <strong><a href='https://wandb.ai/deepakpokkalla/node-classification/runs/rogqbx8r' target=\"_blank\">youthful-sweep-20</a></strong> to <a href='https://wandb.ai/deepakpokkalla/node-classification' target=\"_blank\">Weights & Biases</a> (<a href='https://wandb.me/developer-guide' target=\"_blank\">docs</a>)<br/>Sweep page: <a href='https://wandb.ai/deepakpokkalla/node-classification/sweeps/reuf9j38' target=\"_blank\">https://wandb.ai/deepakpokkalla/node-classification/sweeps/reuf9j38</a>"
      ],
      "text/plain": [
       "<IPython.core.display.HTML object>"
      ]
     },
     "metadata": {},
     "output_type": "display_data"
    },
    {
     "data": {
      "text/html": [
       " View project at <a href='https://wandb.ai/deepakpokkalla/node-classification' target=\"_blank\">https://wandb.ai/deepakpokkalla/node-classification</a>"
      ],
      "text/plain": [
       "<IPython.core.display.HTML object>"
      ]
     },
     "metadata": {},
     "output_type": "display_data"
    },
    {
     "data": {
      "text/html": [
       " View sweep at <a href='https://wandb.ai/deepakpokkalla/node-classification/sweeps/reuf9j38' target=\"_blank\">https://wandb.ai/deepakpokkalla/node-classification/sweeps/reuf9j38</a>"
      ],
      "text/plain": [
       "<IPython.core.display.HTML object>"
      ]
     },
     "metadata": {},
     "output_type": "display_data"
    },
    {
     "data": {
      "text/html": [
       " View run at <a href='https://wandb.ai/deepakpokkalla/node-classification/runs/rogqbx8r' target=\"_blank\">https://wandb.ai/deepakpokkalla/node-classification/runs/rogqbx8r</a>"
      ],
      "text/plain": [
       "<IPython.core.display.HTML object>"
      ]
     },
     "metadata": {},
     "output_type": "display_data"
    },
    {
     "name": "stderr",
     "output_type": "stream",
     "text": [
      "100%|██████████| 100/100 [00:01<00:00, 69.66it/s]\n"
     ]
    },
    {
     "data": {
      "text/html": [
       "\n",
       "    <style>\n",
       "        .wandb-row {\n",
       "            display: flex;\n",
       "            flex-direction: row;\n",
       "            flex-wrap: wrap;\n",
       "            justify-content: flex-start;\n",
       "            width: 100%;\n",
       "        }\n",
       "        .wandb-col {\n",
       "            display: flex;\n",
       "            flex-direction: column;\n",
       "            flex-basis: 100%;\n",
       "            flex: 1;\n",
       "            padding: 10px;\n",
       "        }\n",
       "    </style>\n",
       "<div class=\"wandb-row\"><div class=\"wandb-col\"><h3>Run history:</h3><br/><table class=\"wandb\"><tr><td>gcn/accuracy</td><td>▁</td></tr><tr><td>gcn/loss</td><td>████▇▇▇▇▇▇▇▇▇▇▇▆▆▆▆▆▆▅▅▅▅▅▅▅▄▄▄▃▃▃▂▂▂▂▁▁</td></tr></table><br/></div><div class=\"wandb-col\"><h3>Run summary:</h3><br/><table class=\"wandb\"><tr><td>gcn/accuracy</td><td>0.547</td></tr><tr><td>gcn/loss</td><td>1.92769</td></tr></table><br/></div></div>"
      ],
      "text/plain": [
       "<IPython.core.display.HTML object>"
      ]
     },
     "metadata": {},
     "output_type": "display_data"
    },
    {
     "data": {
      "text/html": [
       " View run <strong style=\"color:#cdcd00\">youthful-sweep-20</strong> at: <a href='https://wandb.ai/deepakpokkalla/node-classification/runs/rogqbx8r' target=\"_blank\">https://wandb.ai/deepakpokkalla/node-classification/runs/rogqbx8r</a><br/> View project at: <a href='https://wandb.ai/deepakpokkalla/node-classification' target=\"_blank\">https://wandb.ai/deepakpokkalla/node-classification</a><br/>Synced 5 W&B file(s), 0 media file(s), 4 artifact file(s) and 2 other file(s)"
      ],
      "text/plain": [
       "<IPython.core.display.HTML object>"
      ]
     },
     "metadata": {},
     "output_type": "display_data"
    },
    {
     "data": {
      "text/html": [
       "Find logs at: <code>.\\wandb\\run-20241122_210515-rogqbx8r\\logs</code>"
      ],
      "text/plain": [
       "<IPython.core.display.HTML object>"
      ]
     },
     "metadata": {},
     "output_type": "display_data"
    },
    {
     "name": "stderr",
     "output_type": "stream",
     "text": [
      "\u001b[34m\u001b[1mwandb\u001b[0m: Agent Starting Run: ecr0i28w with config:\n",
      "\u001b[34m\u001b[1mwandb\u001b[0m: \thidden_channels: 32\n",
      "\u001b[34m\u001b[1mwandb\u001b[0m: \tlr: 0.0001454589854425573\n",
      "\u001b[34m\u001b[1mwandb\u001b[0m: \tweight_decay: 0.0004839341346469095\n"
     ]
    },
    {
     "data": {
      "text/html": [
       "Tracking run with wandb version 0.18.7"
      ],
      "text/plain": [
       "<IPython.core.display.HTML object>"
      ]
     },
     "metadata": {},
     "output_type": "display_data"
    },
    {
     "data": {
      "text/html": [
       "Run data is saved locally in <code>d:\\users\\dpa13\\projects\\my_projects\\deeplearning_tutorials\\pytorch_geometric\\official_examples\\wandb\\run-20241122_210525-ecr0i28w</code>"
      ],
      "text/plain": [
       "<IPython.core.display.HTML object>"
      ]
     },
     "metadata": {},
     "output_type": "display_data"
    },
    {
     "data": {
      "text/html": [
       "Syncing run <strong><a href='https://wandb.ai/deepakpokkalla/node-classification/runs/ecr0i28w' target=\"_blank\">genial-sweep-21</a></strong> to <a href='https://wandb.ai/deepakpokkalla/node-classification' target=\"_blank\">Weights & Biases</a> (<a href='https://wandb.me/developer-guide' target=\"_blank\">docs</a>)<br/>Sweep page: <a href='https://wandb.ai/deepakpokkalla/node-classification/sweeps/reuf9j38' target=\"_blank\">https://wandb.ai/deepakpokkalla/node-classification/sweeps/reuf9j38</a>"
      ],
      "text/plain": [
       "<IPython.core.display.HTML object>"
      ]
     },
     "metadata": {},
     "output_type": "display_data"
    },
    {
     "data": {
      "text/html": [
       " View project at <a href='https://wandb.ai/deepakpokkalla/node-classification' target=\"_blank\">https://wandb.ai/deepakpokkalla/node-classification</a>"
      ],
      "text/plain": [
       "<IPython.core.display.HTML object>"
      ]
     },
     "metadata": {},
     "output_type": "display_data"
    },
    {
     "data": {
      "text/html": [
       " View sweep at <a href='https://wandb.ai/deepakpokkalla/node-classification/sweeps/reuf9j38' target=\"_blank\">https://wandb.ai/deepakpokkalla/node-classification/sweeps/reuf9j38</a>"
      ],
      "text/plain": [
       "<IPython.core.display.HTML object>"
      ]
     },
     "metadata": {},
     "output_type": "display_data"
    },
    {
     "data": {
      "text/html": [
       " View run at <a href='https://wandb.ai/deepakpokkalla/node-classification/runs/ecr0i28w' target=\"_blank\">https://wandb.ai/deepakpokkalla/node-classification/runs/ecr0i28w</a>"
      ],
      "text/plain": [
       "<IPython.core.display.HTML object>"
      ]
     },
     "metadata": {},
     "output_type": "display_data"
    },
    {
     "name": "stderr",
     "output_type": "stream",
     "text": [
      "100%|██████████| 100/100 [00:02<00:00, 41.18it/s]\n"
     ]
    },
    {
     "data": {
      "text/html": [
       "\n",
       "    <style>\n",
       "        .wandb-row {\n",
       "            display: flex;\n",
       "            flex-direction: row;\n",
       "            flex-wrap: wrap;\n",
       "            justify-content: flex-start;\n",
       "            width: 100%;\n",
       "        }\n",
       "        .wandb-col {\n",
       "            display: flex;\n",
       "            flex-direction: column;\n",
       "            flex-basis: 100%;\n",
       "            flex: 1;\n",
       "            padding: 10px;\n",
       "        }\n",
       "    </style>\n",
       "<div class=\"wandb-row\"><div class=\"wandb-col\"><h3>Run history:</h3><br/><table class=\"wandb\"><tr><td>gcn/accuracy</td><td>▁</td></tr><tr><td>gcn/loss</td><td>▄▃▅▃▄█▅▅▄▃▄▃▄▄▄▄▃▄▃▃▃▃▃▃▂▃▂▃▂▃▂▂▂▃▂▂▂▁▁▂</td></tr></table><br/></div><div class=\"wandb-col\"><h3>Run summary:</h3><br/><table class=\"wandb\"><tr><td>gcn/accuracy</td><td>0.552</td></tr><tr><td>gcn/loss</td><td>1.92678</td></tr></table><br/></div></div>"
      ],
      "text/plain": [
       "<IPython.core.display.HTML object>"
      ]
     },
     "metadata": {},
     "output_type": "display_data"
    },
    {
     "data": {
      "text/html": [
       " View run <strong style=\"color:#cdcd00\">genial-sweep-21</strong> at: <a href='https://wandb.ai/deepakpokkalla/node-classification/runs/ecr0i28w' target=\"_blank\">https://wandb.ai/deepakpokkalla/node-classification/runs/ecr0i28w</a><br/> View project at: <a href='https://wandb.ai/deepakpokkalla/node-classification' target=\"_blank\">https://wandb.ai/deepakpokkalla/node-classification</a><br/>Synced 5 W&B file(s), 0 media file(s), 4 artifact file(s) and 2 other file(s)"
      ],
      "text/plain": [
       "<IPython.core.display.HTML object>"
      ]
     },
     "metadata": {},
     "output_type": "display_data"
    },
    {
     "data": {
      "text/html": [
       "Find logs at: <code>.\\wandb\\run-20241122_210525-ecr0i28w\\logs</code>"
      ],
      "text/plain": [
       "<IPython.core.display.HTML object>"
      ]
     },
     "metadata": {},
     "output_type": "display_data"
    },
    {
     "name": "stderr",
     "output_type": "stream",
     "text": [
      "\u001b[34m\u001b[1mwandb\u001b[0m: Agent Starting Run: joln4ymk with config:\n",
      "\u001b[34m\u001b[1mwandb\u001b[0m: \thidden_channels: 8\n",
      "\u001b[34m\u001b[1mwandb\u001b[0m: \tlr: 0.00033272126071578865\n",
      "\u001b[34m\u001b[1mwandb\u001b[0m: \tweight_decay: 0.0004948982526528664\n"
     ]
    },
    {
     "data": {
      "text/html": [
       "Tracking run with wandb version 0.18.7"
      ],
      "text/plain": [
       "<IPython.core.display.HTML object>"
      ]
     },
     "metadata": {},
     "output_type": "display_data"
    },
    {
     "data": {
      "text/html": [
       "Run data is saved locally in <code>d:\\users\\dpa13\\projects\\my_projects\\deeplearning_tutorials\\pytorch_geometric\\official_examples\\wandb\\run-20241122_210536-joln4ymk</code>"
      ],
      "text/plain": [
       "<IPython.core.display.HTML object>"
      ]
     },
     "metadata": {},
     "output_type": "display_data"
    },
    {
     "data": {
      "text/html": [
       "Syncing run <strong><a href='https://wandb.ai/deepakpokkalla/node-classification/runs/joln4ymk' target=\"_blank\">earnest-sweep-22</a></strong> to <a href='https://wandb.ai/deepakpokkalla/node-classification' target=\"_blank\">Weights & Biases</a> (<a href='https://wandb.me/developer-guide' target=\"_blank\">docs</a>)<br/>Sweep page: <a href='https://wandb.ai/deepakpokkalla/node-classification/sweeps/reuf9j38' target=\"_blank\">https://wandb.ai/deepakpokkalla/node-classification/sweeps/reuf9j38</a>"
      ],
      "text/plain": [
       "<IPython.core.display.HTML object>"
      ]
     },
     "metadata": {},
     "output_type": "display_data"
    },
    {
     "data": {
      "text/html": [
       " View project at <a href='https://wandb.ai/deepakpokkalla/node-classification' target=\"_blank\">https://wandb.ai/deepakpokkalla/node-classification</a>"
      ],
      "text/plain": [
       "<IPython.core.display.HTML object>"
      ]
     },
     "metadata": {},
     "output_type": "display_data"
    },
    {
     "data": {
      "text/html": [
       " View sweep at <a href='https://wandb.ai/deepakpokkalla/node-classification/sweeps/reuf9j38' target=\"_blank\">https://wandb.ai/deepakpokkalla/node-classification/sweeps/reuf9j38</a>"
      ],
      "text/plain": [
       "<IPython.core.display.HTML object>"
      ]
     },
     "metadata": {},
     "output_type": "display_data"
    },
    {
     "data": {
      "text/html": [
       " View run at <a href='https://wandb.ai/deepakpokkalla/node-classification/runs/joln4ymk' target=\"_blank\">https://wandb.ai/deepakpokkalla/node-classification/runs/joln4ymk</a>"
      ],
      "text/plain": [
       "<IPython.core.display.HTML object>"
      ]
     },
     "metadata": {},
     "output_type": "display_data"
    },
    {
     "name": "stderr",
     "output_type": "stream",
     "text": [
      "100%|██████████| 100/100 [00:01<00:00, 73.30it/s]\n"
     ]
    },
    {
     "data": {
      "text/html": [
       "\n",
       "    <style>\n",
       "        .wandb-row {\n",
       "            display: flex;\n",
       "            flex-direction: row;\n",
       "            flex-wrap: wrap;\n",
       "            justify-content: flex-start;\n",
       "            width: 100%;\n",
       "        }\n",
       "        .wandb-col {\n",
       "            display: flex;\n",
       "            flex-direction: column;\n",
       "            flex-basis: 100%;\n",
       "            flex: 1;\n",
       "            padding: 10px;\n",
       "        }\n",
       "    </style>\n",
       "<div class=\"wandb-row\"><div class=\"wandb-col\"><h3>Run history:</h3><br/><table class=\"wandb\"><tr><td>gcn/accuracy</td><td>▁</td></tr><tr><td>gcn/loss</td><td>█████▇▇▇▇▇▇▇▆▇▆▆▆▆▆▆▅▅▅▅▄▄▃▃▃▃▃▃▂▂▂▂▁▁▁▁</td></tr></table><br/></div><div class=\"wandb-col\"><h3>Run summary:</h3><br/><table class=\"wandb\"><tr><td>gcn/accuracy</td><td>0.56</td></tr><tr><td>gcn/loss</td><td>1.9221</td></tr></table><br/></div></div>"
      ],
      "text/plain": [
       "<IPython.core.display.HTML object>"
      ]
     },
     "metadata": {},
     "output_type": "display_data"
    },
    {
     "data": {
      "text/html": [
       " View run <strong style=\"color:#cdcd00\">earnest-sweep-22</strong> at: <a href='https://wandb.ai/deepakpokkalla/node-classification/runs/joln4ymk' target=\"_blank\">https://wandb.ai/deepakpokkalla/node-classification/runs/joln4ymk</a><br/> View project at: <a href='https://wandb.ai/deepakpokkalla/node-classification' target=\"_blank\">https://wandb.ai/deepakpokkalla/node-classification</a><br/>Synced 5 W&B file(s), 0 media file(s), 4 artifact file(s) and 2 other file(s)"
      ],
      "text/plain": [
       "<IPython.core.display.HTML object>"
      ]
     },
     "metadata": {},
     "output_type": "display_data"
    },
    {
     "data": {
      "text/html": [
       "Find logs at: <code>.\\wandb\\run-20241122_210536-joln4ymk\\logs</code>"
      ],
      "text/plain": [
       "<IPython.core.display.HTML object>"
      ]
     },
     "metadata": {},
     "output_type": "display_data"
    },
    {
     "name": "stderr",
     "output_type": "stream",
     "text": [
      "\u001b[34m\u001b[1mwandb\u001b[0m: Agent Starting Run: zdp43qhj with config:\n",
      "\u001b[34m\u001b[1mwandb\u001b[0m: \thidden_channels: 32\n",
      "\u001b[34m\u001b[1mwandb\u001b[0m: \tlr: 0.0007947049120514395\n",
      "\u001b[34m\u001b[1mwandb\u001b[0m: \tweight_decay: 0.0004949079327294777\n"
     ]
    },
    {
     "data": {
      "text/html": [
       "Tracking run with wandb version 0.18.7"
      ],
      "text/plain": [
       "<IPython.core.display.HTML object>"
      ]
     },
     "metadata": {},
     "output_type": "display_data"
    },
    {
     "data": {
      "text/html": [
       "Run data is saved locally in <code>d:\\users\\dpa13\\projects\\my_projects\\deeplearning_tutorials\\pytorch_geometric\\official_examples\\wandb\\run-20241122_210547-zdp43qhj</code>"
      ],
      "text/plain": [
       "<IPython.core.display.HTML object>"
      ]
     },
     "metadata": {},
     "output_type": "display_data"
    },
    {
     "data": {
      "text/html": [
       "Syncing run <strong><a href='https://wandb.ai/deepakpokkalla/node-classification/runs/zdp43qhj' target=\"_blank\">floral-sweep-23</a></strong> to <a href='https://wandb.ai/deepakpokkalla/node-classification' target=\"_blank\">Weights & Biases</a> (<a href='https://wandb.me/developer-guide' target=\"_blank\">docs</a>)<br/>Sweep page: <a href='https://wandb.ai/deepakpokkalla/node-classification/sweeps/reuf9j38' target=\"_blank\">https://wandb.ai/deepakpokkalla/node-classification/sweeps/reuf9j38</a>"
      ],
      "text/plain": [
       "<IPython.core.display.HTML object>"
      ]
     },
     "metadata": {},
     "output_type": "display_data"
    },
    {
     "data": {
      "text/html": [
       " View project at <a href='https://wandb.ai/deepakpokkalla/node-classification' target=\"_blank\">https://wandb.ai/deepakpokkalla/node-classification</a>"
      ],
      "text/plain": [
       "<IPython.core.display.HTML object>"
      ]
     },
     "metadata": {},
     "output_type": "display_data"
    },
    {
     "data": {
      "text/html": [
       " View sweep at <a href='https://wandb.ai/deepakpokkalla/node-classification/sweeps/reuf9j38' target=\"_blank\">https://wandb.ai/deepakpokkalla/node-classification/sweeps/reuf9j38</a>"
      ],
      "text/plain": [
       "<IPython.core.display.HTML object>"
      ]
     },
     "metadata": {},
     "output_type": "display_data"
    },
    {
     "data": {
      "text/html": [
       " View run at <a href='https://wandb.ai/deepakpokkalla/node-classification/runs/zdp43qhj' target=\"_blank\">https://wandb.ai/deepakpokkalla/node-classification/runs/zdp43qhj</a>"
      ],
      "text/plain": [
       "<IPython.core.display.HTML object>"
      ]
     },
     "metadata": {},
     "output_type": "display_data"
    },
    {
     "name": "stderr",
     "output_type": "stream",
     "text": [
      "100%|██████████| 100/100 [00:02<00:00, 41.64it/s]\n"
     ]
    },
    {
     "data": {
      "text/html": [
       "\n",
       "    <style>\n",
       "        .wandb-row {\n",
       "            display: flex;\n",
       "            flex-direction: row;\n",
       "            flex-wrap: wrap;\n",
       "            justify-content: flex-start;\n",
       "            width: 100%;\n",
       "        }\n",
       "        .wandb-col {\n",
       "            display: flex;\n",
       "            flex-direction: column;\n",
       "            flex-basis: 100%;\n",
       "            flex: 1;\n",
       "            padding: 10px;\n",
       "        }\n",
       "    </style>\n",
       "<div class=\"wandb-row\"><div class=\"wandb-col\"><h3>Run history:</h3><br/><table class=\"wandb\"><tr><td>gcn/accuracy</td><td>▁</td></tr><tr><td>gcn/loss</td><td>███████▇▇▇▆▆▆▆▅▅▅▅▅▄▄▄▄▅▄▃▃▃▃▃▃▂▂▂▂▂▂▂▂▁</td></tr></table><br/></div><div class=\"wandb-col\"><h3>Run summary:</h3><br/><table class=\"wandb\"><tr><td>gcn/accuracy</td><td>0.61</td></tr><tr><td>gcn/loss</td><td>1.83418</td></tr></table><br/></div></div>"
      ],
      "text/plain": [
       "<IPython.core.display.HTML object>"
      ]
     },
     "metadata": {},
     "output_type": "display_data"
    },
    {
     "data": {
      "text/html": [
       " View run <strong style=\"color:#cdcd00\">floral-sweep-23</strong> at: <a href='https://wandb.ai/deepakpokkalla/node-classification/runs/zdp43qhj' target=\"_blank\">https://wandb.ai/deepakpokkalla/node-classification/runs/zdp43qhj</a><br/> View project at: <a href='https://wandb.ai/deepakpokkalla/node-classification' target=\"_blank\">https://wandb.ai/deepakpokkalla/node-classification</a><br/>Synced 5 W&B file(s), 0 media file(s), 4 artifact file(s) and 2 other file(s)"
      ],
      "text/plain": [
       "<IPython.core.display.HTML object>"
      ]
     },
     "metadata": {},
     "output_type": "display_data"
    },
    {
     "data": {
      "text/html": [
       "Find logs at: <code>.\\wandb\\run-20241122_210547-zdp43qhj\\logs</code>"
      ],
      "text/plain": [
       "<IPython.core.display.HTML object>"
      ]
     },
     "metadata": {},
     "output_type": "display_data"
    },
    {
     "name": "stderr",
     "output_type": "stream",
     "text": [
      "\u001b[34m\u001b[1mwandb\u001b[0m: Agent Starting Run: vu23o8c8 with config:\n",
      "\u001b[34m\u001b[1mwandb\u001b[0m: \thidden_channels: 32\n",
      "\u001b[34m\u001b[1mwandb\u001b[0m: \tlr: 0.0003823952077874073\n",
      "\u001b[34m\u001b[1mwandb\u001b[0m: \tweight_decay: 0.0005008369153174529\n"
     ]
    },
    {
     "data": {
      "text/html": [
       "Tracking run with wandb version 0.18.7"
      ],
      "text/plain": [
       "<IPython.core.display.HTML object>"
      ]
     },
     "metadata": {},
     "output_type": "display_data"
    },
    {
     "data": {
      "text/html": [
       "Run data is saved locally in <code>d:\\users\\dpa13\\projects\\my_projects\\deeplearning_tutorials\\pytorch_geometric\\official_examples\\wandb\\run-20241122_210602-vu23o8c8</code>"
      ],
      "text/plain": [
       "<IPython.core.display.HTML object>"
      ]
     },
     "metadata": {},
     "output_type": "display_data"
    },
    {
     "data": {
      "text/html": [
       "Syncing run <strong><a href='https://wandb.ai/deepakpokkalla/node-classification/runs/vu23o8c8' target=\"_blank\">misunderstood-sweep-24</a></strong> to <a href='https://wandb.ai/deepakpokkalla/node-classification' target=\"_blank\">Weights & Biases</a> (<a href='https://wandb.me/developer-guide' target=\"_blank\">docs</a>)<br/>Sweep page: <a href='https://wandb.ai/deepakpokkalla/node-classification/sweeps/reuf9j38' target=\"_blank\">https://wandb.ai/deepakpokkalla/node-classification/sweeps/reuf9j38</a>"
      ],
      "text/plain": [
       "<IPython.core.display.HTML object>"
      ]
     },
     "metadata": {},
     "output_type": "display_data"
    },
    {
     "data": {
      "text/html": [
       " View project at <a href='https://wandb.ai/deepakpokkalla/node-classification' target=\"_blank\">https://wandb.ai/deepakpokkalla/node-classification</a>"
      ],
      "text/plain": [
       "<IPython.core.display.HTML object>"
      ]
     },
     "metadata": {},
     "output_type": "display_data"
    },
    {
     "data": {
      "text/html": [
       " View sweep at <a href='https://wandb.ai/deepakpokkalla/node-classification/sweeps/reuf9j38' target=\"_blank\">https://wandb.ai/deepakpokkalla/node-classification/sweeps/reuf9j38</a>"
      ],
      "text/plain": [
       "<IPython.core.display.HTML object>"
      ]
     },
     "metadata": {},
     "output_type": "display_data"
    },
    {
     "data": {
      "text/html": [
       " View run at <a href='https://wandb.ai/deepakpokkalla/node-classification/runs/vu23o8c8' target=\"_blank\">https://wandb.ai/deepakpokkalla/node-classification/runs/vu23o8c8</a>"
      ],
      "text/plain": [
       "<IPython.core.display.HTML object>"
      ]
     },
     "metadata": {},
     "output_type": "display_data"
    },
    {
     "name": "stderr",
     "output_type": "stream",
     "text": [
      "100%|██████████| 100/100 [00:02<00:00, 40.63it/s]\n"
     ]
    },
    {
     "data": {
      "text/html": [
       "\n",
       "    <style>\n",
       "        .wandb-row {\n",
       "            display: flex;\n",
       "            flex-direction: row;\n",
       "            flex-wrap: wrap;\n",
       "            justify-content: flex-start;\n",
       "            width: 100%;\n",
       "        }\n",
       "        .wandb-col {\n",
       "            display: flex;\n",
       "            flex-direction: column;\n",
       "            flex-basis: 100%;\n",
       "            flex: 1;\n",
       "            padding: 10px;\n",
       "        }\n",
       "    </style>\n",
       "<div class=\"wandb-row\"><div class=\"wandb-col\"><h3>Run history:</h3><br/><table class=\"wandb\"><tr><td>gcn/accuracy</td><td>▁</td></tr><tr><td>gcn/loss</td><td>▆▆██▇▇▇▇▆▇▆▆▆▅▅▆▅▄▄▅▄▄▃▄▄▃▃▄▃▃▃▃▃▃▂▁▁▁▁▁</td></tr></table><br/></div><div class=\"wandb-col\"><h3>Run summary:</h3><br/><table class=\"wandb\"><tr><td>gcn/accuracy</td><td>0.574</td></tr><tr><td>gcn/loss</td><td>1.88828</td></tr></table><br/></div></div>"
      ],
      "text/plain": [
       "<IPython.core.display.HTML object>"
      ]
     },
     "metadata": {},
     "output_type": "display_data"
    },
    {
     "data": {
      "text/html": [
       " View run <strong style=\"color:#cdcd00\">misunderstood-sweep-24</strong> at: <a href='https://wandb.ai/deepakpokkalla/node-classification/runs/vu23o8c8' target=\"_blank\">https://wandb.ai/deepakpokkalla/node-classification/runs/vu23o8c8</a><br/> View project at: <a href='https://wandb.ai/deepakpokkalla/node-classification' target=\"_blank\">https://wandb.ai/deepakpokkalla/node-classification</a><br/>Synced 5 W&B file(s), 0 media file(s), 4 artifact file(s) and 2 other file(s)"
      ],
      "text/plain": [
       "<IPython.core.display.HTML object>"
      ]
     },
     "metadata": {},
     "output_type": "display_data"
    },
    {
     "data": {
      "text/html": [
       "Find logs at: <code>.\\wandb\\run-20241122_210602-vu23o8c8\\logs</code>"
      ],
      "text/plain": [
       "<IPython.core.display.HTML object>"
      ]
     },
     "metadata": {},
     "output_type": "display_data"
    },
    {
     "name": "stderr",
     "output_type": "stream",
     "text": [
      "\u001b[34m\u001b[1mwandb\u001b[0m: Agent Starting Run: cprekxim with config:\n",
      "\u001b[34m\u001b[1mwandb\u001b[0m: \thidden_channels: 8\n",
      "\u001b[34m\u001b[1mwandb\u001b[0m: \tlr: 0.0005694549491734816\n",
      "\u001b[34m\u001b[1mwandb\u001b[0m: \tweight_decay: 0.0004881168993357401\n"
     ]
    },
    {
     "data": {
      "text/html": [
       "Tracking run with wandb version 0.18.7"
      ],
      "text/plain": [
       "<IPython.core.display.HTML object>"
      ]
     },
     "metadata": {},
     "output_type": "display_data"
    },
    {
     "data": {
      "text/html": [
       "Run data is saved locally in <code>d:\\users\\dpa13\\projects\\my_projects\\deeplearning_tutorials\\pytorch_geometric\\official_examples\\wandb\\run-20241122_210613-cprekxim</code>"
      ],
      "text/plain": [
       "<IPython.core.display.HTML object>"
      ]
     },
     "metadata": {},
     "output_type": "display_data"
    },
    {
     "data": {
      "text/html": [
       "Syncing run <strong><a href='https://wandb.ai/deepakpokkalla/node-classification/runs/cprekxim' target=\"_blank\">generous-sweep-25</a></strong> to <a href='https://wandb.ai/deepakpokkalla/node-classification' target=\"_blank\">Weights & Biases</a> (<a href='https://wandb.me/developer-guide' target=\"_blank\">docs</a>)<br/>Sweep page: <a href='https://wandb.ai/deepakpokkalla/node-classification/sweeps/reuf9j38' target=\"_blank\">https://wandb.ai/deepakpokkalla/node-classification/sweeps/reuf9j38</a>"
      ],
      "text/plain": [
       "<IPython.core.display.HTML object>"
      ]
     },
     "metadata": {},
     "output_type": "display_data"
    },
    {
     "data": {
      "text/html": [
       " View project at <a href='https://wandb.ai/deepakpokkalla/node-classification' target=\"_blank\">https://wandb.ai/deepakpokkalla/node-classification</a>"
      ],
      "text/plain": [
       "<IPython.core.display.HTML object>"
      ]
     },
     "metadata": {},
     "output_type": "display_data"
    },
    {
     "data": {
      "text/html": [
       " View sweep at <a href='https://wandb.ai/deepakpokkalla/node-classification/sweeps/reuf9j38' target=\"_blank\">https://wandb.ai/deepakpokkalla/node-classification/sweeps/reuf9j38</a>"
      ],
      "text/plain": [
       "<IPython.core.display.HTML object>"
      ]
     },
     "metadata": {},
     "output_type": "display_data"
    },
    {
     "data": {
      "text/html": [
       " View run at <a href='https://wandb.ai/deepakpokkalla/node-classification/runs/cprekxim' target=\"_blank\">https://wandb.ai/deepakpokkalla/node-classification/runs/cprekxim</a>"
      ],
      "text/plain": [
       "<IPython.core.display.HTML object>"
      ]
     },
     "metadata": {},
     "output_type": "display_data"
    },
    {
     "name": "stderr",
     "output_type": "stream",
     "text": [
      "100%|██████████| 100/100 [00:01<00:00, 62.85it/s]\n"
     ]
    },
    {
     "data": {
      "text/html": [
       "\n",
       "    <style>\n",
       "        .wandb-row {\n",
       "            display: flex;\n",
       "            flex-direction: row;\n",
       "            flex-wrap: wrap;\n",
       "            justify-content: flex-start;\n",
       "            width: 100%;\n",
       "        }\n",
       "        .wandb-col {\n",
       "            display: flex;\n",
       "            flex-direction: column;\n",
       "            flex-basis: 100%;\n",
       "            flex: 1;\n",
       "            padding: 10px;\n",
       "        }\n",
       "    </style>\n",
       "<div class=\"wandb-row\"><div class=\"wandb-col\"><h3>Run history:</h3><br/><table class=\"wandb\"><tr><td>gcn/accuracy</td><td>▁</td></tr><tr><td>gcn/loss</td><td>████▇▇▇▇▇▇▆▇▆▆▆▆▆▅▅▅▅▄▅▅▅▄▄▄▄▃▃▃▃▃▃▂▂▂▁▁</td></tr></table><br/></div><div class=\"wandb-col\"><h3>Run summary:</h3><br/><table class=\"wandb\"><tr><td>gcn/accuracy</td><td>0.568</td></tr><tr><td>gcn/loss</td><td>1.90217</td></tr></table><br/></div></div>"
      ],
      "text/plain": [
       "<IPython.core.display.HTML object>"
      ]
     },
     "metadata": {},
     "output_type": "display_data"
    },
    {
     "data": {
      "text/html": [
       " View run <strong style=\"color:#cdcd00\">generous-sweep-25</strong> at: <a href='https://wandb.ai/deepakpokkalla/node-classification/runs/cprekxim' target=\"_blank\">https://wandb.ai/deepakpokkalla/node-classification/runs/cprekxim</a><br/> View project at: <a href='https://wandb.ai/deepakpokkalla/node-classification' target=\"_blank\">https://wandb.ai/deepakpokkalla/node-classification</a><br/>Synced 5 W&B file(s), 0 media file(s), 4 artifact file(s) and 2 other file(s)"
      ],
      "text/plain": [
       "<IPython.core.display.HTML object>"
      ]
     },
     "metadata": {},
     "output_type": "display_data"
    },
    {
     "data": {
      "text/html": [
       "Find logs at: <code>.\\wandb\\run-20241122_210613-cprekxim\\logs</code>"
      ],
      "text/plain": [
       "<IPython.core.display.HTML object>"
      ]
     },
     "metadata": {},
     "output_type": "display_data"
    },
    {
     "name": "stderr",
     "output_type": "stream",
     "text": [
      "\u001b[34m\u001b[1mwandb\u001b[0m: Agent Starting Run: 1mu24y5n with config:\n",
      "\u001b[34m\u001b[1mwandb\u001b[0m: \thidden_channels: 8\n",
      "\u001b[34m\u001b[1mwandb\u001b[0m: \tlr: 0.00031192697039208675\n",
      "\u001b[34m\u001b[1mwandb\u001b[0m: \tweight_decay: 0.0004986328830201534\n"
     ]
    },
    {
     "data": {
      "text/html": [
       "Tracking run with wandb version 0.18.7"
      ],
      "text/plain": [
       "<IPython.core.display.HTML object>"
      ]
     },
     "metadata": {},
     "output_type": "display_data"
    },
    {
     "data": {
      "text/html": [
       "Run data is saved locally in <code>d:\\users\\dpa13\\projects\\my_projects\\deeplearning_tutorials\\pytorch_geometric\\official_examples\\wandb\\run-20241122_210623-1mu24y5n</code>"
      ],
      "text/plain": [
       "<IPython.core.display.HTML object>"
      ]
     },
     "metadata": {},
     "output_type": "display_data"
    },
    {
     "data": {
      "text/html": [
       "Syncing run <strong><a href='https://wandb.ai/deepakpokkalla/node-classification/runs/1mu24y5n' target=\"_blank\">deft-sweep-26</a></strong> to <a href='https://wandb.ai/deepakpokkalla/node-classification' target=\"_blank\">Weights & Biases</a> (<a href='https://wandb.me/developer-guide' target=\"_blank\">docs</a>)<br/>Sweep page: <a href='https://wandb.ai/deepakpokkalla/node-classification/sweeps/reuf9j38' target=\"_blank\">https://wandb.ai/deepakpokkalla/node-classification/sweeps/reuf9j38</a>"
      ],
      "text/plain": [
       "<IPython.core.display.HTML object>"
      ]
     },
     "metadata": {},
     "output_type": "display_data"
    },
    {
     "data": {
      "text/html": [
       " View project at <a href='https://wandb.ai/deepakpokkalla/node-classification' target=\"_blank\">https://wandb.ai/deepakpokkalla/node-classification</a>"
      ],
      "text/plain": [
       "<IPython.core.display.HTML object>"
      ]
     },
     "metadata": {},
     "output_type": "display_data"
    },
    {
     "data": {
      "text/html": [
       " View sweep at <a href='https://wandb.ai/deepakpokkalla/node-classification/sweeps/reuf9j38' target=\"_blank\">https://wandb.ai/deepakpokkalla/node-classification/sweeps/reuf9j38</a>"
      ],
      "text/plain": [
       "<IPython.core.display.HTML object>"
      ]
     },
     "metadata": {},
     "output_type": "display_data"
    },
    {
     "data": {
      "text/html": [
       " View run at <a href='https://wandb.ai/deepakpokkalla/node-classification/runs/1mu24y5n' target=\"_blank\">https://wandb.ai/deepakpokkalla/node-classification/runs/1mu24y5n</a>"
      ],
      "text/plain": [
       "<IPython.core.display.HTML object>"
      ]
     },
     "metadata": {},
     "output_type": "display_data"
    },
    {
     "name": "stderr",
     "output_type": "stream",
     "text": [
      "100%|██████████| 100/100 [00:01<00:00, 74.78it/s]\n"
     ]
    },
    {
     "data": {
      "text/html": [
       "\n",
       "    <style>\n",
       "        .wandb-row {\n",
       "            display: flex;\n",
       "            flex-direction: row;\n",
       "            flex-wrap: wrap;\n",
       "            justify-content: flex-start;\n",
       "            width: 100%;\n",
       "        }\n",
       "        .wandb-col {\n",
       "            display: flex;\n",
       "            flex-direction: column;\n",
       "            flex-basis: 100%;\n",
       "            flex: 1;\n",
       "            padding: 10px;\n",
       "        }\n",
       "    </style>\n",
       "<div class=\"wandb-row\"><div class=\"wandb-col\"><h3>Run history:</h3><br/><table class=\"wandb\"><tr><td>gcn/accuracy</td><td>▁</td></tr><tr><td>gcn/loss</td><td>███▇▇▇▇▇▇▇▇▇▆▆▆▆▆▆▆▆▅▅▅▅▄▄▃▂▃▃▃▃▂▂▂▁▁▁▁▁</td></tr></table><br/></div><div class=\"wandb-col\"><h3>Run summary:</h3><br/><table class=\"wandb\"><tr><td>gcn/accuracy</td><td>0.557</td></tr><tr><td>gcn/loss</td><td>1.92381</td></tr></table><br/></div></div>"
      ],
      "text/plain": [
       "<IPython.core.display.HTML object>"
      ]
     },
     "metadata": {},
     "output_type": "display_data"
    },
    {
     "data": {
      "text/html": [
       " View run <strong style=\"color:#cdcd00\">deft-sweep-26</strong> at: <a href='https://wandb.ai/deepakpokkalla/node-classification/runs/1mu24y5n' target=\"_blank\">https://wandb.ai/deepakpokkalla/node-classification/runs/1mu24y5n</a><br/> View project at: <a href='https://wandb.ai/deepakpokkalla/node-classification' target=\"_blank\">https://wandb.ai/deepakpokkalla/node-classification</a><br/>Synced 5 W&B file(s), 0 media file(s), 4 artifact file(s) and 2 other file(s)"
      ],
      "text/plain": [
       "<IPython.core.display.HTML object>"
      ]
     },
     "metadata": {},
     "output_type": "display_data"
    },
    {
     "data": {
      "text/html": [
       "Find logs at: <code>.\\wandb\\run-20241122_210623-1mu24y5n\\logs</code>"
      ],
      "text/plain": [
       "<IPython.core.display.HTML object>"
      ]
     },
     "metadata": {},
     "output_type": "display_data"
    },
    {
     "name": "stderr",
     "output_type": "stream",
     "text": [
      "\u001b[34m\u001b[1mwandb\u001b[0m: Agent Starting Run: aiq1qv1a with config:\n",
      "\u001b[34m\u001b[1mwandb\u001b[0m: \thidden_channels: 8\n",
      "\u001b[34m\u001b[1mwandb\u001b[0m: \tlr: 0.0005549377172945242\n",
      "\u001b[34m\u001b[1mwandb\u001b[0m: \tweight_decay: 0.0004928420947614713\n"
     ]
    },
    {
     "data": {
      "text/html": [
       "Tracking run with wandb version 0.18.7"
      ],
      "text/plain": [
       "<IPython.core.display.HTML object>"
      ]
     },
     "metadata": {},
     "output_type": "display_data"
    },
    {
     "data": {
      "text/html": [
       "Run data is saved locally in <code>d:\\users\\dpa13\\projects\\my_projects\\deeplearning_tutorials\\pytorch_geometric\\official_examples\\wandb\\run-20241122_210634-aiq1qv1a</code>"
      ],
      "text/plain": [
       "<IPython.core.display.HTML object>"
      ]
     },
     "metadata": {},
     "output_type": "display_data"
    },
    {
     "data": {
      "text/html": [
       "Syncing run <strong><a href='https://wandb.ai/deepakpokkalla/node-classification/runs/aiq1qv1a' target=\"_blank\">lucky-sweep-27</a></strong> to <a href='https://wandb.ai/deepakpokkalla/node-classification' target=\"_blank\">Weights & Biases</a> (<a href='https://wandb.me/developer-guide' target=\"_blank\">docs</a>)<br/>Sweep page: <a href='https://wandb.ai/deepakpokkalla/node-classification/sweeps/reuf9j38' target=\"_blank\">https://wandb.ai/deepakpokkalla/node-classification/sweeps/reuf9j38</a>"
      ],
      "text/plain": [
       "<IPython.core.display.HTML object>"
      ]
     },
     "metadata": {},
     "output_type": "display_data"
    },
    {
     "data": {
      "text/html": [
       " View project at <a href='https://wandb.ai/deepakpokkalla/node-classification' target=\"_blank\">https://wandb.ai/deepakpokkalla/node-classification</a>"
      ],
      "text/plain": [
       "<IPython.core.display.HTML object>"
      ]
     },
     "metadata": {},
     "output_type": "display_data"
    },
    {
     "data": {
      "text/html": [
       " View sweep at <a href='https://wandb.ai/deepakpokkalla/node-classification/sweeps/reuf9j38' target=\"_blank\">https://wandb.ai/deepakpokkalla/node-classification/sweeps/reuf9j38</a>"
      ],
      "text/plain": [
       "<IPython.core.display.HTML object>"
      ]
     },
     "metadata": {},
     "output_type": "display_data"
    },
    {
     "data": {
      "text/html": [
       " View run at <a href='https://wandb.ai/deepakpokkalla/node-classification/runs/aiq1qv1a' target=\"_blank\">https://wandb.ai/deepakpokkalla/node-classification/runs/aiq1qv1a</a>"
      ],
      "text/plain": [
       "<IPython.core.display.HTML object>"
      ]
     },
     "metadata": {},
     "output_type": "display_data"
    },
    {
     "name": "stderr",
     "output_type": "stream",
     "text": [
      "100%|██████████| 100/100 [00:01<00:00, 67.39it/s]\n"
     ]
    },
    {
     "data": {
      "text/html": [
       "\n",
       "    <style>\n",
       "        .wandb-row {\n",
       "            display: flex;\n",
       "            flex-direction: row;\n",
       "            flex-wrap: wrap;\n",
       "            justify-content: flex-start;\n",
       "            width: 100%;\n",
       "        }\n",
       "        .wandb-col {\n",
       "            display: flex;\n",
       "            flex-direction: column;\n",
       "            flex-basis: 100%;\n",
       "            flex: 1;\n",
       "            padding: 10px;\n",
       "        }\n",
       "    </style>\n",
       "<div class=\"wandb-row\"><div class=\"wandb-col\"><h3>Run history:</h3><br/><table class=\"wandb\"><tr><td>gcn/accuracy</td><td>▁</td></tr><tr><td>gcn/loss</td><td>█████▇▇▇▇▇▇▇▆▇▆▆▆▆▆▅▅▅▅▄▄▄▄▄▃▃▃▃▃▂▂▂▂▁▂▁</td></tr></table><br/></div><div class=\"wandb-col\"><h3>Run summary:</h3><br/><table class=\"wandb\"><tr><td>gcn/accuracy</td><td>0.573</td></tr><tr><td>gcn/loss</td><td>1.90353</td></tr></table><br/></div></div>"
      ],
      "text/plain": [
       "<IPython.core.display.HTML object>"
      ]
     },
     "metadata": {},
     "output_type": "display_data"
    },
    {
     "data": {
      "text/html": [
       " View run <strong style=\"color:#cdcd00\">lucky-sweep-27</strong> at: <a href='https://wandb.ai/deepakpokkalla/node-classification/runs/aiq1qv1a' target=\"_blank\">https://wandb.ai/deepakpokkalla/node-classification/runs/aiq1qv1a</a><br/> View project at: <a href='https://wandb.ai/deepakpokkalla/node-classification' target=\"_blank\">https://wandb.ai/deepakpokkalla/node-classification</a><br/>Synced 5 W&B file(s), 0 media file(s), 4 artifact file(s) and 2 other file(s)"
      ],
      "text/plain": [
       "<IPython.core.display.HTML object>"
      ]
     },
     "metadata": {},
     "output_type": "display_data"
    },
    {
     "data": {
      "text/html": [
       "Find logs at: <code>.\\wandb\\run-20241122_210634-aiq1qv1a\\logs</code>"
      ],
      "text/plain": [
       "<IPython.core.display.HTML object>"
      ]
     },
     "metadata": {},
     "output_type": "display_data"
    },
    {
     "name": "stderr",
     "output_type": "stream",
     "text": [
      "\u001b[34m\u001b[1mwandb\u001b[0m: Agent Starting Run: bqzyi89f with config:\n",
      "\u001b[34m\u001b[1mwandb\u001b[0m: \thidden_channels: 8\n",
      "\u001b[34m\u001b[1mwandb\u001b[0m: \tlr: 0.0007661611868225508\n",
      "\u001b[34m\u001b[1mwandb\u001b[0m: \tweight_decay: 0.0004953218558622743\n"
     ]
    },
    {
     "data": {
      "text/html": [
       "Tracking run with wandb version 0.18.7"
      ],
      "text/plain": [
       "<IPython.core.display.HTML object>"
      ]
     },
     "metadata": {},
     "output_type": "display_data"
    },
    {
     "data": {
      "text/html": [
       "Run data is saved locally in <code>d:\\users\\dpa13\\projects\\my_projects\\deeplearning_tutorials\\pytorch_geometric\\official_examples\\wandb\\run-20241122_210650-bqzyi89f</code>"
      ],
      "text/plain": [
       "<IPython.core.display.HTML object>"
      ]
     },
     "metadata": {},
     "output_type": "display_data"
    },
    {
     "data": {
      "text/html": [
       "Syncing run <strong><a href='https://wandb.ai/deepakpokkalla/node-classification/runs/bqzyi89f' target=\"_blank\">breezy-sweep-28</a></strong> to <a href='https://wandb.ai/deepakpokkalla/node-classification' target=\"_blank\">Weights & Biases</a> (<a href='https://wandb.me/developer-guide' target=\"_blank\">docs</a>)<br/>Sweep page: <a href='https://wandb.ai/deepakpokkalla/node-classification/sweeps/reuf9j38' target=\"_blank\">https://wandb.ai/deepakpokkalla/node-classification/sweeps/reuf9j38</a>"
      ],
      "text/plain": [
       "<IPython.core.display.HTML object>"
      ]
     },
     "metadata": {},
     "output_type": "display_data"
    },
    {
     "data": {
      "text/html": [
       " View project at <a href='https://wandb.ai/deepakpokkalla/node-classification' target=\"_blank\">https://wandb.ai/deepakpokkalla/node-classification</a>"
      ],
      "text/plain": [
       "<IPython.core.display.HTML object>"
      ]
     },
     "metadata": {},
     "output_type": "display_data"
    },
    {
     "data": {
      "text/html": [
       " View sweep at <a href='https://wandb.ai/deepakpokkalla/node-classification/sweeps/reuf9j38' target=\"_blank\">https://wandb.ai/deepakpokkalla/node-classification/sweeps/reuf9j38</a>"
      ],
      "text/plain": [
       "<IPython.core.display.HTML object>"
      ]
     },
     "metadata": {},
     "output_type": "display_data"
    },
    {
     "data": {
      "text/html": [
       " View run at <a href='https://wandb.ai/deepakpokkalla/node-classification/runs/bqzyi89f' target=\"_blank\">https://wandb.ai/deepakpokkalla/node-classification/runs/bqzyi89f</a>"
      ],
      "text/plain": [
       "<IPython.core.display.HTML object>"
      ]
     },
     "metadata": {},
     "output_type": "display_data"
    },
    {
     "name": "stderr",
     "output_type": "stream",
     "text": [
      "100%|██████████| 100/100 [00:02<00:00, 48.25it/s]\n"
     ]
    },
    {
     "data": {
      "text/html": [
       "\n",
       "    <style>\n",
       "        .wandb-row {\n",
       "            display: flex;\n",
       "            flex-direction: row;\n",
       "            flex-wrap: wrap;\n",
       "            justify-content: flex-start;\n",
       "            width: 100%;\n",
       "        }\n",
       "        .wandb-col {\n",
       "            display: flex;\n",
       "            flex-direction: column;\n",
       "            flex-basis: 100%;\n",
       "            flex: 1;\n",
       "            padding: 10px;\n",
       "        }\n",
       "    </style>\n",
       "<div class=\"wandb-row\"><div class=\"wandb-col\"><h3>Run history:</h3><br/><table class=\"wandb\"><tr><td>gcn/accuracy</td><td>▁</td></tr><tr><td>gcn/loss</td><td>████▇▇▇▇▇▆▇▆▆▆▆▆▆▅▅▅▅▅▅▄▄▄▄▄▃▃▃▃▂▂▂▁▂▁▁▁</td></tr></table><br/></div><div class=\"wandb-col\"><h3>Run summary:</h3><br/><table class=\"wandb\"><tr><td>gcn/accuracy</td><td>0.58</td></tr><tr><td>gcn/loss</td><td>1.88461</td></tr></table><br/></div></div>"
      ],
      "text/plain": [
       "<IPython.core.display.HTML object>"
      ]
     },
     "metadata": {},
     "output_type": "display_data"
    },
    {
     "data": {
      "text/html": [
       " View run <strong style=\"color:#cdcd00\">breezy-sweep-28</strong> at: <a href='https://wandb.ai/deepakpokkalla/node-classification/runs/bqzyi89f' target=\"_blank\">https://wandb.ai/deepakpokkalla/node-classification/runs/bqzyi89f</a><br/> View project at: <a href='https://wandb.ai/deepakpokkalla/node-classification' target=\"_blank\">https://wandb.ai/deepakpokkalla/node-classification</a><br/>Synced 5 W&B file(s), 0 media file(s), 4 artifact file(s) and 2 other file(s)"
      ],
      "text/plain": [
       "<IPython.core.display.HTML object>"
      ]
     },
     "metadata": {},
     "output_type": "display_data"
    },
    {
     "data": {
      "text/html": [
       "Find logs at: <code>.\\wandb\\run-20241122_210650-bqzyi89f\\logs</code>"
      ],
      "text/plain": [
       "<IPython.core.display.HTML object>"
      ]
     },
     "metadata": {},
     "output_type": "display_data"
    },
    {
     "name": "stderr",
     "output_type": "stream",
     "text": [
      "\u001b[34m\u001b[1mwandb\u001b[0m: Agent Starting Run: uei8g18p with config:\n",
      "\u001b[34m\u001b[1mwandb\u001b[0m: \thidden_channels: 32\n",
      "\u001b[34m\u001b[1mwandb\u001b[0m: \tlr: 0.0008291169911203829\n",
      "\u001b[34m\u001b[1mwandb\u001b[0m: \tweight_decay: 0.000491956818343944\n"
     ]
    },
    {
     "data": {
      "text/html": [
       "Tracking run with wandb version 0.18.7"
      ],
      "text/plain": [
       "<IPython.core.display.HTML object>"
      ]
     },
     "metadata": {},
     "output_type": "display_data"
    },
    {
     "data": {
      "text/html": [
       "Run data is saved locally in <code>d:\\users\\dpa13\\projects\\my_projects\\deeplearning_tutorials\\pytorch_geometric\\official_examples\\wandb\\run-20241122_210700-uei8g18p</code>"
      ],
      "text/plain": [
       "<IPython.core.display.HTML object>"
      ]
     },
     "metadata": {},
     "output_type": "display_data"
    },
    {
     "data": {
      "text/html": [
       "Syncing run <strong><a href='https://wandb.ai/deepakpokkalla/node-classification/runs/uei8g18p' target=\"_blank\">solar-sweep-29</a></strong> to <a href='https://wandb.ai/deepakpokkalla/node-classification' target=\"_blank\">Weights & Biases</a> (<a href='https://wandb.me/developer-guide' target=\"_blank\">docs</a>)<br/>Sweep page: <a href='https://wandb.ai/deepakpokkalla/node-classification/sweeps/reuf9j38' target=\"_blank\">https://wandb.ai/deepakpokkalla/node-classification/sweeps/reuf9j38</a>"
      ],
      "text/plain": [
       "<IPython.core.display.HTML object>"
      ]
     },
     "metadata": {},
     "output_type": "display_data"
    },
    {
     "data": {
      "text/html": [
       " View project at <a href='https://wandb.ai/deepakpokkalla/node-classification' target=\"_blank\">https://wandb.ai/deepakpokkalla/node-classification</a>"
      ],
      "text/plain": [
       "<IPython.core.display.HTML object>"
      ]
     },
     "metadata": {},
     "output_type": "display_data"
    },
    {
     "data": {
      "text/html": [
       " View sweep at <a href='https://wandb.ai/deepakpokkalla/node-classification/sweeps/reuf9j38' target=\"_blank\">https://wandb.ai/deepakpokkalla/node-classification/sweeps/reuf9j38</a>"
      ],
      "text/plain": [
       "<IPython.core.display.HTML object>"
      ]
     },
     "metadata": {},
     "output_type": "display_data"
    },
    {
     "data": {
      "text/html": [
       " View run at <a href='https://wandb.ai/deepakpokkalla/node-classification/runs/uei8g18p' target=\"_blank\">https://wandb.ai/deepakpokkalla/node-classification/runs/uei8g18p</a>"
      ],
      "text/plain": [
       "<IPython.core.display.HTML object>"
      ]
     },
     "metadata": {},
     "output_type": "display_data"
    },
    {
     "name": "stderr",
     "output_type": "stream",
     "text": [
      "100%|██████████| 100/100 [00:02<00:00, 41.33it/s]\n"
     ]
    },
    {
     "data": {
      "text/html": [
       "\n",
       "    <style>\n",
       "        .wandb-row {\n",
       "            display: flex;\n",
       "            flex-direction: row;\n",
       "            flex-wrap: wrap;\n",
       "            justify-content: flex-start;\n",
       "            width: 100%;\n",
       "        }\n",
       "        .wandb-col {\n",
       "            display: flex;\n",
       "            flex-direction: column;\n",
       "            flex-basis: 100%;\n",
       "            flex: 1;\n",
       "            padding: 10px;\n",
       "        }\n",
       "    </style>\n",
       "<div class=\"wandb-row\"><div class=\"wandb-col\"><h3>Run history:</h3><br/><table class=\"wandb\"><tr><td>gcn/accuracy</td><td>▁</td></tr><tr><td>gcn/loss</td><td>█▇█▇▇▆▇▇▆▆▆▆▆▆▆▅▅▅▅▆▅▅▅▅▄▄▄▄▄▄▃▄▃▃▂▂▂▂▂▁</td></tr></table><br/></div><div class=\"wandb-col\"><h3>Run summary:</h3><br/><table class=\"wandb\"><tr><td>gcn/accuracy</td><td>0.602</td></tr><tr><td>gcn/loss</td><td>1.82257</td></tr></table><br/></div></div>"
      ],
      "text/plain": [
       "<IPython.core.display.HTML object>"
      ]
     },
     "metadata": {},
     "output_type": "display_data"
    },
    {
     "data": {
      "text/html": [
       " View run <strong style=\"color:#cdcd00\">solar-sweep-29</strong> at: <a href='https://wandb.ai/deepakpokkalla/node-classification/runs/uei8g18p' target=\"_blank\">https://wandb.ai/deepakpokkalla/node-classification/runs/uei8g18p</a><br/> View project at: <a href='https://wandb.ai/deepakpokkalla/node-classification' target=\"_blank\">https://wandb.ai/deepakpokkalla/node-classification</a><br/>Synced 5 W&B file(s), 0 media file(s), 4 artifact file(s) and 2 other file(s)"
      ],
      "text/plain": [
       "<IPython.core.display.HTML object>"
      ]
     },
     "metadata": {},
     "output_type": "display_data"
    },
    {
     "data": {
      "text/html": [
       "Find logs at: <code>.\\wandb\\run-20241122_210700-uei8g18p\\logs</code>"
      ],
      "text/plain": [
       "<IPython.core.display.HTML object>"
      ]
     },
     "metadata": {},
     "output_type": "display_data"
    },
    {
     "name": "stderr",
     "output_type": "stream",
     "text": [
      "\u001b[34m\u001b[1mwandb\u001b[0m: Agent Starting Run: g1k2wjop with config:\n",
      "\u001b[34m\u001b[1mwandb\u001b[0m: \thidden_channels: 32\n",
      "\u001b[34m\u001b[1mwandb\u001b[0m: \tlr: 0.0002211957558462905\n",
      "\u001b[34m\u001b[1mwandb\u001b[0m: \tweight_decay: 0.0005067045883283049\n"
     ]
    },
    {
     "data": {
      "text/html": [
       "Tracking run with wandb version 0.18.7"
      ],
      "text/plain": [
       "<IPython.core.display.HTML object>"
      ]
     },
     "metadata": {},
     "output_type": "display_data"
    },
    {
     "data": {
      "text/html": [
       "Run data is saved locally in <code>d:\\users\\dpa13\\projects\\my_projects\\deeplearning_tutorials\\pytorch_geometric\\official_examples\\wandb\\run-20241122_210711-g1k2wjop</code>"
      ],
      "text/plain": [
       "<IPython.core.display.HTML object>"
      ]
     },
     "metadata": {},
     "output_type": "display_data"
    },
    {
     "data": {
      "text/html": [
       "Syncing run <strong><a href='https://wandb.ai/deepakpokkalla/node-classification/runs/g1k2wjop' target=\"_blank\">dashing-sweep-30</a></strong> to <a href='https://wandb.ai/deepakpokkalla/node-classification' target=\"_blank\">Weights & Biases</a> (<a href='https://wandb.me/developer-guide' target=\"_blank\">docs</a>)<br/>Sweep page: <a href='https://wandb.ai/deepakpokkalla/node-classification/sweeps/reuf9j38' target=\"_blank\">https://wandb.ai/deepakpokkalla/node-classification/sweeps/reuf9j38</a>"
      ],
      "text/plain": [
       "<IPython.core.display.HTML object>"
      ]
     },
     "metadata": {},
     "output_type": "display_data"
    },
    {
     "data": {
      "text/html": [
       " View project at <a href='https://wandb.ai/deepakpokkalla/node-classification' target=\"_blank\">https://wandb.ai/deepakpokkalla/node-classification</a>"
      ],
      "text/plain": [
       "<IPython.core.display.HTML object>"
      ]
     },
     "metadata": {},
     "output_type": "display_data"
    },
    {
     "data": {
      "text/html": [
       " View sweep at <a href='https://wandb.ai/deepakpokkalla/node-classification/sweeps/reuf9j38' target=\"_blank\">https://wandb.ai/deepakpokkalla/node-classification/sweeps/reuf9j38</a>"
      ],
      "text/plain": [
       "<IPython.core.display.HTML object>"
      ]
     },
     "metadata": {},
     "output_type": "display_data"
    },
    {
     "data": {
      "text/html": [
       " View run at <a href='https://wandb.ai/deepakpokkalla/node-classification/runs/g1k2wjop' target=\"_blank\">https://wandb.ai/deepakpokkalla/node-classification/runs/g1k2wjop</a>"
      ],
      "text/plain": [
       "<IPython.core.display.HTML object>"
      ]
     },
     "metadata": {},
     "output_type": "display_data"
    },
    {
     "name": "stderr",
     "output_type": "stream",
     "text": [
      "100%|██████████| 100/100 [00:02<00:00, 41.64it/s]\n"
     ]
    },
    {
     "data": {
      "text/html": [
       "\n",
       "    <style>\n",
       "        .wandb-row {\n",
       "            display: flex;\n",
       "            flex-direction: row;\n",
       "            flex-wrap: wrap;\n",
       "            justify-content: flex-start;\n",
       "            width: 100%;\n",
       "        }\n",
       "        .wandb-col {\n",
       "            display: flex;\n",
       "            flex-direction: column;\n",
       "            flex-basis: 100%;\n",
       "            flex: 1;\n",
       "            padding: 10px;\n",
       "        }\n",
       "    </style>\n",
       "<div class=\"wandb-row\"><div class=\"wandb-col\"><h3>Run history:</h3><br/><table class=\"wandb\"><tr><td>gcn/accuracy</td><td>▁</td></tr><tr><td>gcn/loss</td><td>█▇▆▆█▇▆▇█▆▆▇▆▆▆▅▆▆▆▇▆▅▄▅▅▄▄▄▄▅▅▄▃▅▃▃▄▂▂▁</td></tr></table><br/></div><div class=\"wandb-col\"><h3>Run summary:</h3><br/><table class=\"wandb\"><tr><td>gcn/accuracy</td><td>0.542</td></tr><tr><td>gcn/loss</td><td>1.91148</td></tr></table><br/></div></div>"
      ],
      "text/plain": [
       "<IPython.core.display.HTML object>"
      ]
     },
     "metadata": {},
     "output_type": "display_data"
    },
    {
     "data": {
      "text/html": [
       " View run <strong style=\"color:#cdcd00\">dashing-sweep-30</strong> at: <a href='https://wandb.ai/deepakpokkalla/node-classification/runs/g1k2wjop' target=\"_blank\">https://wandb.ai/deepakpokkalla/node-classification/runs/g1k2wjop</a><br/> View project at: <a href='https://wandb.ai/deepakpokkalla/node-classification' target=\"_blank\">https://wandb.ai/deepakpokkalla/node-classification</a><br/>Synced 5 W&B file(s), 0 media file(s), 4 artifact file(s) and 2 other file(s)"
      ],
      "text/plain": [
       "<IPython.core.display.HTML object>"
      ]
     },
     "metadata": {},
     "output_type": "display_data"
    },
    {
     "data": {
      "text/html": [
       "Find logs at: <code>.\\wandb\\run-20241122_210711-g1k2wjop\\logs</code>"
      ],
      "text/plain": [
       "<IPython.core.display.HTML object>"
      ]
     },
     "metadata": {},
     "output_type": "display_data"
    },
    {
     "name": "stderr",
     "output_type": "stream",
     "text": [
      "\u001b[34m\u001b[1mwandb\u001b[0m: Agent Starting Run: sv5octh5 with config:\n",
      "\u001b[34m\u001b[1mwandb\u001b[0m: \thidden_channels: 8\n",
      "\u001b[34m\u001b[1mwandb\u001b[0m: \tlr: 0.00033447808437707806\n",
      "\u001b[34m\u001b[1mwandb\u001b[0m: \tweight_decay: 0.0005046429059103211\n"
     ]
    },
    {
     "data": {
      "text/html": [
       "Tracking run with wandb version 0.18.7"
      ],
      "text/plain": [
       "<IPython.core.display.HTML object>"
      ]
     },
     "metadata": {},
     "output_type": "display_data"
    },
    {
     "data": {
      "text/html": [
       "Run data is saved locally in <code>d:\\users\\dpa13\\projects\\my_projects\\deeplearning_tutorials\\pytorch_geometric\\official_examples\\wandb\\run-20241122_210721-sv5octh5</code>"
      ],
      "text/plain": [
       "<IPython.core.display.HTML object>"
      ]
     },
     "metadata": {},
     "output_type": "display_data"
    },
    {
     "data": {
      "text/html": [
       "Syncing run <strong><a href='https://wandb.ai/deepakpokkalla/node-classification/runs/sv5octh5' target=\"_blank\">bumbling-sweep-31</a></strong> to <a href='https://wandb.ai/deepakpokkalla/node-classification' target=\"_blank\">Weights & Biases</a> (<a href='https://wandb.me/developer-guide' target=\"_blank\">docs</a>)<br/>Sweep page: <a href='https://wandb.ai/deepakpokkalla/node-classification/sweeps/reuf9j38' target=\"_blank\">https://wandb.ai/deepakpokkalla/node-classification/sweeps/reuf9j38</a>"
      ],
      "text/plain": [
       "<IPython.core.display.HTML object>"
      ]
     },
     "metadata": {},
     "output_type": "display_data"
    },
    {
     "data": {
      "text/html": [
       " View project at <a href='https://wandb.ai/deepakpokkalla/node-classification' target=\"_blank\">https://wandb.ai/deepakpokkalla/node-classification</a>"
      ],
      "text/plain": [
       "<IPython.core.display.HTML object>"
      ]
     },
     "metadata": {},
     "output_type": "display_data"
    },
    {
     "data": {
      "text/html": [
       " View sweep at <a href='https://wandb.ai/deepakpokkalla/node-classification/sweeps/reuf9j38' target=\"_blank\">https://wandb.ai/deepakpokkalla/node-classification/sweeps/reuf9j38</a>"
      ],
      "text/plain": [
       "<IPython.core.display.HTML object>"
      ]
     },
     "metadata": {},
     "output_type": "display_data"
    },
    {
     "data": {
      "text/html": [
       " View run at <a href='https://wandb.ai/deepakpokkalla/node-classification/runs/sv5octh5' target=\"_blank\">https://wandb.ai/deepakpokkalla/node-classification/runs/sv5octh5</a>"
      ],
      "text/plain": [
       "<IPython.core.display.HTML object>"
      ]
     },
     "metadata": {},
     "output_type": "display_data"
    },
    {
     "name": "stderr",
     "output_type": "stream",
     "text": [
      "100%|██████████| 100/100 [00:01<00:00, 67.62it/s]\n"
     ]
    },
    {
     "data": {
      "text/html": [
       "\n",
       "    <style>\n",
       "        .wandb-row {\n",
       "            display: flex;\n",
       "            flex-direction: row;\n",
       "            flex-wrap: wrap;\n",
       "            justify-content: flex-start;\n",
       "            width: 100%;\n",
       "        }\n",
       "        .wandb-col {\n",
       "            display: flex;\n",
       "            flex-direction: column;\n",
       "            flex-basis: 100%;\n",
       "            flex: 1;\n",
       "            padding: 10px;\n",
       "        }\n",
       "    </style>\n",
       "<div class=\"wandb-row\"><div class=\"wandb-col\"><h3>Run history:</h3><br/><table class=\"wandb\"><tr><td>gcn/accuracy</td><td>▁</td></tr><tr><td>gcn/loss</td><td>█████▇▇▇▇▇▇▇▆▆▆▆▅▅▅▅▅▅▅▅▅▄▄▃▃▄▂▂▂▂▂▁▂▁▁▁</td></tr></table><br/></div><div class=\"wandb-col\"><h3>Run summary:</h3><br/><table class=\"wandb\"><tr><td>gcn/accuracy</td><td>0.56</td></tr><tr><td>gcn/loss</td><td>1.922</td></tr></table><br/></div></div>"
      ],
      "text/plain": [
       "<IPython.core.display.HTML object>"
      ]
     },
     "metadata": {},
     "output_type": "display_data"
    },
    {
     "data": {
      "text/html": [
       " View run <strong style=\"color:#cdcd00\">bumbling-sweep-31</strong> at: <a href='https://wandb.ai/deepakpokkalla/node-classification/runs/sv5octh5' target=\"_blank\">https://wandb.ai/deepakpokkalla/node-classification/runs/sv5octh5</a><br/> View project at: <a href='https://wandb.ai/deepakpokkalla/node-classification' target=\"_blank\">https://wandb.ai/deepakpokkalla/node-classification</a><br/>Synced 5 W&B file(s), 0 media file(s), 4 artifact file(s) and 2 other file(s)"
      ],
      "text/plain": [
       "<IPython.core.display.HTML object>"
      ]
     },
     "metadata": {},
     "output_type": "display_data"
    },
    {
     "data": {
      "text/html": [
       "Find logs at: <code>.\\wandb\\run-20241122_210721-sv5octh5\\logs</code>"
      ],
      "text/plain": [
       "<IPython.core.display.HTML object>"
      ]
     },
     "metadata": {},
     "output_type": "display_data"
    },
    {
     "name": "stderr",
     "output_type": "stream",
     "text": [
      "\u001b[34m\u001b[1mwandb\u001b[0m: Agent Starting Run: d2mc3rvw with config:\n",
      "\u001b[34m\u001b[1mwandb\u001b[0m: \thidden_channels: 32\n",
      "\u001b[34m\u001b[1mwandb\u001b[0m: \tlr: 0.00023871044967437155\n",
      "\u001b[34m\u001b[1mwandb\u001b[0m: \tweight_decay: 0.0004974654634060624\n"
     ]
    },
    {
     "data": {
      "text/html": [
       "Tracking run with wandb version 0.18.7"
      ],
      "text/plain": [
       "<IPython.core.display.HTML object>"
      ]
     },
     "metadata": {},
     "output_type": "display_data"
    },
    {
     "data": {
      "text/html": [
       "Run data is saved locally in <code>d:\\users\\dpa13\\projects\\my_projects\\deeplearning_tutorials\\pytorch_geometric\\official_examples\\wandb\\run-20241122_210732-d2mc3rvw</code>"
      ],
      "text/plain": [
       "<IPython.core.display.HTML object>"
      ]
     },
     "metadata": {},
     "output_type": "display_data"
    },
    {
     "data": {
      "text/html": [
       "Syncing run <strong><a href='https://wandb.ai/deepakpokkalla/node-classification/runs/d2mc3rvw' target=\"_blank\">stoic-sweep-32</a></strong> to <a href='https://wandb.ai/deepakpokkalla/node-classification' target=\"_blank\">Weights & Biases</a> (<a href='https://wandb.me/developer-guide' target=\"_blank\">docs</a>)<br/>Sweep page: <a href='https://wandb.ai/deepakpokkalla/node-classification/sweeps/reuf9j38' target=\"_blank\">https://wandb.ai/deepakpokkalla/node-classification/sweeps/reuf9j38</a>"
      ],
      "text/plain": [
       "<IPython.core.display.HTML object>"
      ]
     },
     "metadata": {},
     "output_type": "display_data"
    },
    {
     "data": {
      "text/html": [
       " View project at <a href='https://wandb.ai/deepakpokkalla/node-classification' target=\"_blank\">https://wandb.ai/deepakpokkalla/node-classification</a>"
      ],
      "text/plain": [
       "<IPython.core.display.HTML object>"
      ]
     },
     "metadata": {},
     "output_type": "display_data"
    },
    {
     "data": {
      "text/html": [
       " View sweep at <a href='https://wandb.ai/deepakpokkalla/node-classification/sweeps/reuf9j38' target=\"_blank\">https://wandb.ai/deepakpokkalla/node-classification/sweeps/reuf9j38</a>"
      ],
      "text/plain": [
       "<IPython.core.display.HTML object>"
      ]
     },
     "metadata": {},
     "output_type": "display_data"
    },
    {
     "data": {
      "text/html": [
       " View run at <a href='https://wandb.ai/deepakpokkalla/node-classification/runs/d2mc3rvw' target=\"_blank\">https://wandb.ai/deepakpokkalla/node-classification/runs/d2mc3rvw</a>"
      ],
      "text/plain": [
       "<IPython.core.display.HTML object>"
      ]
     },
     "metadata": {},
     "output_type": "display_data"
    },
    {
     "name": "stderr",
     "output_type": "stream",
     "text": [
      "100%|██████████| 100/100 [00:02<00:00, 41.48it/s]\n"
     ]
    },
    {
     "data": {
      "text/html": [
       "\n",
       "    <style>\n",
       "        .wandb-row {\n",
       "            display: flex;\n",
       "            flex-direction: row;\n",
       "            flex-wrap: wrap;\n",
       "            justify-content: flex-start;\n",
       "            width: 100%;\n",
       "        }\n",
       "        .wandb-col {\n",
       "            display: flex;\n",
       "            flex-direction: column;\n",
       "            flex-basis: 100%;\n",
       "            flex: 1;\n",
       "            padding: 10px;\n",
       "        }\n",
       "    </style>\n",
       "<div class=\"wandb-row\"><div class=\"wandb-col\"><h3>Run history:</h3><br/><table class=\"wandb\"><tr><td>gcn/accuracy</td><td>▁</td></tr><tr><td>gcn/loss</td><td>▅▅▇▅▇▅▆▆█▆▅▅▄▅▅▅▄▅▄▄▃▃▄▃▃▄▃▄▃▃▂▃▂▃▃▂▂▂▂▁</td></tr></table><br/></div><div class=\"wandb-col\"><h3>Run summary:</h3><br/><table class=\"wandb\"><tr><td>gcn/accuracy</td><td>0.469</td></tr><tr><td>gcn/loss</td><td>1.9084</td></tr></table><br/></div></div>"
      ],
      "text/plain": [
       "<IPython.core.display.HTML object>"
      ]
     },
     "metadata": {},
     "output_type": "display_data"
    },
    {
     "data": {
      "text/html": [
       " View run <strong style=\"color:#cdcd00\">stoic-sweep-32</strong> at: <a href='https://wandb.ai/deepakpokkalla/node-classification/runs/d2mc3rvw' target=\"_blank\">https://wandb.ai/deepakpokkalla/node-classification/runs/d2mc3rvw</a><br/> View project at: <a href='https://wandb.ai/deepakpokkalla/node-classification' target=\"_blank\">https://wandb.ai/deepakpokkalla/node-classification</a><br/>Synced 5 W&B file(s), 0 media file(s), 4 artifact file(s) and 2 other file(s)"
      ],
      "text/plain": [
       "<IPython.core.display.HTML object>"
      ]
     },
     "metadata": {},
     "output_type": "display_data"
    },
    {
     "data": {
      "text/html": [
       "Find logs at: <code>.\\wandb\\run-20241122_210732-d2mc3rvw\\logs</code>"
      ],
      "text/plain": [
       "<IPython.core.display.HTML object>"
      ]
     },
     "metadata": {},
     "output_type": "display_data"
    },
    {
     "name": "stderr",
     "output_type": "stream",
     "text": [
      "\u001b[34m\u001b[1mwandb\u001b[0m: Agent Starting Run: cd8pcr9p with config:\n",
      "\u001b[34m\u001b[1mwandb\u001b[0m: \thidden_channels: 32\n",
      "\u001b[34m\u001b[1mwandb\u001b[0m: \tlr: 0.0009136421752145592\n",
      "\u001b[34m\u001b[1mwandb\u001b[0m: \tweight_decay: 0.0005106909800434565\n"
     ]
    },
    {
     "data": {
      "text/html": [
       "Tracking run with wandb version 0.18.7"
      ],
      "text/plain": [
       "<IPython.core.display.HTML object>"
      ]
     },
     "metadata": {},
     "output_type": "display_data"
    },
    {
     "data": {
      "text/html": [
       "Run data is saved locally in <code>d:\\users\\dpa13\\projects\\my_projects\\deeplearning_tutorials\\pytorch_geometric\\official_examples\\wandb\\run-20241122_210743-cd8pcr9p</code>"
      ],
      "text/plain": [
       "<IPython.core.display.HTML object>"
      ]
     },
     "metadata": {},
     "output_type": "display_data"
    },
    {
     "data": {
      "text/html": [
       "Syncing run <strong><a href='https://wandb.ai/deepakpokkalla/node-classification/runs/cd8pcr9p' target=\"_blank\">atomic-sweep-33</a></strong> to <a href='https://wandb.ai/deepakpokkalla/node-classification' target=\"_blank\">Weights & Biases</a> (<a href='https://wandb.me/developer-guide' target=\"_blank\">docs</a>)<br/>Sweep page: <a href='https://wandb.ai/deepakpokkalla/node-classification/sweeps/reuf9j38' target=\"_blank\">https://wandb.ai/deepakpokkalla/node-classification/sweeps/reuf9j38</a>"
      ],
      "text/plain": [
       "<IPython.core.display.HTML object>"
      ]
     },
     "metadata": {},
     "output_type": "display_data"
    },
    {
     "data": {
      "text/html": [
       " View project at <a href='https://wandb.ai/deepakpokkalla/node-classification' target=\"_blank\">https://wandb.ai/deepakpokkalla/node-classification</a>"
      ],
      "text/plain": [
       "<IPython.core.display.HTML object>"
      ]
     },
     "metadata": {},
     "output_type": "display_data"
    },
    {
     "data": {
      "text/html": [
       " View sweep at <a href='https://wandb.ai/deepakpokkalla/node-classification/sweeps/reuf9j38' target=\"_blank\">https://wandb.ai/deepakpokkalla/node-classification/sweeps/reuf9j38</a>"
      ],
      "text/plain": [
       "<IPython.core.display.HTML object>"
      ]
     },
     "metadata": {},
     "output_type": "display_data"
    },
    {
     "data": {
      "text/html": [
       " View run at <a href='https://wandb.ai/deepakpokkalla/node-classification/runs/cd8pcr9p' target=\"_blank\">https://wandb.ai/deepakpokkalla/node-classification/runs/cd8pcr9p</a>"
      ],
      "text/plain": [
       "<IPython.core.display.HTML object>"
      ]
     },
     "metadata": {},
     "output_type": "display_data"
    },
    {
     "name": "stderr",
     "output_type": "stream",
     "text": [
      "100%|██████████| 100/100 [00:02<00:00, 40.70it/s]\n"
     ]
    },
    {
     "data": {
      "text/html": [
       "\n",
       "    <style>\n",
       "        .wandb-row {\n",
       "            display: flex;\n",
       "            flex-direction: row;\n",
       "            flex-wrap: wrap;\n",
       "            justify-content: flex-start;\n",
       "            width: 100%;\n",
       "        }\n",
       "        .wandb-col {\n",
       "            display: flex;\n",
       "            flex-direction: column;\n",
       "            flex-basis: 100%;\n",
       "            flex: 1;\n",
       "            padding: 10px;\n",
       "        }\n",
       "    </style>\n",
       "<div class=\"wandb-row\"><div class=\"wandb-col\"><h3>Run history:</h3><br/><table class=\"wandb\"><tr><td>gcn/accuracy</td><td>▁</td></tr><tr><td>gcn/loss</td><td>████▇▇▇▇▇▆▆▆▆▆▅▅▅▅▅▅▅▄▄▄▄▄▃▄▃▄▃▃▃▃▂▂▂▂▂▁</td></tr></table><br/></div><div class=\"wandb-col\"><h3>Run summary:</h3><br/><table class=\"wandb\"><tr><td>gcn/accuracy</td><td>0.582</td></tr><tr><td>gcn/loss</td><td>1.81118</td></tr></table><br/></div></div>"
      ],
      "text/plain": [
       "<IPython.core.display.HTML object>"
      ]
     },
     "metadata": {},
     "output_type": "display_data"
    },
    {
     "data": {
      "text/html": [
       " View run <strong style=\"color:#cdcd00\">atomic-sweep-33</strong> at: <a href='https://wandb.ai/deepakpokkalla/node-classification/runs/cd8pcr9p' target=\"_blank\">https://wandb.ai/deepakpokkalla/node-classification/runs/cd8pcr9p</a><br/> View project at: <a href='https://wandb.ai/deepakpokkalla/node-classification' target=\"_blank\">https://wandb.ai/deepakpokkalla/node-classification</a><br/>Synced 5 W&B file(s), 0 media file(s), 4 artifact file(s) and 2 other file(s)"
      ],
      "text/plain": [
       "<IPython.core.display.HTML object>"
      ]
     },
     "metadata": {},
     "output_type": "display_data"
    },
    {
     "data": {
      "text/html": [
       "Find logs at: <code>.\\wandb\\run-20241122_210743-cd8pcr9p\\logs</code>"
      ],
      "text/plain": [
       "<IPython.core.display.HTML object>"
      ]
     },
     "metadata": {},
     "output_type": "display_data"
    },
    {
     "name": "stderr",
     "output_type": "stream",
     "text": [
      "\u001b[34m\u001b[1mwandb\u001b[0m: Agent Starting Run: shyd4kfj with config:\n",
      "\u001b[34m\u001b[1mwandb\u001b[0m: \thidden_channels: 16\n",
      "\u001b[34m\u001b[1mwandb\u001b[0m: \tlr: 0.0005861195526621176\n",
      "\u001b[34m\u001b[1mwandb\u001b[0m: \tweight_decay: 0.0005011351545170184\n"
     ]
    },
    {
     "data": {
      "text/html": [
       "Tracking run with wandb version 0.18.7"
      ],
      "text/plain": [
       "<IPython.core.display.HTML object>"
      ]
     },
     "metadata": {},
     "output_type": "display_data"
    },
    {
     "data": {
      "text/html": [
       "Run data is saved locally in <code>d:\\users\\dpa13\\projects\\my_projects\\deeplearning_tutorials\\pytorch_geometric\\official_examples\\wandb\\run-20241122_210753-shyd4kfj</code>"
      ],
      "text/plain": [
       "<IPython.core.display.HTML object>"
      ]
     },
     "metadata": {},
     "output_type": "display_data"
    },
    {
     "data": {
      "text/html": [
       "Syncing run <strong><a href='https://wandb.ai/deepakpokkalla/node-classification/runs/shyd4kfj' target=\"_blank\">glowing-sweep-34</a></strong> to <a href='https://wandb.ai/deepakpokkalla/node-classification' target=\"_blank\">Weights & Biases</a> (<a href='https://wandb.me/developer-guide' target=\"_blank\">docs</a>)<br/>Sweep page: <a href='https://wandb.ai/deepakpokkalla/node-classification/sweeps/reuf9j38' target=\"_blank\">https://wandb.ai/deepakpokkalla/node-classification/sweeps/reuf9j38</a>"
      ],
      "text/plain": [
       "<IPython.core.display.HTML object>"
      ]
     },
     "metadata": {},
     "output_type": "display_data"
    },
    {
     "data": {
      "text/html": [
       " View project at <a href='https://wandb.ai/deepakpokkalla/node-classification' target=\"_blank\">https://wandb.ai/deepakpokkalla/node-classification</a>"
      ],
      "text/plain": [
       "<IPython.core.display.HTML object>"
      ]
     },
     "metadata": {},
     "output_type": "display_data"
    },
    {
     "data": {
      "text/html": [
       " View sweep at <a href='https://wandb.ai/deepakpokkalla/node-classification/sweeps/reuf9j38' target=\"_blank\">https://wandb.ai/deepakpokkalla/node-classification/sweeps/reuf9j38</a>"
      ],
      "text/plain": [
       "<IPython.core.display.HTML object>"
      ]
     },
     "metadata": {},
     "output_type": "display_data"
    },
    {
     "data": {
      "text/html": [
       " View run at <a href='https://wandb.ai/deepakpokkalla/node-classification/runs/shyd4kfj' target=\"_blank\">https://wandb.ai/deepakpokkalla/node-classification/runs/shyd4kfj</a>"
      ],
      "text/plain": [
       "<IPython.core.display.HTML object>"
      ]
     },
     "metadata": {},
     "output_type": "display_data"
    },
    {
     "name": "stderr",
     "output_type": "stream",
     "text": [
      "100%|██████████| 100/100 [00:01<00:00, 62.45it/s]\n"
     ]
    },
    {
     "data": {
      "text/html": [
       "\n",
       "    <style>\n",
       "        .wandb-row {\n",
       "            display: flex;\n",
       "            flex-direction: row;\n",
       "            flex-wrap: wrap;\n",
       "            justify-content: flex-start;\n",
       "            width: 100%;\n",
       "        }\n",
       "        .wandb-col {\n",
       "            display: flex;\n",
       "            flex-direction: column;\n",
       "            flex-basis: 100%;\n",
       "            flex: 1;\n",
       "            padding: 10px;\n",
       "        }\n",
       "    </style>\n",
       "<div class=\"wandb-row\"><div class=\"wandb-col\"><h3>Run history:</h3><br/><table class=\"wandb\"><tr><td>gcn/accuracy</td><td>▁</td></tr><tr><td>gcn/loss</td><td>▇█▇▇▆▇▆▅▆▆▆▆▅▅▅▄▅▅▄▅▄▅▄▅▄▄▃▄▃▃▃▂▂▂▂▃▁▁▂▁</td></tr></table><br/></div><div class=\"wandb-col\"><h3>Run summary:</h3><br/><table class=\"wandb\"><tr><td>gcn/accuracy</td><td>0.596</td></tr><tr><td>gcn/loss</td><td>1.90316</td></tr></table><br/></div></div>"
      ],
      "text/plain": [
       "<IPython.core.display.HTML object>"
      ]
     },
     "metadata": {},
     "output_type": "display_data"
    },
    {
     "data": {
      "text/html": [
       " View run <strong style=\"color:#cdcd00\">glowing-sweep-34</strong> at: <a href='https://wandb.ai/deepakpokkalla/node-classification/runs/shyd4kfj' target=\"_blank\">https://wandb.ai/deepakpokkalla/node-classification/runs/shyd4kfj</a><br/> View project at: <a href='https://wandb.ai/deepakpokkalla/node-classification' target=\"_blank\">https://wandb.ai/deepakpokkalla/node-classification</a><br/>Synced 5 W&B file(s), 0 media file(s), 4 artifact file(s) and 2 other file(s)"
      ],
      "text/plain": [
       "<IPython.core.display.HTML object>"
      ]
     },
     "metadata": {},
     "output_type": "display_data"
    },
    {
     "data": {
      "text/html": [
       "Find logs at: <code>.\\wandb\\run-20241122_210753-shyd4kfj\\logs</code>"
      ],
      "text/plain": [
       "<IPython.core.display.HTML object>"
      ]
     },
     "metadata": {},
     "output_type": "display_data"
    },
    {
     "name": "stderr",
     "output_type": "stream",
     "text": [
      "\u001b[34m\u001b[1mwandb\u001b[0m: Sweep Agent: Waiting for job.\n",
      "\u001b[34m\u001b[1mwandb\u001b[0m: Job received.\n",
      "\u001b[34m\u001b[1mwandb\u001b[0m: Agent Starting Run: m4doj0j3 with config:\n",
      "\u001b[34m\u001b[1mwandb\u001b[0m: \thidden_channels: 32\n",
      "\u001b[34m\u001b[1mwandb\u001b[0m: \tlr: 0.000899431591812367\n",
      "\u001b[34m\u001b[1mwandb\u001b[0m: \tweight_decay: 0.00047634867261683503\n"
     ]
    },
    {
     "data": {
      "text/html": [
       "Tracking run with wandb version 0.18.7"
      ],
      "text/plain": [
       "<IPython.core.display.HTML object>"
      ]
     },
     "metadata": {},
     "output_type": "display_data"
    },
    {
     "data": {
      "text/html": [
       "Run data is saved locally in <code>d:\\users\\dpa13\\projects\\my_projects\\deeplearning_tutorials\\pytorch_geometric\\official_examples\\wandb\\run-20241122_210814-m4doj0j3</code>"
      ],
      "text/plain": [
       "<IPython.core.display.HTML object>"
      ]
     },
     "metadata": {},
     "output_type": "display_data"
    },
    {
     "data": {
      "text/html": [
       "Syncing run <strong><a href='https://wandb.ai/deepakpokkalla/node-classification/runs/m4doj0j3' target=\"_blank\">absurd-sweep-35</a></strong> to <a href='https://wandb.ai/deepakpokkalla/node-classification' target=\"_blank\">Weights & Biases</a> (<a href='https://wandb.me/developer-guide' target=\"_blank\">docs</a>)<br/>Sweep page: <a href='https://wandb.ai/deepakpokkalla/node-classification/sweeps/reuf9j38' target=\"_blank\">https://wandb.ai/deepakpokkalla/node-classification/sweeps/reuf9j38</a>"
      ],
      "text/plain": [
       "<IPython.core.display.HTML object>"
      ]
     },
     "metadata": {},
     "output_type": "display_data"
    },
    {
     "data": {
      "text/html": [
       " View project at <a href='https://wandb.ai/deepakpokkalla/node-classification' target=\"_blank\">https://wandb.ai/deepakpokkalla/node-classification</a>"
      ],
      "text/plain": [
       "<IPython.core.display.HTML object>"
      ]
     },
     "metadata": {},
     "output_type": "display_data"
    },
    {
     "data": {
      "text/html": [
       " View sweep at <a href='https://wandb.ai/deepakpokkalla/node-classification/sweeps/reuf9j38' target=\"_blank\">https://wandb.ai/deepakpokkalla/node-classification/sweeps/reuf9j38</a>"
      ],
      "text/plain": [
       "<IPython.core.display.HTML object>"
      ]
     },
     "metadata": {},
     "output_type": "display_data"
    },
    {
     "data": {
      "text/html": [
       " View run at <a href='https://wandb.ai/deepakpokkalla/node-classification/runs/m4doj0j3' target=\"_blank\">https://wandb.ai/deepakpokkalla/node-classification/runs/m4doj0j3</a>"
      ],
      "text/plain": [
       "<IPython.core.display.HTML object>"
      ]
     },
     "metadata": {},
     "output_type": "display_data"
    },
    {
     "name": "stderr",
     "output_type": "stream",
     "text": [
      "100%|██████████| 100/100 [00:02<00:00, 41.07it/s]\n"
     ]
    },
    {
     "data": {
      "text/html": [
       "\n",
       "    <style>\n",
       "        .wandb-row {\n",
       "            display: flex;\n",
       "            flex-direction: row;\n",
       "            flex-wrap: wrap;\n",
       "            justify-content: flex-start;\n",
       "            width: 100%;\n",
       "        }\n",
       "        .wandb-col {\n",
       "            display: flex;\n",
       "            flex-direction: column;\n",
       "            flex-basis: 100%;\n",
       "            flex: 1;\n",
       "            padding: 10px;\n",
       "        }\n",
       "    </style>\n",
       "<div class=\"wandb-row\"><div class=\"wandb-col\"><h3>Run history:</h3><br/><table class=\"wandb\"><tr><td>gcn/accuracy</td><td>▁</td></tr><tr><td>gcn/loss</td><td>██▇▇▇▇▇▇▇▆▆▆▆▆▆▆▅▅▅▅▄▅▄▄▄▄▄▄▃▃▃▃▃▃▂▂▂▂▁▁</td></tr></table><br/></div><div class=\"wandb-col\"><h3>Run summary:</h3><br/><table class=\"wandb\"><tr><td>gcn/accuracy</td><td>0.591</td></tr><tr><td>gcn/loss</td><td>1.81199</td></tr></table><br/></div></div>"
      ],
      "text/plain": [
       "<IPython.core.display.HTML object>"
      ]
     },
     "metadata": {},
     "output_type": "display_data"
    },
    {
     "data": {
      "text/html": [
       " View run <strong style=\"color:#cdcd00\">absurd-sweep-35</strong> at: <a href='https://wandb.ai/deepakpokkalla/node-classification/runs/m4doj0j3' target=\"_blank\">https://wandb.ai/deepakpokkalla/node-classification/runs/m4doj0j3</a><br/> View project at: <a href='https://wandb.ai/deepakpokkalla/node-classification' target=\"_blank\">https://wandb.ai/deepakpokkalla/node-classification</a><br/>Synced 5 W&B file(s), 0 media file(s), 4 artifact file(s) and 2 other file(s)"
      ],
      "text/plain": [
       "<IPython.core.display.HTML object>"
      ]
     },
     "metadata": {},
     "output_type": "display_data"
    },
    {
     "data": {
      "text/html": [
       "Find logs at: <code>.\\wandb\\run-20241122_210814-m4doj0j3\\logs</code>"
      ],
      "text/plain": [
       "<IPython.core.display.HTML object>"
      ]
     },
     "metadata": {},
     "output_type": "display_data"
    },
    {
     "name": "stderr",
     "output_type": "stream",
     "text": [
      "\u001b[34m\u001b[1mwandb\u001b[0m: Agent Starting Run: 44mlpc61 with config:\n",
      "\u001b[34m\u001b[1mwandb\u001b[0m: \thidden_channels: 16\n",
      "\u001b[34m\u001b[1mwandb\u001b[0m: \tlr: 0.0007121354929679792\n",
      "\u001b[34m\u001b[1mwandb\u001b[0m: \tweight_decay: 0.00047558328177783654\n"
     ]
    },
    {
     "data": {
      "text/html": [
       "Tracking run with wandb version 0.18.7"
      ],
      "text/plain": [
       "<IPython.core.display.HTML object>"
      ]
     },
     "metadata": {},
     "output_type": "display_data"
    },
    {
     "data": {
      "text/html": [
       "Run data is saved locally in <code>d:\\users\\dpa13\\projects\\my_projects\\deeplearning_tutorials\\pytorch_geometric\\official_examples\\wandb\\run-20241122_210824-44mlpc61</code>"
      ],
      "text/plain": [
       "<IPython.core.display.HTML object>"
      ]
     },
     "metadata": {},
     "output_type": "display_data"
    },
    {
     "data": {
      "text/html": [
       "Syncing run <strong><a href='https://wandb.ai/deepakpokkalla/node-classification/runs/44mlpc61' target=\"_blank\">brisk-sweep-36</a></strong> to <a href='https://wandb.ai/deepakpokkalla/node-classification' target=\"_blank\">Weights & Biases</a> (<a href='https://wandb.me/developer-guide' target=\"_blank\">docs</a>)<br/>Sweep page: <a href='https://wandb.ai/deepakpokkalla/node-classification/sweeps/reuf9j38' target=\"_blank\">https://wandb.ai/deepakpokkalla/node-classification/sweeps/reuf9j38</a>"
      ],
      "text/plain": [
       "<IPython.core.display.HTML object>"
      ]
     },
     "metadata": {},
     "output_type": "display_data"
    },
    {
     "data": {
      "text/html": [
       " View project at <a href='https://wandb.ai/deepakpokkalla/node-classification' target=\"_blank\">https://wandb.ai/deepakpokkalla/node-classification</a>"
      ],
      "text/plain": [
       "<IPython.core.display.HTML object>"
      ]
     },
     "metadata": {},
     "output_type": "display_data"
    },
    {
     "data": {
      "text/html": [
       " View sweep at <a href='https://wandb.ai/deepakpokkalla/node-classification/sweeps/reuf9j38' target=\"_blank\">https://wandb.ai/deepakpokkalla/node-classification/sweeps/reuf9j38</a>"
      ],
      "text/plain": [
       "<IPython.core.display.HTML object>"
      ]
     },
     "metadata": {},
     "output_type": "display_data"
    },
    {
     "data": {
      "text/html": [
       " View run at <a href='https://wandb.ai/deepakpokkalla/node-classification/runs/44mlpc61' target=\"_blank\">https://wandb.ai/deepakpokkalla/node-classification/runs/44mlpc61</a>"
      ],
      "text/plain": [
       "<IPython.core.display.HTML object>"
      ]
     },
     "metadata": {},
     "output_type": "display_data"
    },
    {
     "name": "stderr",
     "output_type": "stream",
     "text": [
      "100%|██████████| 100/100 [00:01<00:00, 61.87it/s]\n"
     ]
    },
    {
     "data": {
      "text/html": [
       "\n",
       "    <style>\n",
       "        .wandb-row {\n",
       "            display: flex;\n",
       "            flex-direction: row;\n",
       "            flex-wrap: wrap;\n",
       "            justify-content: flex-start;\n",
       "            width: 100%;\n",
       "        }\n",
       "        .wandb-col {\n",
       "            display: flex;\n",
       "            flex-direction: column;\n",
       "            flex-basis: 100%;\n",
       "            flex: 1;\n",
       "            padding: 10px;\n",
       "        }\n",
       "    </style>\n",
       "<div class=\"wandb-row\"><div class=\"wandb-col\"><h3>Run history:</h3><br/><table class=\"wandb\"><tr><td>gcn/accuracy</td><td>▁</td></tr><tr><td>gcn/loss</td><td>▇█▇▅▆▆▆▇▆▆▇▆▅▅▅▄▄▄▄▄▅▄▄▄▄▃▃▃▃▃▃▂▂▃▂▃▁▁▁▁</td></tr></table><br/></div><div class=\"wandb-col\"><h3>Run summary:</h3><br/><table class=\"wandb\"><tr><td>gcn/accuracy</td><td>0.609</td></tr><tr><td>gcn/loss</td><td>1.89523</td></tr></table><br/></div></div>"
      ],
      "text/plain": [
       "<IPython.core.display.HTML object>"
      ]
     },
     "metadata": {},
     "output_type": "display_data"
    },
    {
     "data": {
      "text/html": [
       " View run <strong style=\"color:#cdcd00\">brisk-sweep-36</strong> at: <a href='https://wandb.ai/deepakpokkalla/node-classification/runs/44mlpc61' target=\"_blank\">https://wandb.ai/deepakpokkalla/node-classification/runs/44mlpc61</a><br/> View project at: <a href='https://wandb.ai/deepakpokkalla/node-classification' target=\"_blank\">https://wandb.ai/deepakpokkalla/node-classification</a><br/>Synced 5 W&B file(s), 0 media file(s), 4 artifact file(s) and 2 other file(s)"
      ],
      "text/plain": [
       "<IPython.core.display.HTML object>"
      ]
     },
     "metadata": {},
     "output_type": "display_data"
    },
    {
     "data": {
      "text/html": [
       "Find logs at: <code>.\\wandb\\run-20241122_210824-44mlpc61\\logs</code>"
      ],
      "text/plain": [
       "<IPython.core.display.HTML object>"
      ]
     },
     "metadata": {},
     "output_type": "display_data"
    },
    {
     "name": "stderr",
     "output_type": "stream",
     "text": [
      "\u001b[34m\u001b[1mwandb\u001b[0m: Agent Starting Run: agbk9zuh with config:\n",
      "\u001b[34m\u001b[1mwandb\u001b[0m: \thidden_channels: 8\n",
      "\u001b[34m\u001b[1mwandb\u001b[0m: \tlr: 0.00036645990774832174\n",
      "\u001b[34m\u001b[1mwandb\u001b[0m: \tweight_decay: 0.0004925465436783313\n"
     ]
    },
    {
     "data": {
      "text/html": [
       "Tracking run with wandb version 0.18.7"
      ],
      "text/plain": [
       "<IPython.core.display.HTML object>"
      ]
     },
     "metadata": {},
     "output_type": "display_data"
    },
    {
     "data": {
      "text/html": [
       "Run data is saved locally in <code>d:\\users\\dpa13\\projects\\my_projects\\deeplearning_tutorials\\pytorch_geometric\\official_examples\\wandb\\run-20241122_210835-agbk9zuh</code>"
      ],
      "text/plain": [
       "<IPython.core.display.HTML object>"
      ]
     },
     "metadata": {},
     "output_type": "display_data"
    },
    {
     "data": {
      "text/html": [
       "Syncing run <strong><a href='https://wandb.ai/deepakpokkalla/node-classification/runs/agbk9zuh' target=\"_blank\">super-sweep-37</a></strong> to <a href='https://wandb.ai/deepakpokkalla/node-classification' target=\"_blank\">Weights & Biases</a> (<a href='https://wandb.me/developer-guide' target=\"_blank\">docs</a>)<br/>Sweep page: <a href='https://wandb.ai/deepakpokkalla/node-classification/sweeps/reuf9j38' target=\"_blank\">https://wandb.ai/deepakpokkalla/node-classification/sweeps/reuf9j38</a>"
      ],
      "text/plain": [
       "<IPython.core.display.HTML object>"
      ]
     },
     "metadata": {},
     "output_type": "display_data"
    },
    {
     "data": {
      "text/html": [
       " View project at <a href='https://wandb.ai/deepakpokkalla/node-classification' target=\"_blank\">https://wandb.ai/deepakpokkalla/node-classification</a>"
      ],
      "text/plain": [
       "<IPython.core.display.HTML object>"
      ]
     },
     "metadata": {},
     "output_type": "display_data"
    },
    {
     "data": {
      "text/html": [
       " View sweep at <a href='https://wandb.ai/deepakpokkalla/node-classification/sweeps/reuf9j38' target=\"_blank\">https://wandb.ai/deepakpokkalla/node-classification/sweeps/reuf9j38</a>"
      ],
      "text/plain": [
       "<IPython.core.display.HTML object>"
      ]
     },
     "metadata": {},
     "output_type": "display_data"
    },
    {
     "data": {
      "text/html": [
       " View run at <a href='https://wandb.ai/deepakpokkalla/node-classification/runs/agbk9zuh' target=\"_blank\">https://wandb.ai/deepakpokkalla/node-classification/runs/agbk9zuh</a>"
      ],
      "text/plain": [
       "<IPython.core.display.HTML object>"
      ]
     },
     "metadata": {},
     "output_type": "display_data"
    },
    {
     "name": "stderr",
     "output_type": "stream",
     "text": [
      "100%|██████████| 100/100 [00:01<00:00, 64.67it/s]\n"
     ]
    },
    {
     "data": {
      "text/html": [
       "\n",
       "    <style>\n",
       "        .wandb-row {\n",
       "            display: flex;\n",
       "            flex-direction: row;\n",
       "            flex-wrap: wrap;\n",
       "            justify-content: flex-start;\n",
       "            width: 100%;\n",
       "        }\n",
       "        .wandb-col {\n",
       "            display: flex;\n",
       "            flex-direction: column;\n",
       "            flex-basis: 100%;\n",
       "            flex: 1;\n",
       "            padding: 10px;\n",
       "        }\n",
       "    </style>\n",
       "<div class=\"wandb-row\"><div class=\"wandb-col\"><h3>Run history:</h3><br/><table class=\"wandb\"><tr><td>gcn/accuracy</td><td>▁</td></tr><tr><td>gcn/loss</td><td>████▇▇▇▆▇▆▆▆▆▆▆▅▅▅▅▅▄▄▄▄▄▃▃▃▃▃▃▂▂▂▂▂▁▁▁▁</td></tr></table><br/></div><div class=\"wandb-col\"><h3>Run summary:</h3><br/><table class=\"wandb\"><tr><td>gcn/accuracy</td><td>0.563</td></tr><tr><td>gcn/loss</td><td>1.9193</td></tr></table><br/></div></div>"
      ],
      "text/plain": [
       "<IPython.core.display.HTML object>"
      ]
     },
     "metadata": {},
     "output_type": "display_data"
    },
    {
     "data": {
      "text/html": [
       " View run <strong style=\"color:#cdcd00\">super-sweep-37</strong> at: <a href='https://wandb.ai/deepakpokkalla/node-classification/runs/agbk9zuh' target=\"_blank\">https://wandb.ai/deepakpokkalla/node-classification/runs/agbk9zuh</a><br/> View project at: <a href='https://wandb.ai/deepakpokkalla/node-classification' target=\"_blank\">https://wandb.ai/deepakpokkalla/node-classification</a><br/>Synced 5 W&B file(s), 0 media file(s), 4 artifact file(s) and 2 other file(s)"
      ],
      "text/plain": [
       "<IPython.core.display.HTML object>"
      ]
     },
     "metadata": {},
     "output_type": "display_data"
    },
    {
     "data": {
      "text/html": [
       "Find logs at: <code>.\\wandb\\run-20241122_210835-agbk9zuh\\logs</code>"
      ],
      "text/plain": [
       "<IPython.core.display.HTML object>"
      ]
     },
     "metadata": {},
     "output_type": "display_data"
    },
    {
     "name": "stderr",
     "output_type": "stream",
     "text": [
      "\u001b[34m\u001b[1mwandb\u001b[0m: Agent Starting Run: 7hikbr5t with config:\n",
      "\u001b[34m\u001b[1mwandb\u001b[0m: \thidden_channels: 32\n",
      "\u001b[34m\u001b[1mwandb\u001b[0m: \tlr: 0.0006595762243524041\n",
      "\u001b[34m\u001b[1mwandb\u001b[0m: \tweight_decay: 0.000499159589931308\n"
     ]
    },
    {
     "data": {
      "text/html": [
       "Tracking run with wandb version 0.18.7"
      ],
      "text/plain": [
       "<IPython.core.display.HTML object>"
      ]
     },
     "metadata": {},
     "output_type": "display_data"
    },
    {
     "data": {
      "text/html": [
       "Run data is saved locally in <code>d:\\users\\dpa13\\projects\\my_projects\\deeplearning_tutorials\\pytorch_geometric\\official_examples\\wandb\\run-20241122_210851-7hikbr5t</code>"
      ],
      "text/plain": [
       "<IPython.core.display.HTML object>"
      ]
     },
     "metadata": {},
     "output_type": "display_data"
    },
    {
     "data": {
      "text/html": [
       "Syncing run <strong><a href='https://wandb.ai/deepakpokkalla/node-classification/runs/7hikbr5t' target=\"_blank\">efficient-sweep-38</a></strong> to <a href='https://wandb.ai/deepakpokkalla/node-classification' target=\"_blank\">Weights & Biases</a> (<a href='https://wandb.me/developer-guide' target=\"_blank\">docs</a>)<br/>Sweep page: <a href='https://wandb.ai/deepakpokkalla/node-classification/sweeps/reuf9j38' target=\"_blank\">https://wandb.ai/deepakpokkalla/node-classification/sweeps/reuf9j38</a>"
      ],
      "text/plain": [
       "<IPython.core.display.HTML object>"
      ]
     },
     "metadata": {},
     "output_type": "display_data"
    },
    {
     "data": {
      "text/html": [
       " View project at <a href='https://wandb.ai/deepakpokkalla/node-classification' target=\"_blank\">https://wandb.ai/deepakpokkalla/node-classification</a>"
      ],
      "text/plain": [
       "<IPython.core.display.HTML object>"
      ]
     },
     "metadata": {},
     "output_type": "display_data"
    },
    {
     "data": {
      "text/html": [
       " View sweep at <a href='https://wandb.ai/deepakpokkalla/node-classification/sweeps/reuf9j38' target=\"_blank\">https://wandb.ai/deepakpokkalla/node-classification/sweeps/reuf9j38</a>"
      ],
      "text/plain": [
       "<IPython.core.display.HTML object>"
      ]
     },
     "metadata": {},
     "output_type": "display_data"
    },
    {
     "data": {
      "text/html": [
       " View run at <a href='https://wandb.ai/deepakpokkalla/node-classification/runs/7hikbr5t' target=\"_blank\">https://wandb.ai/deepakpokkalla/node-classification/runs/7hikbr5t</a>"
      ],
      "text/plain": [
       "<IPython.core.display.HTML object>"
      ]
     },
     "metadata": {},
     "output_type": "display_data"
    },
    {
     "name": "stderr",
     "output_type": "stream",
     "text": [
      "100%|██████████| 100/100 [00:02<00:00, 40.61it/s]\n"
     ]
    },
    {
     "data": {
      "text/html": [
       "\n",
       "    <style>\n",
       "        .wandb-row {\n",
       "            display: flex;\n",
       "            flex-direction: row;\n",
       "            flex-wrap: wrap;\n",
       "            justify-content: flex-start;\n",
       "            width: 100%;\n",
       "        }\n",
       "        .wandb-col {\n",
       "            display: flex;\n",
       "            flex-direction: column;\n",
       "            flex-basis: 100%;\n",
       "            flex: 1;\n",
       "            padding: 10px;\n",
       "        }\n",
       "    </style>\n",
       "<div class=\"wandb-row\"><div class=\"wandb-col\"><h3>Run history:</h3><br/><table class=\"wandb\"><tr><td>gcn/accuracy</td><td>▁</td></tr><tr><td>gcn/loss</td><td>█▇▇▇▇▇▇▆▆▆▆▅▅▅▅▅▄▄▄▅▃▄▄▃▃▃▃▃▃▃▂▂▂▃▂▂▂▂▂▁</td></tr></table><br/></div><div class=\"wandb-col\"><h3>Run summary:</h3><br/><table class=\"wandb\"><tr><td>gcn/accuracy</td><td>0.587</td></tr><tr><td>gcn/loss</td><td>1.84761</td></tr></table><br/></div></div>"
      ],
      "text/plain": [
       "<IPython.core.display.HTML object>"
      ]
     },
     "metadata": {},
     "output_type": "display_data"
    },
    {
     "data": {
      "text/html": [
       " View run <strong style=\"color:#cdcd00\">efficient-sweep-38</strong> at: <a href='https://wandb.ai/deepakpokkalla/node-classification/runs/7hikbr5t' target=\"_blank\">https://wandb.ai/deepakpokkalla/node-classification/runs/7hikbr5t</a><br/> View project at: <a href='https://wandb.ai/deepakpokkalla/node-classification' target=\"_blank\">https://wandb.ai/deepakpokkalla/node-classification</a><br/>Synced 5 W&B file(s), 0 media file(s), 4 artifact file(s) and 2 other file(s)"
      ],
      "text/plain": [
       "<IPython.core.display.HTML object>"
      ]
     },
     "metadata": {},
     "output_type": "display_data"
    },
    {
     "data": {
      "text/html": [
       "Find logs at: <code>.\\wandb\\run-20241122_210851-7hikbr5t\\logs</code>"
      ],
      "text/plain": [
       "<IPython.core.display.HTML object>"
      ]
     },
     "metadata": {},
     "output_type": "display_data"
    },
    {
     "name": "stderr",
     "output_type": "stream",
     "text": [
      "\u001b[34m\u001b[1mwandb\u001b[0m: Agent Starting Run: csgabpv3 with config:\n",
      "\u001b[34m\u001b[1mwandb\u001b[0m: \thidden_channels: 32\n",
      "\u001b[34m\u001b[1mwandb\u001b[0m: \tlr: 0.00012591401422938728\n",
      "\u001b[34m\u001b[1mwandb\u001b[0m: \tweight_decay: 0.0004995900291262576\n"
     ]
    },
    {
     "data": {
      "text/html": [
       "Tracking run with wandb version 0.18.7"
      ],
      "text/plain": [
       "<IPython.core.display.HTML object>"
      ]
     },
     "metadata": {},
     "output_type": "display_data"
    },
    {
     "data": {
      "text/html": [
       "Run data is saved locally in <code>d:\\users\\dpa13\\projects\\my_projects\\deeplearning_tutorials\\pytorch_geometric\\official_examples\\wandb\\run-20241122_210901-csgabpv3</code>"
      ],
      "text/plain": [
       "<IPython.core.display.HTML object>"
      ]
     },
     "metadata": {},
     "output_type": "display_data"
    },
    {
     "data": {
      "text/html": [
       "Syncing run <strong><a href='https://wandb.ai/deepakpokkalla/node-classification/runs/csgabpv3' target=\"_blank\">eager-sweep-39</a></strong> to <a href='https://wandb.ai/deepakpokkalla/node-classification' target=\"_blank\">Weights & Biases</a> (<a href='https://wandb.me/developer-guide' target=\"_blank\">docs</a>)<br/>Sweep page: <a href='https://wandb.ai/deepakpokkalla/node-classification/sweeps/reuf9j38' target=\"_blank\">https://wandb.ai/deepakpokkalla/node-classification/sweeps/reuf9j38</a>"
      ],
      "text/plain": [
       "<IPython.core.display.HTML object>"
      ]
     },
     "metadata": {},
     "output_type": "display_data"
    },
    {
     "data": {
      "text/html": [
       " View project at <a href='https://wandb.ai/deepakpokkalla/node-classification' target=\"_blank\">https://wandb.ai/deepakpokkalla/node-classification</a>"
      ],
      "text/plain": [
       "<IPython.core.display.HTML object>"
      ]
     },
     "metadata": {},
     "output_type": "display_data"
    },
    {
     "data": {
      "text/html": [
       " View sweep at <a href='https://wandb.ai/deepakpokkalla/node-classification/sweeps/reuf9j38' target=\"_blank\">https://wandb.ai/deepakpokkalla/node-classification/sweeps/reuf9j38</a>"
      ],
      "text/plain": [
       "<IPython.core.display.HTML object>"
      ]
     },
     "metadata": {},
     "output_type": "display_data"
    },
    {
     "data": {
      "text/html": [
       " View run at <a href='https://wandb.ai/deepakpokkalla/node-classification/runs/csgabpv3' target=\"_blank\">https://wandb.ai/deepakpokkalla/node-classification/runs/csgabpv3</a>"
      ],
      "text/plain": [
       "<IPython.core.display.HTML object>"
      ]
     },
     "metadata": {},
     "output_type": "display_data"
    },
    {
     "name": "stderr",
     "output_type": "stream",
     "text": [
      "100%|██████████| 100/100 [00:02<00:00, 40.21it/s]\n"
     ]
    },
    {
     "data": {
      "text/html": [
       "\n",
       "    <style>\n",
       "        .wandb-row {\n",
       "            display: flex;\n",
       "            flex-direction: row;\n",
       "            flex-wrap: wrap;\n",
       "            justify-content: flex-start;\n",
       "            width: 100%;\n",
       "        }\n",
       "        .wandb-col {\n",
       "            display: flex;\n",
       "            flex-direction: column;\n",
       "            flex-basis: 100%;\n",
       "            flex: 1;\n",
       "            padding: 10px;\n",
       "        }\n",
       "    </style>\n",
       "<div class=\"wandb-row\"><div class=\"wandb-col\"><h3>Run history:</h3><br/><table class=\"wandb\"><tr><td>gcn/accuracy</td><td>▁</td></tr><tr><td>gcn/loss</td><td>▄▅▃▄▃▅▄▃▅▄▃▄▃▄▄▂▃▃▃▅▃▃▃█▃▂▃▃▃▃▂▃▂▂▂▁▃▁▃▁</td></tr></table><br/></div><div class=\"wandb-col\"><h3>Run summary:</h3><br/><table class=\"wandb\"><tr><td>gcn/accuracy</td><td>0.518</td></tr><tr><td>gcn/loss</td><td>1.93621</td></tr></table><br/></div></div>"
      ],
      "text/plain": [
       "<IPython.core.display.HTML object>"
      ]
     },
     "metadata": {},
     "output_type": "display_data"
    },
    {
     "data": {
      "text/html": [
       " View run <strong style=\"color:#cdcd00\">eager-sweep-39</strong> at: <a href='https://wandb.ai/deepakpokkalla/node-classification/runs/csgabpv3' target=\"_blank\">https://wandb.ai/deepakpokkalla/node-classification/runs/csgabpv3</a><br/> View project at: <a href='https://wandb.ai/deepakpokkalla/node-classification' target=\"_blank\">https://wandb.ai/deepakpokkalla/node-classification</a><br/>Synced 5 W&B file(s), 0 media file(s), 4 artifact file(s) and 2 other file(s)"
      ],
      "text/plain": [
       "<IPython.core.display.HTML object>"
      ]
     },
     "metadata": {},
     "output_type": "display_data"
    },
    {
     "data": {
      "text/html": [
       "Find logs at: <code>.\\wandb\\run-20241122_210901-csgabpv3\\logs</code>"
      ],
      "text/plain": [
       "<IPython.core.display.HTML object>"
      ]
     },
     "metadata": {},
     "output_type": "display_data"
    },
    {
     "name": "stderr",
     "output_type": "stream",
     "text": [
      "\u001b[34m\u001b[1mwandb\u001b[0m: Sweep Agent: Waiting for job.\n",
      "\u001b[34m\u001b[1mwandb\u001b[0m: Job received.\n",
      "\u001b[34m\u001b[1mwandb\u001b[0m: Agent Starting Run: cb6cdhkf with config:\n",
      "\u001b[34m\u001b[1mwandb\u001b[0m: \thidden_channels: 32\n",
      "\u001b[34m\u001b[1mwandb\u001b[0m: \tlr: 0.0008528972806134814\n",
      "\u001b[34m\u001b[1mwandb\u001b[0m: \tweight_decay: 0.0005014705898246083\n"
     ]
    },
    {
     "data": {
      "text/html": [
       "Tracking run with wandb version 0.18.7"
      ],
      "text/plain": [
       "<IPython.core.display.HTML object>"
      ]
     },
     "metadata": {},
     "output_type": "display_data"
    },
    {
     "data": {
      "text/html": [
       "Run data is saved locally in <code>d:\\users\\dpa13\\projects\\my_projects\\deeplearning_tutorials\\pytorch_geometric\\official_examples\\wandb\\run-20241122_210921-cb6cdhkf</code>"
      ],
      "text/plain": [
       "<IPython.core.display.HTML object>"
      ]
     },
     "metadata": {},
     "output_type": "display_data"
    },
    {
     "data": {
      "text/html": [
       "Syncing run <strong><a href='https://wandb.ai/deepakpokkalla/node-classification/runs/cb6cdhkf' target=\"_blank\">stellar-sweep-40</a></strong> to <a href='https://wandb.ai/deepakpokkalla/node-classification' target=\"_blank\">Weights & Biases</a> (<a href='https://wandb.me/developer-guide' target=\"_blank\">docs</a>)<br/>Sweep page: <a href='https://wandb.ai/deepakpokkalla/node-classification/sweeps/reuf9j38' target=\"_blank\">https://wandb.ai/deepakpokkalla/node-classification/sweeps/reuf9j38</a>"
      ],
      "text/plain": [
       "<IPython.core.display.HTML object>"
      ]
     },
     "metadata": {},
     "output_type": "display_data"
    },
    {
     "data": {
      "text/html": [
       " View project at <a href='https://wandb.ai/deepakpokkalla/node-classification' target=\"_blank\">https://wandb.ai/deepakpokkalla/node-classification</a>"
      ],
      "text/plain": [
       "<IPython.core.display.HTML object>"
      ]
     },
     "metadata": {},
     "output_type": "display_data"
    },
    {
     "data": {
      "text/html": [
       " View sweep at <a href='https://wandb.ai/deepakpokkalla/node-classification/sweeps/reuf9j38' target=\"_blank\">https://wandb.ai/deepakpokkalla/node-classification/sweeps/reuf9j38</a>"
      ],
      "text/plain": [
       "<IPython.core.display.HTML object>"
      ]
     },
     "metadata": {},
     "output_type": "display_data"
    },
    {
     "data": {
      "text/html": [
       " View run at <a href='https://wandb.ai/deepakpokkalla/node-classification/runs/cb6cdhkf' target=\"_blank\">https://wandb.ai/deepakpokkalla/node-classification/runs/cb6cdhkf</a>"
      ],
      "text/plain": [
       "<IPython.core.display.HTML object>"
      ]
     },
     "metadata": {},
     "output_type": "display_data"
    },
    {
     "name": "stderr",
     "output_type": "stream",
     "text": [
      "100%|██████████| 100/100 [00:02<00:00, 41.58it/s]\n"
     ]
    },
    {
     "data": {
      "text/html": [
       "\n",
       "    <style>\n",
       "        .wandb-row {\n",
       "            display: flex;\n",
       "            flex-direction: row;\n",
       "            flex-wrap: wrap;\n",
       "            justify-content: flex-start;\n",
       "            width: 100%;\n",
       "        }\n",
       "        .wandb-col {\n",
       "            display: flex;\n",
       "            flex-direction: column;\n",
       "            flex-basis: 100%;\n",
       "            flex: 1;\n",
       "            padding: 10px;\n",
       "        }\n",
       "    </style>\n",
       "<div class=\"wandb-row\"><div class=\"wandb-col\"><h3>Run history:</h3><br/><table class=\"wandb\"><tr><td>gcn/accuracy</td><td>▁</td></tr><tr><td>gcn/loss</td><td>█▇█▇▇▇▇▆▆▆▆▆▆▆▅▆▆▅▅▅▅▅▅▄▄▄▄▄▄▃▃▄▃▂▃▂▂▃▂▁</td></tr></table><br/></div><div class=\"wandb-col\"><h3>Run summary:</h3><br/><table class=\"wandb\"><tr><td>gcn/accuracy</td><td>0.62</td></tr><tr><td>gcn/loss</td><td>1.81916</td></tr></table><br/></div></div>"
      ],
      "text/plain": [
       "<IPython.core.display.HTML object>"
      ]
     },
     "metadata": {},
     "output_type": "display_data"
    },
    {
     "data": {
      "text/html": [
       " View run <strong style=\"color:#cdcd00\">stellar-sweep-40</strong> at: <a href='https://wandb.ai/deepakpokkalla/node-classification/runs/cb6cdhkf' target=\"_blank\">https://wandb.ai/deepakpokkalla/node-classification/runs/cb6cdhkf</a><br/> View project at: <a href='https://wandb.ai/deepakpokkalla/node-classification' target=\"_blank\">https://wandb.ai/deepakpokkalla/node-classification</a><br/>Synced 5 W&B file(s), 0 media file(s), 4 artifact file(s) and 2 other file(s)"
      ],
      "text/plain": [
       "<IPython.core.display.HTML object>"
      ]
     },
     "metadata": {},
     "output_type": "display_data"
    },
    {
     "data": {
      "text/html": [
       "Find logs at: <code>.\\wandb\\run-20241122_210921-cb6cdhkf\\logs</code>"
      ],
      "text/plain": [
       "<IPython.core.display.HTML object>"
      ]
     },
     "metadata": {},
     "output_type": "display_data"
    },
    {
     "name": "stderr",
     "output_type": "stream",
     "text": [
      "\u001b[34m\u001b[1mwandb\u001b[0m: Agent Starting Run: 6wyv12hq with config:\n",
      "\u001b[34m\u001b[1mwandb\u001b[0m: \thidden_channels: 32\n",
      "\u001b[34m\u001b[1mwandb\u001b[0m: \tlr: 0.0001288031416081094\n",
      "\u001b[34m\u001b[1mwandb\u001b[0m: \tweight_decay: 0.0005011171242172818\n"
     ]
    },
    {
     "data": {
      "text/html": [
       "Tracking run with wandb version 0.18.7"
      ],
      "text/plain": [
       "<IPython.core.display.HTML object>"
      ]
     },
     "metadata": {},
     "output_type": "display_data"
    },
    {
     "data": {
      "text/html": [
       "Run data is saved locally in <code>d:\\users\\dpa13\\projects\\my_projects\\deeplearning_tutorials\\pytorch_geometric\\official_examples\\wandb\\run-20241122_210933-6wyv12hq</code>"
      ],
      "text/plain": [
       "<IPython.core.display.HTML object>"
      ]
     },
     "metadata": {},
     "output_type": "display_data"
    },
    {
     "data": {
      "text/html": [
       "Syncing run <strong><a href='https://wandb.ai/deepakpokkalla/node-classification/runs/6wyv12hq' target=\"_blank\">jumping-sweep-41</a></strong> to <a href='https://wandb.ai/deepakpokkalla/node-classification' target=\"_blank\">Weights & Biases</a> (<a href='https://wandb.me/developer-guide' target=\"_blank\">docs</a>)<br/>Sweep page: <a href='https://wandb.ai/deepakpokkalla/node-classification/sweeps/reuf9j38' target=\"_blank\">https://wandb.ai/deepakpokkalla/node-classification/sweeps/reuf9j38</a>"
      ],
      "text/plain": [
       "<IPython.core.display.HTML object>"
      ]
     },
     "metadata": {},
     "output_type": "display_data"
    },
    {
     "data": {
      "text/html": [
       " View project at <a href='https://wandb.ai/deepakpokkalla/node-classification' target=\"_blank\">https://wandb.ai/deepakpokkalla/node-classification</a>"
      ],
      "text/plain": [
       "<IPython.core.display.HTML object>"
      ]
     },
     "metadata": {},
     "output_type": "display_data"
    },
    {
     "data": {
      "text/html": [
       " View sweep at <a href='https://wandb.ai/deepakpokkalla/node-classification/sweeps/reuf9j38' target=\"_blank\">https://wandb.ai/deepakpokkalla/node-classification/sweeps/reuf9j38</a>"
      ],
      "text/plain": [
       "<IPython.core.display.HTML object>"
      ]
     },
     "metadata": {},
     "output_type": "display_data"
    },
    {
     "data": {
      "text/html": [
       " View run at <a href='https://wandb.ai/deepakpokkalla/node-classification/runs/6wyv12hq' target=\"_blank\">https://wandb.ai/deepakpokkalla/node-classification/runs/6wyv12hq</a>"
      ],
      "text/plain": [
       "<IPython.core.display.HTML object>"
      ]
     },
     "metadata": {},
     "output_type": "display_data"
    },
    {
     "name": "stderr",
     "output_type": "stream",
     "text": [
      "100%|██████████| 100/100 [00:02<00:00, 41.47it/s]\n"
     ]
    },
    {
     "data": {
      "text/html": [
       "\n",
       "    <style>\n",
       "        .wandb-row {\n",
       "            display: flex;\n",
       "            flex-direction: row;\n",
       "            flex-wrap: wrap;\n",
       "            justify-content: flex-start;\n",
       "            width: 100%;\n",
       "        }\n",
       "        .wandb-col {\n",
       "            display: flex;\n",
       "            flex-direction: column;\n",
       "            flex-basis: 100%;\n",
       "            flex: 1;\n",
       "            padding: 10px;\n",
       "        }\n",
       "    </style>\n",
       "<div class=\"wandb-row\"><div class=\"wandb-col\"><h3>Run history:</h3><br/><table class=\"wandb\"><tr><td>gcn/accuracy</td><td>▁</td></tr><tr><td>gcn/loss</td><td>▄▄▄▅▄▆▅▆▅▅▆▇▄▄▆▇▄▅▅▅▄▇▄▄▄▇█▃▃▆▅▃▄▁▂▂▃▁▂▁</td></tr></table><br/></div><div class=\"wandb-col\"><h3>Run summary:</h3><br/><table class=\"wandb\"><tr><td>gcn/accuracy</td><td>0.532</td></tr><tr><td>gcn/loss</td><td>1.93181</td></tr></table><br/></div></div>"
      ],
      "text/plain": [
       "<IPython.core.display.HTML object>"
      ]
     },
     "metadata": {},
     "output_type": "display_data"
    },
    {
     "data": {
      "text/html": [
       " View run <strong style=\"color:#cdcd00\">jumping-sweep-41</strong> at: <a href='https://wandb.ai/deepakpokkalla/node-classification/runs/6wyv12hq' target=\"_blank\">https://wandb.ai/deepakpokkalla/node-classification/runs/6wyv12hq</a><br/> View project at: <a href='https://wandb.ai/deepakpokkalla/node-classification' target=\"_blank\">https://wandb.ai/deepakpokkalla/node-classification</a><br/>Synced 5 W&B file(s), 0 media file(s), 4 artifact file(s) and 2 other file(s)"
      ],
      "text/plain": [
       "<IPython.core.display.HTML object>"
      ]
     },
     "metadata": {},
     "output_type": "display_data"
    },
    {
     "data": {
      "text/html": [
       "Find logs at: <code>.\\wandb\\run-20241122_210933-6wyv12hq\\logs</code>"
      ],
      "text/plain": [
       "<IPython.core.display.HTML object>"
      ]
     },
     "metadata": {},
     "output_type": "display_data"
    },
    {
     "name": "stderr",
     "output_type": "stream",
     "text": [
      "\u001b[34m\u001b[1mwandb\u001b[0m: Sweep Agent: Waiting for job.\n",
      "\u001b[34m\u001b[1mwandb\u001b[0m: Job received.\n",
      "\u001b[34m\u001b[1mwandb\u001b[0m: Agent Starting Run: s62uqjsc with config:\n",
      "\u001b[34m\u001b[1mwandb\u001b[0m: \thidden_channels: 16\n",
      "\u001b[34m\u001b[1mwandb\u001b[0m: \tlr: 0.0006740315896175971\n",
      "\u001b[34m\u001b[1mwandb\u001b[0m: \tweight_decay: 0.0005013491683728212\n"
     ]
    },
    {
     "data": {
      "text/html": [
       "Tracking run with wandb version 0.18.7"
      ],
      "text/plain": [
       "<IPython.core.display.HTML object>"
      ]
     },
     "metadata": {},
     "output_type": "display_data"
    },
    {
     "data": {
      "text/html": [
       "Run data is saved locally in <code>d:\\users\\dpa13\\projects\\my_projects\\deeplearning_tutorials\\pytorch_geometric\\official_examples\\wandb\\run-20241122_210952-s62uqjsc</code>"
      ],
      "text/plain": [
       "<IPython.core.display.HTML object>"
      ]
     },
     "metadata": {},
     "output_type": "display_data"
    },
    {
     "data": {
      "text/html": [
       "Syncing run <strong><a href='https://wandb.ai/deepakpokkalla/node-classification/runs/s62uqjsc' target=\"_blank\">iconic-sweep-42</a></strong> to <a href='https://wandb.ai/deepakpokkalla/node-classification' target=\"_blank\">Weights & Biases</a> (<a href='https://wandb.me/developer-guide' target=\"_blank\">docs</a>)<br/>Sweep page: <a href='https://wandb.ai/deepakpokkalla/node-classification/sweeps/reuf9j38' target=\"_blank\">https://wandb.ai/deepakpokkalla/node-classification/sweeps/reuf9j38</a>"
      ],
      "text/plain": [
       "<IPython.core.display.HTML object>"
      ]
     },
     "metadata": {},
     "output_type": "display_data"
    },
    {
     "data": {
      "text/html": [
       " View project at <a href='https://wandb.ai/deepakpokkalla/node-classification' target=\"_blank\">https://wandb.ai/deepakpokkalla/node-classification</a>"
      ],
      "text/plain": [
       "<IPython.core.display.HTML object>"
      ]
     },
     "metadata": {},
     "output_type": "display_data"
    },
    {
     "data": {
      "text/html": [
       " View sweep at <a href='https://wandb.ai/deepakpokkalla/node-classification/sweeps/reuf9j38' target=\"_blank\">https://wandb.ai/deepakpokkalla/node-classification/sweeps/reuf9j38</a>"
      ],
      "text/plain": [
       "<IPython.core.display.HTML object>"
      ]
     },
     "metadata": {},
     "output_type": "display_data"
    },
    {
     "data": {
      "text/html": [
       " View run at <a href='https://wandb.ai/deepakpokkalla/node-classification/runs/s62uqjsc' target=\"_blank\">https://wandb.ai/deepakpokkalla/node-classification/runs/s62uqjsc</a>"
      ],
      "text/plain": [
       "<IPython.core.display.HTML object>"
      ]
     },
     "metadata": {},
     "output_type": "display_data"
    },
    {
     "name": "stderr",
     "output_type": "stream",
     "text": [
      "100%|██████████| 100/100 [00:01<00:00, 62.19it/s]\n"
     ]
    },
    {
     "data": {
      "text/html": [
       "\n",
       "    <style>\n",
       "        .wandb-row {\n",
       "            display: flex;\n",
       "            flex-direction: row;\n",
       "            flex-wrap: wrap;\n",
       "            justify-content: flex-start;\n",
       "            width: 100%;\n",
       "        }\n",
       "        .wandb-col {\n",
       "            display: flex;\n",
       "            flex-direction: column;\n",
       "            flex-basis: 100%;\n",
       "            flex: 1;\n",
       "            padding: 10px;\n",
       "        }\n",
       "    </style>\n",
       "<div class=\"wandb-row\"><div class=\"wandb-col\"><h3>Run history:</h3><br/><table class=\"wandb\"><tr><td>gcn/accuracy</td><td>▁</td></tr><tr><td>gcn/loss</td><td>██▆▇▇▇█▇▇▇▇▇▅▇▅▆▅▅▅▅▄▄▄▅▄▃▃▃▃▃▂▃▄▂▂▃▂▂▃▁</td></tr></table><br/></div><div class=\"wandb-col\"><h3>Run summary:</h3><br/><table class=\"wandb\"><tr><td>gcn/accuracy</td><td>0.589</td></tr><tr><td>gcn/loss</td><td>1.89535</td></tr></table><br/></div></div>"
      ],
      "text/plain": [
       "<IPython.core.display.HTML object>"
      ]
     },
     "metadata": {},
     "output_type": "display_data"
    },
    {
     "data": {
      "text/html": [
       " View run <strong style=\"color:#cdcd00\">iconic-sweep-42</strong> at: <a href='https://wandb.ai/deepakpokkalla/node-classification/runs/s62uqjsc' target=\"_blank\">https://wandb.ai/deepakpokkalla/node-classification/runs/s62uqjsc</a><br/> View project at: <a href='https://wandb.ai/deepakpokkalla/node-classification' target=\"_blank\">https://wandb.ai/deepakpokkalla/node-classification</a><br/>Synced 5 W&B file(s), 0 media file(s), 4 artifact file(s) and 2 other file(s)"
      ],
      "text/plain": [
       "<IPython.core.display.HTML object>"
      ]
     },
     "metadata": {},
     "output_type": "display_data"
    },
    {
     "data": {
      "text/html": [
       "Find logs at: <code>.\\wandb\\run-20241122_210952-s62uqjsc\\logs</code>"
      ],
      "text/plain": [
       "<IPython.core.display.HTML object>"
      ]
     },
     "metadata": {},
     "output_type": "display_data"
    },
    {
     "name": "stderr",
     "output_type": "stream",
     "text": [
      "\u001b[34m\u001b[1mwandb\u001b[0m: Sweep Agent: Waiting for job.\n",
      "\u001b[34m\u001b[1mwandb\u001b[0m: Job received.\n",
      "\u001b[34m\u001b[1mwandb\u001b[0m: Agent Starting Run: cn3aib1p with config:\n",
      "\u001b[34m\u001b[1mwandb\u001b[0m: \thidden_channels: 32\n",
      "\u001b[34m\u001b[1mwandb\u001b[0m: \tlr: 0.00047268448366093825\n",
      "\u001b[34m\u001b[1mwandb\u001b[0m: \tweight_decay: 0.00047807217632177675\n"
     ]
    },
    {
     "data": {
      "text/html": [
       "Tracking run with wandb version 0.18.7"
      ],
      "text/plain": [
       "<IPython.core.display.HTML object>"
      ]
     },
     "metadata": {},
     "output_type": "display_data"
    },
    {
     "data": {
      "text/html": [
       "Run data is saved locally in <code>d:\\users\\dpa13\\projects\\my_projects\\deeplearning_tutorials\\pytorch_geometric\\official_examples\\wandb\\run-20241122_211010-cn3aib1p</code>"
      ],
      "text/plain": [
       "<IPython.core.display.HTML object>"
      ]
     },
     "metadata": {},
     "output_type": "display_data"
    },
    {
     "data": {
      "text/html": [
       "Syncing run <strong><a href='https://wandb.ai/deepakpokkalla/node-classification/runs/cn3aib1p' target=\"_blank\">neat-sweep-43</a></strong> to <a href='https://wandb.ai/deepakpokkalla/node-classification' target=\"_blank\">Weights & Biases</a> (<a href='https://wandb.me/developer-guide' target=\"_blank\">docs</a>)<br/>Sweep page: <a href='https://wandb.ai/deepakpokkalla/node-classification/sweeps/reuf9j38' target=\"_blank\">https://wandb.ai/deepakpokkalla/node-classification/sweeps/reuf9j38</a>"
      ],
      "text/plain": [
       "<IPython.core.display.HTML object>"
      ]
     },
     "metadata": {},
     "output_type": "display_data"
    },
    {
     "data": {
      "text/html": [
       " View project at <a href='https://wandb.ai/deepakpokkalla/node-classification' target=\"_blank\">https://wandb.ai/deepakpokkalla/node-classification</a>"
      ],
      "text/plain": [
       "<IPython.core.display.HTML object>"
      ]
     },
     "metadata": {},
     "output_type": "display_data"
    },
    {
     "data": {
      "text/html": [
       " View sweep at <a href='https://wandb.ai/deepakpokkalla/node-classification/sweeps/reuf9j38' target=\"_blank\">https://wandb.ai/deepakpokkalla/node-classification/sweeps/reuf9j38</a>"
      ],
      "text/plain": [
       "<IPython.core.display.HTML object>"
      ]
     },
     "metadata": {},
     "output_type": "display_data"
    },
    {
     "data": {
      "text/html": [
       " View run at <a href='https://wandb.ai/deepakpokkalla/node-classification/runs/cn3aib1p' target=\"_blank\">https://wandb.ai/deepakpokkalla/node-classification/runs/cn3aib1p</a>"
      ],
      "text/plain": [
       "<IPython.core.display.HTML object>"
      ]
     },
     "metadata": {},
     "output_type": "display_data"
    },
    {
     "name": "stderr",
     "output_type": "stream",
     "text": [
      "100%|██████████| 100/100 [00:02<00:00, 40.77it/s]\n"
     ]
    },
    {
     "data": {
      "text/html": [
       "\n",
       "    <style>\n",
       "        .wandb-row {\n",
       "            display: flex;\n",
       "            flex-direction: row;\n",
       "            flex-wrap: wrap;\n",
       "            justify-content: flex-start;\n",
       "            width: 100%;\n",
       "        }\n",
       "        .wandb-col {\n",
       "            display: flex;\n",
       "            flex-direction: column;\n",
       "            flex-basis: 100%;\n",
       "            flex: 1;\n",
       "            padding: 10px;\n",
       "        }\n",
       "    </style>\n",
       "<div class=\"wandb-row\"><div class=\"wandb-col\"><h3>Run history:</h3><br/><table class=\"wandb\"><tr><td>gcn/accuracy</td><td>▁</td></tr><tr><td>gcn/loss</td><td>██▇▇▇▇▆▆▆▅▅▅▆▅▅▄▅▅▄▄▄▄▄▃▄▃▄▃▃▄▃▂▃▂▂▂▂▂▂▁</td></tr></table><br/></div><div class=\"wandb-col\"><h3>Run summary:</h3><br/><table class=\"wandb\"><tr><td>gcn/accuracy</td><td>0.581</td></tr><tr><td>gcn/loss</td><td>1.8745</td></tr></table><br/></div></div>"
      ],
      "text/plain": [
       "<IPython.core.display.HTML object>"
      ]
     },
     "metadata": {},
     "output_type": "display_data"
    },
    {
     "data": {
      "text/html": [
       " View run <strong style=\"color:#cdcd00\">neat-sweep-43</strong> at: <a href='https://wandb.ai/deepakpokkalla/node-classification/runs/cn3aib1p' target=\"_blank\">https://wandb.ai/deepakpokkalla/node-classification/runs/cn3aib1p</a><br/> View project at: <a href='https://wandb.ai/deepakpokkalla/node-classification' target=\"_blank\">https://wandb.ai/deepakpokkalla/node-classification</a><br/>Synced 5 W&B file(s), 0 media file(s), 4 artifact file(s) and 2 other file(s)"
      ],
      "text/plain": [
       "<IPython.core.display.HTML object>"
      ]
     },
     "metadata": {},
     "output_type": "display_data"
    },
    {
     "data": {
      "text/html": [
       "Find logs at: <code>.\\wandb\\run-20241122_211010-cn3aib1p\\logs</code>"
      ],
      "text/plain": [
       "<IPython.core.display.HTML object>"
      ]
     },
     "metadata": {},
     "output_type": "display_data"
    },
    {
     "name": "stderr",
     "output_type": "stream",
     "text": [
      "\u001b[34m\u001b[1mwandb\u001b[0m: Agent Starting Run: mmm92y1y with config:\n",
      "\u001b[34m\u001b[1mwandb\u001b[0m: \thidden_channels: 32\n",
      "\u001b[34m\u001b[1mwandb\u001b[0m: \tlr: 0.0008990484814672371\n",
      "\u001b[34m\u001b[1mwandb\u001b[0m: \tweight_decay: 0.0004934111029972887\n"
     ]
    },
    {
     "data": {
      "text/html": [
       "Tracking run with wandb version 0.18.7"
      ],
      "text/plain": [
       "<IPython.core.display.HTML object>"
      ]
     },
     "metadata": {},
     "output_type": "display_data"
    },
    {
     "data": {
      "text/html": [
       "Run data is saved locally in <code>d:\\users\\dpa13\\projects\\my_projects\\deeplearning_tutorials\\pytorch_geometric\\official_examples\\wandb\\run-20241122_211021-mmm92y1y</code>"
      ],
      "text/plain": [
       "<IPython.core.display.HTML object>"
      ]
     },
     "metadata": {},
     "output_type": "display_data"
    },
    {
     "data": {
      "text/html": [
       "Syncing run <strong><a href='https://wandb.ai/deepakpokkalla/node-classification/runs/mmm92y1y' target=\"_blank\">gallant-sweep-44</a></strong> to <a href='https://wandb.ai/deepakpokkalla/node-classification' target=\"_blank\">Weights & Biases</a> (<a href='https://wandb.me/developer-guide' target=\"_blank\">docs</a>)<br/>Sweep page: <a href='https://wandb.ai/deepakpokkalla/node-classification/sweeps/reuf9j38' target=\"_blank\">https://wandb.ai/deepakpokkalla/node-classification/sweeps/reuf9j38</a>"
      ],
      "text/plain": [
       "<IPython.core.display.HTML object>"
      ]
     },
     "metadata": {},
     "output_type": "display_data"
    },
    {
     "data": {
      "text/html": [
       " View project at <a href='https://wandb.ai/deepakpokkalla/node-classification' target=\"_blank\">https://wandb.ai/deepakpokkalla/node-classification</a>"
      ],
      "text/plain": [
       "<IPython.core.display.HTML object>"
      ]
     },
     "metadata": {},
     "output_type": "display_data"
    },
    {
     "data": {
      "text/html": [
       " View sweep at <a href='https://wandb.ai/deepakpokkalla/node-classification/sweeps/reuf9j38' target=\"_blank\">https://wandb.ai/deepakpokkalla/node-classification/sweeps/reuf9j38</a>"
      ],
      "text/plain": [
       "<IPython.core.display.HTML object>"
      ]
     },
     "metadata": {},
     "output_type": "display_data"
    },
    {
     "data": {
      "text/html": [
       " View run at <a href='https://wandb.ai/deepakpokkalla/node-classification/runs/mmm92y1y' target=\"_blank\">https://wandb.ai/deepakpokkalla/node-classification/runs/mmm92y1y</a>"
      ],
      "text/plain": [
       "<IPython.core.display.HTML object>"
      ]
     },
     "metadata": {},
     "output_type": "display_data"
    },
    {
     "name": "stderr",
     "output_type": "stream",
     "text": [
      "100%|██████████| 100/100 [00:02<00:00, 40.71it/s]\n"
     ]
    },
    {
     "data": {
      "text/html": [
       "\n",
       "    <style>\n",
       "        .wandb-row {\n",
       "            display: flex;\n",
       "            flex-direction: row;\n",
       "            flex-wrap: wrap;\n",
       "            justify-content: flex-start;\n",
       "            width: 100%;\n",
       "        }\n",
       "        .wandb-col {\n",
       "            display: flex;\n",
       "            flex-direction: column;\n",
       "            flex-basis: 100%;\n",
       "            flex: 1;\n",
       "            padding: 10px;\n",
       "        }\n",
       "    </style>\n",
       "<div class=\"wandb-row\"><div class=\"wandb-col\"><h3>Run history:</h3><br/><table class=\"wandb\"><tr><td>gcn/accuracy</td><td>▁</td></tr><tr><td>gcn/loss</td><td>████▇▇▇▇▇▇▇▆▆▆▆▆▆▅▆▅▄▄▄▄▄▅▄▄▄▃▃▄▂▂▂▂▂▂▂▁</td></tr></table><br/></div><div class=\"wandb-col\"><h3>Run summary:</h3><br/><table class=\"wandb\"><tr><td>gcn/accuracy</td><td>0.616</td></tr><tr><td>gcn/loss</td><td>1.81191</td></tr></table><br/></div></div>"
      ],
      "text/plain": [
       "<IPython.core.display.HTML object>"
      ]
     },
     "metadata": {},
     "output_type": "display_data"
    },
    {
     "data": {
      "text/html": [
       " View run <strong style=\"color:#cdcd00\">gallant-sweep-44</strong> at: <a href='https://wandb.ai/deepakpokkalla/node-classification/runs/mmm92y1y' target=\"_blank\">https://wandb.ai/deepakpokkalla/node-classification/runs/mmm92y1y</a><br/> View project at: <a href='https://wandb.ai/deepakpokkalla/node-classification' target=\"_blank\">https://wandb.ai/deepakpokkalla/node-classification</a><br/>Synced 5 W&B file(s), 0 media file(s), 4 artifact file(s) and 2 other file(s)"
      ],
      "text/plain": [
       "<IPython.core.display.HTML object>"
      ]
     },
     "metadata": {},
     "output_type": "display_data"
    },
    {
     "data": {
      "text/html": [
       "Find logs at: <code>.\\wandb\\run-20241122_211021-mmm92y1y\\logs</code>"
      ],
      "text/plain": [
       "<IPython.core.display.HTML object>"
      ]
     },
     "metadata": {},
     "output_type": "display_data"
    },
    {
     "name": "stderr",
     "output_type": "stream",
     "text": [
      "\u001b[34m\u001b[1mwandb\u001b[0m: Agent Starting Run: mk6s5g0g with config:\n",
      "\u001b[34m\u001b[1mwandb\u001b[0m: \thidden_channels: 8\n",
      "\u001b[34m\u001b[1mwandb\u001b[0m: \tlr: 0.0009284165387898696\n",
      "\u001b[34m\u001b[1mwandb\u001b[0m: \tweight_decay: 0.0004921021564873976\n"
     ]
    },
    {
     "data": {
      "text/html": [
       "Tracking run with wandb version 0.18.7"
      ],
      "text/plain": [
       "<IPython.core.display.HTML object>"
      ]
     },
     "metadata": {},
     "output_type": "display_data"
    },
    {
     "data": {
      "text/html": [
       "Run data is saved locally in <code>d:\\users\\dpa13\\projects\\my_projects\\deeplearning_tutorials\\pytorch_geometric\\official_examples\\wandb\\run-20241122_211032-mk6s5g0g</code>"
      ],
      "text/plain": [
       "<IPython.core.display.HTML object>"
      ]
     },
     "metadata": {},
     "output_type": "display_data"
    },
    {
     "data": {
      "text/html": [
       "Syncing run <strong><a href='https://wandb.ai/deepakpokkalla/node-classification/runs/mk6s5g0g' target=\"_blank\">misty-sweep-45</a></strong> to <a href='https://wandb.ai/deepakpokkalla/node-classification' target=\"_blank\">Weights & Biases</a> (<a href='https://wandb.me/developer-guide' target=\"_blank\">docs</a>)<br/>Sweep page: <a href='https://wandb.ai/deepakpokkalla/node-classification/sweeps/reuf9j38' target=\"_blank\">https://wandb.ai/deepakpokkalla/node-classification/sweeps/reuf9j38</a>"
      ],
      "text/plain": [
       "<IPython.core.display.HTML object>"
      ]
     },
     "metadata": {},
     "output_type": "display_data"
    },
    {
     "data": {
      "text/html": [
       " View project at <a href='https://wandb.ai/deepakpokkalla/node-classification' target=\"_blank\">https://wandb.ai/deepakpokkalla/node-classification</a>"
      ],
      "text/plain": [
       "<IPython.core.display.HTML object>"
      ]
     },
     "metadata": {},
     "output_type": "display_data"
    },
    {
     "data": {
      "text/html": [
       " View sweep at <a href='https://wandb.ai/deepakpokkalla/node-classification/sweeps/reuf9j38' target=\"_blank\">https://wandb.ai/deepakpokkalla/node-classification/sweeps/reuf9j38</a>"
      ],
      "text/plain": [
       "<IPython.core.display.HTML object>"
      ]
     },
     "metadata": {},
     "output_type": "display_data"
    },
    {
     "data": {
      "text/html": [
       " View run at <a href='https://wandb.ai/deepakpokkalla/node-classification/runs/mk6s5g0g' target=\"_blank\">https://wandb.ai/deepakpokkalla/node-classification/runs/mk6s5g0g</a>"
      ],
      "text/plain": [
       "<IPython.core.display.HTML object>"
      ]
     },
     "metadata": {},
     "output_type": "display_data"
    },
    {
     "name": "stderr",
     "output_type": "stream",
     "text": [
      "100%|██████████| 100/100 [00:01<00:00, 57.02it/s]\n"
     ]
    },
    {
     "data": {
      "text/html": [
       "\n",
       "    <style>\n",
       "        .wandb-row {\n",
       "            display: flex;\n",
       "            flex-direction: row;\n",
       "            flex-wrap: wrap;\n",
       "            justify-content: flex-start;\n",
       "            width: 100%;\n",
       "        }\n",
       "        .wandb-col {\n",
       "            display: flex;\n",
       "            flex-direction: column;\n",
       "            flex-basis: 100%;\n",
       "            flex: 1;\n",
       "            padding: 10px;\n",
       "        }\n",
       "    </style>\n",
       "<div class=\"wandb-row\"><div class=\"wandb-col\"><h3>Run history:</h3><br/><table class=\"wandb\"><tr><td>gcn/accuracy</td><td>▁</td></tr><tr><td>gcn/loss</td><td>████▇▇▇▇▇▇▆▆▆▆▆▅▅▅▅▅▅▄▄▄▄▄▄▄▃▃▂▃▂▂▂▂▂▁▁▁</td></tr></table><br/></div><div class=\"wandb-col\"><h3>Run summary:</h3><br/><table class=\"wandb\"><tr><td>gcn/accuracy</td><td>0.59</td></tr><tr><td>gcn/loss</td><td>1.86931</td></tr></table><br/></div></div>"
      ],
      "text/plain": [
       "<IPython.core.display.HTML object>"
      ]
     },
     "metadata": {},
     "output_type": "display_data"
    },
    {
     "data": {
      "text/html": [
       " View run <strong style=\"color:#cdcd00\">misty-sweep-45</strong> at: <a href='https://wandb.ai/deepakpokkalla/node-classification/runs/mk6s5g0g' target=\"_blank\">https://wandb.ai/deepakpokkalla/node-classification/runs/mk6s5g0g</a><br/> View project at: <a href='https://wandb.ai/deepakpokkalla/node-classification' target=\"_blank\">https://wandb.ai/deepakpokkalla/node-classification</a><br/>Synced 5 W&B file(s), 0 media file(s), 4 artifact file(s) and 2 other file(s)"
      ],
      "text/plain": [
       "<IPython.core.display.HTML object>"
      ]
     },
     "metadata": {},
     "output_type": "display_data"
    },
    {
     "data": {
      "text/html": [
       "Find logs at: <code>.\\wandb\\run-20241122_211032-mk6s5g0g\\logs</code>"
      ],
      "text/plain": [
       "<IPython.core.display.HTML object>"
      ]
     },
     "metadata": {},
     "output_type": "display_data"
    },
    {
     "name": "stderr",
     "output_type": "stream",
     "text": [
      "\u001b[34m\u001b[1mwandb\u001b[0m: Agent Starting Run: dxcg0m31 with config:\n",
      "\u001b[34m\u001b[1mwandb\u001b[0m: \thidden_channels: 8\n",
      "\u001b[34m\u001b[1mwandb\u001b[0m: \tlr: 0.0006178770579333288\n",
      "\u001b[34m\u001b[1mwandb\u001b[0m: \tweight_decay: 0.0005247015796682764\n"
     ]
    },
    {
     "data": {
      "text/html": [
       "Tracking run with wandb version 0.18.7"
      ],
      "text/plain": [
       "<IPython.core.display.HTML object>"
      ]
     },
     "metadata": {},
     "output_type": "display_data"
    },
    {
     "data": {
      "text/html": [
       "Run data is saved locally in <code>d:\\users\\dpa13\\projects\\my_projects\\deeplearning_tutorials\\pytorch_geometric\\official_examples\\wandb\\run-20241122_211047-dxcg0m31</code>"
      ],
      "text/plain": [
       "<IPython.core.display.HTML object>"
      ]
     },
     "metadata": {},
     "output_type": "display_data"
    },
    {
     "data": {
      "text/html": [
       "Syncing run <strong><a href='https://wandb.ai/deepakpokkalla/node-classification/runs/dxcg0m31' target=\"_blank\">fine-sweep-46</a></strong> to <a href='https://wandb.ai/deepakpokkalla/node-classification' target=\"_blank\">Weights & Biases</a> (<a href='https://wandb.me/developer-guide' target=\"_blank\">docs</a>)<br/>Sweep page: <a href='https://wandb.ai/deepakpokkalla/node-classification/sweeps/reuf9j38' target=\"_blank\">https://wandb.ai/deepakpokkalla/node-classification/sweeps/reuf9j38</a>"
      ],
      "text/plain": [
       "<IPython.core.display.HTML object>"
      ]
     },
     "metadata": {},
     "output_type": "display_data"
    },
    {
     "data": {
      "text/html": [
       " View project at <a href='https://wandb.ai/deepakpokkalla/node-classification' target=\"_blank\">https://wandb.ai/deepakpokkalla/node-classification</a>"
      ],
      "text/plain": [
       "<IPython.core.display.HTML object>"
      ]
     },
     "metadata": {},
     "output_type": "display_data"
    },
    {
     "data": {
      "text/html": [
       " View sweep at <a href='https://wandb.ai/deepakpokkalla/node-classification/sweeps/reuf9j38' target=\"_blank\">https://wandb.ai/deepakpokkalla/node-classification/sweeps/reuf9j38</a>"
      ],
      "text/plain": [
       "<IPython.core.display.HTML object>"
      ]
     },
     "metadata": {},
     "output_type": "display_data"
    },
    {
     "data": {
      "text/html": [
       " View run at <a href='https://wandb.ai/deepakpokkalla/node-classification/runs/dxcg0m31' target=\"_blank\">https://wandb.ai/deepakpokkalla/node-classification/runs/dxcg0m31</a>"
      ],
      "text/plain": [
       "<IPython.core.display.HTML object>"
      ]
     },
     "metadata": {},
     "output_type": "display_data"
    },
    {
     "name": "stderr",
     "output_type": "stream",
     "text": [
      "100%|██████████| 100/100 [00:01<00:00, 63.29it/s]\n"
     ]
    },
    {
     "data": {
      "text/html": [
       "\n",
       "    <style>\n",
       "        .wandb-row {\n",
       "            display: flex;\n",
       "            flex-direction: row;\n",
       "            flex-wrap: wrap;\n",
       "            justify-content: flex-start;\n",
       "            width: 100%;\n",
       "        }\n",
       "        .wandb-col {\n",
       "            display: flex;\n",
       "            flex-direction: column;\n",
       "            flex-basis: 100%;\n",
       "            flex: 1;\n",
       "            padding: 10px;\n",
       "        }\n",
       "    </style>\n",
       "<div class=\"wandb-row\"><div class=\"wandb-col\"><h3>Run history:</h3><br/><table class=\"wandb\"><tr><td>gcn/accuracy</td><td>▁</td></tr><tr><td>gcn/loss</td><td>██████▇▇▇▇▇▆▆▆▆▆▅▅▅▅▄▄▄▄▄▄▄▃▄▃▃▃▂▃▂▂▂▂▁▁</td></tr></table><br/></div><div class=\"wandb-col\"><h3>Run summary:</h3><br/><table class=\"wandb\"><tr><td>gcn/accuracy</td><td>0.573</td></tr><tr><td>gcn/loss</td><td>1.89837</td></tr></table><br/></div></div>"
      ],
      "text/plain": [
       "<IPython.core.display.HTML object>"
      ]
     },
     "metadata": {},
     "output_type": "display_data"
    },
    {
     "data": {
      "text/html": [
       " View run <strong style=\"color:#cdcd00\">fine-sweep-46</strong> at: <a href='https://wandb.ai/deepakpokkalla/node-classification/runs/dxcg0m31' target=\"_blank\">https://wandb.ai/deepakpokkalla/node-classification/runs/dxcg0m31</a><br/> View project at: <a href='https://wandb.ai/deepakpokkalla/node-classification' target=\"_blank\">https://wandb.ai/deepakpokkalla/node-classification</a><br/>Synced 5 W&B file(s), 0 media file(s), 4 artifact file(s) and 2 other file(s)"
      ],
      "text/plain": [
       "<IPython.core.display.HTML object>"
      ]
     },
     "metadata": {},
     "output_type": "display_data"
    },
    {
     "data": {
      "text/html": [
       "Find logs at: <code>.\\wandb\\run-20241122_211047-dxcg0m31\\logs</code>"
      ],
      "text/plain": [
       "<IPython.core.display.HTML object>"
      ]
     },
     "metadata": {},
     "output_type": "display_data"
    },
    {
     "name": "stderr",
     "output_type": "stream",
     "text": [
      "\u001b[34m\u001b[1mwandb\u001b[0m: Agent Starting Run: ta0ejby1 with config:\n",
      "\u001b[34m\u001b[1mwandb\u001b[0m: \thidden_channels: 32\n",
      "\u001b[34m\u001b[1mwandb\u001b[0m: \tlr: 0.000360689837787196\n",
      "\u001b[34m\u001b[1mwandb\u001b[0m: \tweight_decay: 0.0004995787779448731\n"
     ]
    },
    {
     "data": {
      "text/html": [
       "Tracking run with wandb version 0.18.7"
      ],
      "text/plain": [
       "<IPython.core.display.HTML object>"
      ]
     },
     "metadata": {},
     "output_type": "display_data"
    },
    {
     "data": {
      "text/html": [
       "Run data is saved locally in <code>d:\\users\\dpa13\\projects\\my_projects\\deeplearning_tutorials\\pytorch_geometric\\official_examples\\wandb\\run-20241122_211058-ta0ejby1</code>"
      ],
      "text/plain": [
       "<IPython.core.display.HTML object>"
      ]
     },
     "metadata": {},
     "output_type": "display_data"
    },
    {
     "data": {
      "text/html": [
       "Syncing run <strong><a href='https://wandb.ai/deepakpokkalla/node-classification/runs/ta0ejby1' target=\"_blank\">prime-sweep-47</a></strong> to <a href='https://wandb.ai/deepakpokkalla/node-classification' target=\"_blank\">Weights & Biases</a> (<a href='https://wandb.me/developer-guide' target=\"_blank\">docs</a>)<br/>Sweep page: <a href='https://wandb.ai/deepakpokkalla/node-classification/sweeps/reuf9j38' target=\"_blank\">https://wandb.ai/deepakpokkalla/node-classification/sweeps/reuf9j38</a>"
      ],
      "text/plain": [
       "<IPython.core.display.HTML object>"
      ]
     },
     "metadata": {},
     "output_type": "display_data"
    },
    {
     "data": {
      "text/html": [
       " View project at <a href='https://wandb.ai/deepakpokkalla/node-classification' target=\"_blank\">https://wandb.ai/deepakpokkalla/node-classification</a>"
      ],
      "text/plain": [
       "<IPython.core.display.HTML object>"
      ]
     },
     "metadata": {},
     "output_type": "display_data"
    },
    {
     "data": {
      "text/html": [
       " View sweep at <a href='https://wandb.ai/deepakpokkalla/node-classification/sweeps/reuf9j38' target=\"_blank\">https://wandb.ai/deepakpokkalla/node-classification/sweeps/reuf9j38</a>"
      ],
      "text/plain": [
       "<IPython.core.display.HTML object>"
      ]
     },
     "metadata": {},
     "output_type": "display_data"
    },
    {
     "data": {
      "text/html": [
       " View run at <a href='https://wandb.ai/deepakpokkalla/node-classification/runs/ta0ejby1' target=\"_blank\">https://wandb.ai/deepakpokkalla/node-classification/runs/ta0ejby1</a>"
      ],
      "text/plain": [
       "<IPython.core.display.HTML object>"
      ]
     },
     "metadata": {},
     "output_type": "display_data"
    },
    {
     "name": "stderr",
     "output_type": "stream",
     "text": [
      "100%|██████████| 100/100 [00:02<00:00, 40.94it/s]\n"
     ]
    },
    {
     "data": {
      "text/html": [
       "\n",
       "    <style>\n",
       "        .wandb-row {\n",
       "            display: flex;\n",
       "            flex-direction: row;\n",
       "            flex-wrap: wrap;\n",
       "            justify-content: flex-start;\n",
       "            width: 100%;\n",
       "        }\n",
       "        .wandb-col {\n",
       "            display: flex;\n",
       "            flex-direction: column;\n",
       "            flex-basis: 100%;\n",
       "            flex: 1;\n",
       "            padding: 10px;\n",
       "        }\n",
       "    </style>\n",
       "<div class=\"wandb-row\"><div class=\"wandb-col\"><h3>Run history:</h3><br/><table class=\"wandb\"><tr><td>gcn/accuracy</td><td>▁</td></tr><tr><td>gcn/loss</td><td>▅▄█▅▄▅▅▅▄▄▄▄▄▄▄▄▄▄▄▃▃▃▃▃▃▃▃▃▃▂▂▂▂▂▂▁▁▂▁▁</td></tr></table><br/></div><div class=\"wandb-col\"><h3>Run summary:</h3><br/><table class=\"wandb\"><tr><td>gcn/accuracy</td><td>0.583</td></tr><tr><td>gcn/loss</td><td>1.89199</td></tr></table><br/></div></div>"
      ],
      "text/plain": [
       "<IPython.core.display.HTML object>"
      ]
     },
     "metadata": {},
     "output_type": "display_data"
    },
    {
     "data": {
      "text/html": [
       " View run <strong style=\"color:#cdcd00\">prime-sweep-47</strong> at: <a href='https://wandb.ai/deepakpokkalla/node-classification/runs/ta0ejby1' target=\"_blank\">https://wandb.ai/deepakpokkalla/node-classification/runs/ta0ejby1</a><br/> View project at: <a href='https://wandb.ai/deepakpokkalla/node-classification' target=\"_blank\">https://wandb.ai/deepakpokkalla/node-classification</a><br/>Synced 5 W&B file(s), 0 media file(s), 4 artifact file(s) and 2 other file(s)"
      ],
      "text/plain": [
       "<IPython.core.display.HTML object>"
      ]
     },
     "metadata": {},
     "output_type": "display_data"
    },
    {
     "data": {
      "text/html": [
       "Find logs at: <code>.\\wandb\\run-20241122_211058-ta0ejby1\\logs</code>"
      ],
      "text/plain": [
       "<IPython.core.display.HTML object>"
      ]
     },
     "metadata": {},
     "output_type": "display_data"
    },
    {
     "name": "stderr",
     "output_type": "stream",
     "text": [
      "\u001b[34m\u001b[1mwandb\u001b[0m: Agent Starting Run: qxxtk1x2 with config:\n",
      "\u001b[34m\u001b[1mwandb\u001b[0m: \thidden_channels: 8\n",
      "\u001b[34m\u001b[1mwandb\u001b[0m: \tlr: 0.0004660939354632495\n",
      "\u001b[34m\u001b[1mwandb\u001b[0m: \tweight_decay: 0.0004999123359860416\n"
     ]
    },
    {
     "data": {
      "text/html": [
       "Tracking run with wandb version 0.18.7"
      ],
      "text/plain": [
       "<IPython.core.display.HTML object>"
      ]
     },
     "metadata": {},
     "output_type": "display_data"
    },
    {
     "data": {
      "text/html": [
       "Run data is saved locally in <code>d:\\users\\dpa13\\projects\\my_projects\\deeplearning_tutorials\\pytorch_geometric\\official_examples\\wandb\\run-20241122_211109-qxxtk1x2</code>"
      ],
      "text/plain": [
       "<IPython.core.display.HTML object>"
      ]
     },
     "metadata": {},
     "output_type": "display_data"
    },
    {
     "data": {
      "text/html": [
       "Syncing run <strong><a href='https://wandb.ai/deepakpokkalla/node-classification/runs/qxxtk1x2' target=\"_blank\">peachy-sweep-48</a></strong> to <a href='https://wandb.ai/deepakpokkalla/node-classification' target=\"_blank\">Weights & Biases</a> (<a href='https://wandb.me/developer-guide' target=\"_blank\">docs</a>)<br/>Sweep page: <a href='https://wandb.ai/deepakpokkalla/node-classification/sweeps/reuf9j38' target=\"_blank\">https://wandb.ai/deepakpokkalla/node-classification/sweeps/reuf9j38</a>"
      ],
      "text/plain": [
       "<IPython.core.display.HTML object>"
      ]
     },
     "metadata": {},
     "output_type": "display_data"
    },
    {
     "data": {
      "text/html": [
       " View project at <a href='https://wandb.ai/deepakpokkalla/node-classification' target=\"_blank\">https://wandb.ai/deepakpokkalla/node-classification</a>"
      ],
      "text/plain": [
       "<IPython.core.display.HTML object>"
      ]
     },
     "metadata": {},
     "output_type": "display_data"
    },
    {
     "data": {
      "text/html": [
       " View sweep at <a href='https://wandb.ai/deepakpokkalla/node-classification/sweeps/reuf9j38' target=\"_blank\">https://wandb.ai/deepakpokkalla/node-classification/sweeps/reuf9j38</a>"
      ],
      "text/plain": [
       "<IPython.core.display.HTML object>"
      ]
     },
     "metadata": {},
     "output_type": "display_data"
    },
    {
     "data": {
      "text/html": [
       " View run at <a href='https://wandb.ai/deepakpokkalla/node-classification/runs/qxxtk1x2' target=\"_blank\">https://wandb.ai/deepakpokkalla/node-classification/runs/qxxtk1x2</a>"
      ],
      "text/plain": [
       "<IPython.core.display.HTML object>"
      ]
     },
     "metadata": {},
     "output_type": "display_data"
    },
    {
     "name": "stderr",
     "output_type": "stream",
     "text": [
      "100%|██████████| 100/100 [00:01<00:00, 64.25it/s]\n"
     ]
    },
    {
     "data": {
      "text/html": [
       "\n",
       "    <style>\n",
       "        .wandb-row {\n",
       "            display: flex;\n",
       "            flex-direction: row;\n",
       "            flex-wrap: wrap;\n",
       "            justify-content: flex-start;\n",
       "            width: 100%;\n",
       "        }\n",
       "        .wandb-col {\n",
       "            display: flex;\n",
       "            flex-direction: column;\n",
       "            flex-basis: 100%;\n",
       "            flex: 1;\n",
       "            padding: 10px;\n",
       "        }\n",
       "    </style>\n",
       "<div class=\"wandb-row\"><div class=\"wandb-col\"><h3>Run history:</h3><br/><table class=\"wandb\"><tr><td>gcn/accuracy</td><td>▁</td></tr><tr><td>gcn/loss</td><td>███████▇▇▇▇▇▇▇▇▆▆▆▆▆▅▅▅▅▅▄▄▄▃▃▃▃▃▂▂▂▂▂▁▁</td></tr></table><br/></div><div class=\"wandb-col\"><h3>Run summary:</h3><br/><table class=\"wandb\"><tr><td>gcn/accuracy</td><td>0.566</td></tr><tr><td>gcn/loss</td><td>1.91115</td></tr></table><br/></div></div>"
      ],
      "text/plain": [
       "<IPython.core.display.HTML object>"
      ]
     },
     "metadata": {},
     "output_type": "display_data"
    },
    {
     "data": {
      "text/html": [
       " View run <strong style=\"color:#cdcd00\">peachy-sweep-48</strong> at: <a href='https://wandb.ai/deepakpokkalla/node-classification/runs/qxxtk1x2' target=\"_blank\">https://wandb.ai/deepakpokkalla/node-classification/runs/qxxtk1x2</a><br/> View project at: <a href='https://wandb.ai/deepakpokkalla/node-classification' target=\"_blank\">https://wandb.ai/deepakpokkalla/node-classification</a><br/>Synced 5 W&B file(s), 0 media file(s), 4 artifact file(s) and 2 other file(s)"
      ],
      "text/plain": [
       "<IPython.core.display.HTML object>"
      ]
     },
     "metadata": {},
     "output_type": "display_data"
    },
    {
     "data": {
      "text/html": [
       "Find logs at: <code>.\\wandb\\run-20241122_211109-qxxtk1x2\\logs</code>"
      ],
      "text/plain": [
       "<IPython.core.display.HTML object>"
      ]
     },
     "metadata": {},
     "output_type": "display_data"
    },
    {
     "name": "stderr",
     "output_type": "stream",
     "text": [
      "\u001b[34m\u001b[1mwandb\u001b[0m: Agent Starting Run: cl9bikrw with config:\n",
      "\u001b[34m\u001b[1mwandb\u001b[0m: \thidden_channels: 16\n",
      "\u001b[34m\u001b[1mwandb\u001b[0m: \tlr: 0.0004173363768521408\n",
      "\u001b[34m\u001b[1mwandb\u001b[0m: \tweight_decay: 0.0004949956477449045\n"
     ]
    },
    {
     "data": {
      "text/html": [
       "Tracking run with wandb version 0.18.7"
      ],
      "text/plain": [
       "<IPython.core.display.HTML object>"
      ]
     },
     "metadata": {},
     "output_type": "display_data"
    },
    {
     "data": {
      "text/html": [
       "Run data is saved locally in <code>d:\\users\\dpa13\\projects\\my_projects\\deeplearning_tutorials\\pytorch_geometric\\official_examples\\wandb\\run-20241122_211119-cl9bikrw</code>"
      ],
      "text/plain": [
       "<IPython.core.display.HTML object>"
      ]
     },
     "metadata": {},
     "output_type": "display_data"
    },
    {
     "data": {
      "text/html": [
       "Syncing run <strong><a href='https://wandb.ai/deepakpokkalla/node-classification/runs/cl9bikrw' target=\"_blank\">misty-sweep-49</a></strong> to <a href='https://wandb.ai/deepakpokkalla/node-classification' target=\"_blank\">Weights & Biases</a> (<a href='https://wandb.me/developer-guide' target=\"_blank\">docs</a>)<br/>Sweep page: <a href='https://wandb.ai/deepakpokkalla/node-classification/sweeps/reuf9j38' target=\"_blank\">https://wandb.ai/deepakpokkalla/node-classification/sweeps/reuf9j38</a>"
      ],
      "text/plain": [
       "<IPython.core.display.HTML object>"
      ]
     },
     "metadata": {},
     "output_type": "display_data"
    },
    {
     "data": {
      "text/html": [
       " View project at <a href='https://wandb.ai/deepakpokkalla/node-classification' target=\"_blank\">https://wandb.ai/deepakpokkalla/node-classification</a>"
      ],
      "text/plain": [
       "<IPython.core.display.HTML object>"
      ]
     },
     "metadata": {},
     "output_type": "display_data"
    },
    {
     "data": {
      "text/html": [
       " View sweep at <a href='https://wandb.ai/deepakpokkalla/node-classification/sweeps/reuf9j38' target=\"_blank\">https://wandb.ai/deepakpokkalla/node-classification/sweeps/reuf9j38</a>"
      ],
      "text/plain": [
       "<IPython.core.display.HTML object>"
      ]
     },
     "metadata": {},
     "output_type": "display_data"
    },
    {
     "data": {
      "text/html": [
       " View run at <a href='https://wandb.ai/deepakpokkalla/node-classification/runs/cl9bikrw' target=\"_blank\">https://wandb.ai/deepakpokkalla/node-classification/runs/cl9bikrw</a>"
      ],
      "text/plain": [
       "<IPython.core.display.HTML object>"
      ]
     },
     "metadata": {},
     "output_type": "display_data"
    },
    {
     "name": "stderr",
     "output_type": "stream",
     "text": [
      "100%|██████████| 100/100 [00:01<00:00, 63.06it/s]\n"
     ]
    },
    {
     "data": {
      "text/html": [
       "\n",
       "    <style>\n",
       "        .wandb-row {\n",
       "            display: flex;\n",
       "            flex-direction: row;\n",
       "            flex-wrap: wrap;\n",
       "            justify-content: flex-start;\n",
       "            width: 100%;\n",
       "        }\n",
       "        .wandb-col {\n",
       "            display: flex;\n",
       "            flex-direction: column;\n",
       "            flex-basis: 100%;\n",
       "            flex: 1;\n",
       "            padding: 10px;\n",
       "        }\n",
       "    </style>\n",
       "<div class=\"wandb-row\"><div class=\"wandb-col\"><h3>Run history:</h3><br/><table class=\"wandb\"><tr><td>gcn/accuracy</td><td>▁</td></tr><tr><td>gcn/loss</td><td>▆▄▅▅▅█▆▅▅▆▅▄▄▄▄▄▄▄▄▄▃▃▃▄▃▃▃▃▄▂▃▄▂▃▂▁▂▃▂▁</td></tr></table><br/></div><div class=\"wandb-col\"><h3>Run summary:</h3><br/><table class=\"wandb\"><tr><td>gcn/accuracy</td><td>0.613</td></tr><tr><td>gcn/loss</td><td>1.92079</td></tr></table><br/></div></div>"
      ],
      "text/plain": [
       "<IPython.core.display.HTML object>"
      ]
     },
     "metadata": {},
     "output_type": "display_data"
    },
    {
     "data": {
      "text/html": [
       " View run <strong style=\"color:#cdcd00\">misty-sweep-49</strong> at: <a href='https://wandb.ai/deepakpokkalla/node-classification/runs/cl9bikrw' target=\"_blank\">https://wandb.ai/deepakpokkalla/node-classification/runs/cl9bikrw</a><br/> View project at: <a href='https://wandb.ai/deepakpokkalla/node-classification' target=\"_blank\">https://wandb.ai/deepakpokkalla/node-classification</a><br/>Synced 5 W&B file(s), 0 media file(s), 4 artifact file(s) and 2 other file(s)"
      ],
      "text/plain": [
       "<IPython.core.display.HTML object>"
      ]
     },
     "metadata": {},
     "output_type": "display_data"
    },
    {
     "data": {
      "text/html": [
       "Find logs at: <code>.\\wandb\\run-20241122_211119-cl9bikrw\\logs</code>"
      ],
      "text/plain": [
       "<IPython.core.display.HTML object>"
      ]
     },
     "metadata": {},
     "output_type": "display_data"
    },
    {
     "name": "stderr",
     "output_type": "stream",
     "text": [
      "\u001b[34m\u001b[1mwandb\u001b[0m: Sweep Agent: Waiting for job.\n",
      "\u001b[34m\u001b[1mwandb\u001b[0m: Job received.\n",
      "\u001b[34m\u001b[1mwandb\u001b[0m: Agent Starting Run: ok85f0sg with config:\n",
      "\u001b[34m\u001b[1mwandb\u001b[0m: \thidden_channels: 8\n",
      "\u001b[34m\u001b[1mwandb\u001b[0m: \tlr: 0.000487316690583025\n",
      "\u001b[34m\u001b[1mwandb\u001b[0m: \tweight_decay: 0.0005050406252171472\n"
     ]
    },
    {
     "data": {
      "text/html": [
       "Tracking run with wandb version 0.18.7"
      ],
      "text/plain": [
       "<IPython.core.display.HTML object>"
      ]
     },
     "metadata": {},
     "output_type": "display_data"
    },
    {
     "data": {
      "text/html": [
       "Run data is saved locally in <code>d:\\users\\dpa13\\projects\\my_projects\\deeplearning_tutorials\\pytorch_geometric\\official_examples\\wandb\\run-20241122_211145-ok85f0sg</code>"
      ],
      "text/plain": [
       "<IPython.core.display.HTML object>"
      ]
     },
     "metadata": {},
     "output_type": "display_data"
    },
    {
     "data": {
      "text/html": [
       "Syncing run <strong><a href='https://wandb.ai/deepakpokkalla/node-classification/runs/ok85f0sg' target=\"_blank\">daily-sweep-50</a></strong> to <a href='https://wandb.ai/deepakpokkalla/node-classification' target=\"_blank\">Weights & Biases</a> (<a href='https://wandb.me/developer-guide' target=\"_blank\">docs</a>)<br/>Sweep page: <a href='https://wandb.ai/deepakpokkalla/node-classification/sweeps/reuf9j38' target=\"_blank\">https://wandb.ai/deepakpokkalla/node-classification/sweeps/reuf9j38</a>"
      ],
      "text/plain": [
       "<IPython.core.display.HTML object>"
      ]
     },
     "metadata": {},
     "output_type": "display_data"
    },
    {
     "data": {
      "text/html": [
       " View project at <a href='https://wandb.ai/deepakpokkalla/node-classification' target=\"_blank\">https://wandb.ai/deepakpokkalla/node-classification</a>"
      ],
      "text/plain": [
       "<IPython.core.display.HTML object>"
      ]
     },
     "metadata": {},
     "output_type": "display_data"
    },
    {
     "data": {
      "text/html": [
       " View sweep at <a href='https://wandb.ai/deepakpokkalla/node-classification/sweeps/reuf9j38' target=\"_blank\">https://wandb.ai/deepakpokkalla/node-classification/sweeps/reuf9j38</a>"
      ],
      "text/plain": [
       "<IPython.core.display.HTML object>"
      ]
     },
     "metadata": {},
     "output_type": "display_data"
    },
    {
     "data": {
      "text/html": [
       " View run at <a href='https://wandb.ai/deepakpokkalla/node-classification/runs/ok85f0sg' target=\"_blank\">https://wandb.ai/deepakpokkalla/node-classification/runs/ok85f0sg</a>"
      ],
      "text/plain": [
       "<IPython.core.display.HTML object>"
      ]
     },
     "metadata": {},
     "output_type": "display_data"
    },
    {
     "name": "stderr",
     "output_type": "stream",
     "text": [
      "100%|██████████| 100/100 [00:01<00:00, 64.40it/s]\n"
     ]
    },
    {
     "data": {
      "text/html": [
       "\n",
       "    <style>\n",
       "        .wandb-row {\n",
       "            display: flex;\n",
       "            flex-direction: row;\n",
       "            flex-wrap: wrap;\n",
       "            justify-content: flex-start;\n",
       "            width: 100%;\n",
       "        }\n",
       "        .wandb-col {\n",
       "            display: flex;\n",
       "            flex-direction: column;\n",
       "            flex-basis: 100%;\n",
       "            flex: 1;\n",
       "            padding: 10px;\n",
       "        }\n",
       "    </style>\n",
       "<div class=\"wandb-row\"><div class=\"wandb-col\"><h3>Run history:</h3><br/><table class=\"wandb\"><tr><td>gcn/accuracy</td><td>▁</td></tr><tr><td>gcn/loss</td><td>█████▇▇▇▇▇▇▇▆▆▆▆▆▆▅▅▅▅▅▅▅▄▄▄▃▃▃▃▃▃▂▂▂▂▁▁</td></tr></table><br/></div><div class=\"wandb-col\"><h3>Run summary:</h3><br/><table class=\"wandb\"><tr><td>gcn/accuracy</td><td>0.567</td></tr><tr><td>gcn/loss</td><td>1.90945</td></tr></table><br/></div></div>"
      ],
      "text/plain": [
       "<IPython.core.display.HTML object>"
      ]
     },
     "metadata": {},
     "output_type": "display_data"
    },
    {
     "data": {
      "text/html": [
       " View run <strong style=\"color:#cdcd00\">daily-sweep-50</strong> at: <a href='https://wandb.ai/deepakpokkalla/node-classification/runs/ok85f0sg' target=\"_blank\">https://wandb.ai/deepakpokkalla/node-classification/runs/ok85f0sg</a><br/> View project at: <a href='https://wandb.ai/deepakpokkalla/node-classification' target=\"_blank\">https://wandb.ai/deepakpokkalla/node-classification</a><br/>Synced 5 W&B file(s), 0 media file(s), 4 artifact file(s) and 2 other file(s)"
      ],
      "text/plain": [
       "<IPython.core.display.HTML object>"
      ]
     },
     "metadata": {},
     "output_type": "display_data"
    },
    {
     "data": {
      "text/html": [
       "Find logs at: <code>.\\wandb\\run-20241122_211145-ok85f0sg\\logs</code>"
      ],
      "text/plain": [
       "<IPython.core.display.HTML object>"
      ]
     },
     "metadata": {},
     "output_type": "display_data"
    }
   ],
   "source": [
    "# Run the Sweeps agent\n",
    "wandb.agent(sweep_id, project=\"node-classification\", function=agent_fn, count=50)"
   ]
  },
  {
   "cell_type": "code",
   "execution_count": null,
   "metadata": {},
   "outputs": [],
   "source": []
  },
  {
   "cell_type": "code",
   "execution_count": null,
   "metadata": {},
   "outputs": [],
   "source": []
  }
 ],
 "metadata": {
  "kernelspec": {
   "display_name": "gnn_mol",
   "language": "python",
   "name": "python3"
  },
  "language_info": {
   "codemirror_mode": {
    "name": "ipython",
    "version": 3
   },
   "file_extension": ".py",
   "mimetype": "text/x-python",
   "name": "python",
   "nbconvert_exporter": "python",
   "pygments_lexer": "ipython3",
   "version": "3.10.0"
  }
 },
 "nbformat": 4,
 "nbformat_minor": 2
}
